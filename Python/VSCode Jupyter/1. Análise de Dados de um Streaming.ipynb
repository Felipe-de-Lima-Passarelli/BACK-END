{
 "cells": [
  {
   "cell_type": "code",
   "execution_count": 7,
   "metadata": {},
   "outputs": [],
   "source": [
    "#Passo 1: Importar todas bibliotecas necessárias para análise de dados\n",
    "import pandas as pd\n",
    "import plotly.express as px"
   ]
  },
  {
   "cell_type": "code",
   "execution_count": 3,
   "metadata": {},
   "outputs": [
    {
     "data": {
      "text/html": [
       "<div>\n",
       "<style scoped>\n",
       "    .dataframe tbody tr th:only-of-type {\n",
       "        vertical-align: middle;\n",
       "    }\n",
       "\n",
       "    .dataframe tbody tr th {\n",
       "        vertical-align: top;\n",
       "    }\n",
       "\n",
       "    .dataframe thead th {\n",
       "        text-align: right;\n",
       "    }\n",
       "</style>\n",
       "<table border=\"1\" class=\"dataframe\">\n",
       "  <thead>\n",
       "    <tr style=\"text-align: right;\">\n",
       "      <th></th>\n",
       "      <th>id_cliente</th>\n",
       "      <th>idade</th>\n",
       "      <th>genero</th>\n",
       "      <th>tempo_assinatura</th>\n",
       "      <th>metodo_pagamento</th>\n",
       "      <th>pacote</th>\n",
       "      <th>regiao</th>\n",
       "      <th>status_assinatura</th>\n",
       "    </tr>\n",
       "  </thead>\n",
       "  <tbody>\n",
       "    <tr>\n",
       "      <th>0</th>\n",
       "      <td>1</td>\n",
       "      <td>58</td>\n",
       "      <td>Feminino</td>\n",
       "      <td>16</td>\n",
       "      <td>Débito</td>\n",
       "      <td>Premium</td>\n",
       "      <td>Centro-Oeste</td>\n",
       "      <td>Cancelado</td>\n",
       "    </tr>\n",
       "    <tr>\n",
       "      <th>1</th>\n",
       "      <td>2</td>\n",
       "      <td>25</td>\n",
       "      <td>Outros</td>\n",
       "      <td>46</td>\n",
       "      <td>Cartão de Crédito</td>\n",
       "      <td>Premium</td>\n",
       "      <td>Sul</td>\n",
       "      <td>Cancelado</td>\n",
       "    </tr>\n",
       "    <tr>\n",
       "      <th>2</th>\n",
       "      <td>3</td>\n",
       "      <td>19</td>\n",
       "      <td>Masculino</td>\n",
       "      <td>29</td>\n",
       "      <td>Cartão de Crédito</td>\n",
       "      <td>Premium</td>\n",
       "      <td>Norte</td>\n",
       "      <td>Ativo</td>\n",
       "    </tr>\n",
       "    <tr>\n",
       "      <th>3</th>\n",
       "      <td>4</td>\n",
       "      <td>65</td>\n",
       "      <td>Feminino</td>\n",
       "      <td>29</td>\n",
       "      <td>Débito</td>\n",
       "      <td>Padrão</td>\n",
       "      <td>Nordeste</td>\n",
       "      <td>Ativo</td>\n",
       "    </tr>\n",
       "    <tr>\n",
       "      <th>4</th>\n",
       "      <td>5</td>\n",
       "      <td>35</td>\n",
       "      <td>Outros</td>\n",
       "      <td>34</td>\n",
       "      <td>Cartão de Crédito</td>\n",
       "      <td>Premium</td>\n",
       "      <td>Nordeste</td>\n",
       "      <td>Cancelado</td>\n",
       "    </tr>\n",
       "    <tr>\n",
       "      <th>...</th>\n",
       "      <td>...</td>\n",
       "      <td>...</td>\n",
       "      <td>...</td>\n",
       "      <td>...</td>\n",
       "      <td>...</td>\n",
       "      <td>...</td>\n",
       "      <td>...</td>\n",
       "      <td>...</td>\n",
       "    </tr>\n",
       "    <tr>\n",
       "      <th>995</th>\n",
       "      <td>996</td>\n",
       "      <td>68</td>\n",
       "      <td>Masculino</td>\n",
       "      <td>27</td>\n",
       "      <td>Cartão de Crédito</td>\n",
       "      <td>Padrão</td>\n",
       "      <td>Norte</td>\n",
       "      <td>Ativo</td>\n",
       "    </tr>\n",
       "    <tr>\n",
       "      <th>996</th>\n",
       "      <td>997</td>\n",
       "      <td>19</td>\n",
       "      <td>Outros</td>\n",
       "      <td>22</td>\n",
       "      <td>Boleto</td>\n",
       "      <td>Básico</td>\n",
       "      <td>Centro-Oeste</td>\n",
       "      <td>Cancelado</td>\n",
       "    </tr>\n",
       "    <tr>\n",
       "      <th>997</th>\n",
       "      <td>998</td>\n",
       "      <td>23</td>\n",
       "      <td>Outros</td>\n",
       "      <td>46</td>\n",
       "      <td>Cartão de Crédito</td>\n",
       "      <td>Padrão</td>\n",
       "      <td>Norte</td>\n",
       "      <td>Cancelado</td>\n",
       "    </tr>\n",
       "    <tr>\n",
       "      <th>998</th>\n",
       "      <td>999</td>\n",
       "      <td>36</td>\n",
       "      <td>Masculino</td>\n",
       "      <td>31</td>\n",
       "      <td>Cartão de Crédito</td>\n",
       "      <td>Padrão</td>\n",
       "      <td>Nordeste</td>\n",
       "      <td>Cancelado</td>\n",
       "    </tr>\n",
       "    <tr>\n",
       "      <th>999</th>\n",
       "      <td>1000</td>\n",
       "      <td>32</td>\n",
       "      <td>Masculino</td>\n",
       "      <td>7</td>\n",
       "      <td>Cartão de Crédito</td>\n",
       "      <td>Padrão</td>\n",
       "      <td>Sul</td>\n",
       "      <td>Cancelado</td>\n",
       "    </tr>\n",
       "  </tbody>\n",
       "</table>\n",
       "<p>1000 rows × 8 columns</p>\n",
       "</div>"
      ],
      "text/plain": [
       "     id_cliente  idade     genero  tempo_assinatura   metodo_pagamento  \\\n",
       "0             1     58   Feminino                16             Débito   \n",
       "1             2     25     Outros                46  Cartão de Crédito   \n",
       "2             3     19  Masculino                29  Cartão de Crédito   \n",
       "3             4     65   Feminino                29             Débito   \n",
       "4             5     35     Outros                34  Cartão de Crédito   \n",
       "..          ...    ...        ...               ...                ...   \n",
       "995         996     68  Masculino                27  Cartão de Crédito   \n",
       "996         997     19     Outros                22             Boleto   \n",
       "997         998     23     Outros                46  Cartão de Crédito   \n",
       "998         999     36  Masculino                31  Cartão de Crédito   \n",
       "999        1000     32  Masculino                 7  Cartão de Crédito   \n",
       "\n",
       "      pacote        regiao status_assinatura  \n",
       "0    Premium  Centro-Oeste         Cancelado  \n",
       "1    Premium           Sul         Cancelado  \n",
       "2    Premium         Norte             Ativo  \n",
       "3     Padrão      Nordeste             Ativo  \n",
       "4    Premium      Nordeste         Cancelado  \n",
       "..       ...           ...               ...  \n",
       "995   Padrão         Norte             Ativo  \n",
       "996   Básico  Centro-Oeste         Cancelado  \n",
       "997   Padrão         Norte         Cancelado  \n",
       "998   Padrão      Nordeste         Cancelado  \n",
       "999   Padrão           Sul         Cancelado  \n",
       "\n",
       "[1000 rows x 8 columns]"
      ]
     },
     "metadata": {},
     "output_type": "display_data"
    }
   ],
   "source": [
    "#Passo 2: Importar o banco de dados dos clientes\n",
    "tabela = pd.read_csv(\"Dados/Assinantes.csv\")\n",
    "display(tabela)"
   ]
  },
  {
   "cell_type": "code",
   "execution_count": 4,
   "metadata": {},
   "outputs": [
    {
     "name": "stdout",
     "output_type": "stream",
     "text": [
      "<class 'pandas.core.frame.DataFrame'>\n",
      "RangeIndex: 1000 entries, 0 to 999\n",
      "Data columns (total 8 columns):\n",
      " #   Column             Non-Null Count  Dtype \n",
      "---  ------             --------------  ----- \n",
      " 0   id_cliente         1000 non-null   int64 \n",
      " 1   idade              1000 non-null   int64 \n",
      " 2   genero             1000 non-null   object\n",
      " 3   tempo_assinatura   1000 non-null   int64 \n",
      " 4   metodo_pagamento   1000 non-null   object\n",
      " 5   pacote             1000 non-null   object\n",
      " 6   regiao             1000 non-null   object\n",
      " 7   status_assinatura  1000 non-null   object\n",
      "dtypes: int64(3), object(5)\n",
      "memory usage: 62.6+ KB\n"
     ]
    }
   ],
   "source": [
    "#Verificar se existem cédulas vazias\n",
    "tabela.info() # -> Tabela está completa"
   ]
  },
  {
   "cell_type": "code",
   "execution_count": 6,
   "metadata": {},
   "outputs": [
    {
     "data": {
      "text/html": [
       "<div>\n",
       "<style scoped>\n",
       "    .dataframe tbody tr th:only-of-type {\n",
       "        vertical-align: middle;\n",
       "    }\n",
       "\n",
       "    .dataframe tbody tr th {\n",
       "        vertical-align: top;\n",
       "    }\n",
       "\n",
       "    .dataframe thead th {\n",
       "        text-align: right;\n",
       "    }\n",
       "</style>\n",
       "<table border=\"1\" class=\"dataframe\">\n",
       "  <thead>\n",
       "    <tr style=\"text-align: right;\">\n",
       "      <th></th>\n",
       "      <th>idade</th>\n",
       "      <th>genero</th>\n",
       "      <th>metodo_pagamento</th>\n",
       "      <th>pacote</th>\n",
       "      <th>regiao</th>\n",
       "      <th>status_assinatura</th>\n",
       "    </tr>\n",
       "  </thead>\n",
       "  <tbody>\n",
       "    <tr>\n",
       "      <th>0</th>\n",
       "      <td>58</td>\n",
       "      <td>Feminino</td>\n",
       "      <td>Débito</td>\n",
       "      <td>Premium</td>\n",
       "      <td>Centro-Oeste</td>\n",
       "      <td>Cancelado</td>\n",
       "    </tr>\n",
       "    <tr>\n",
       "      <th>1</th>\n",
       "      <td>25</td>\n",
       "      <td>Outros</td>\n",
       "      <td>Cartão de Crédito</td>\n",
       "      <td>Premium</td>\n",
       "      <td>Sul</td>\n",
       "      <td>Cancelado</td>\n",
       "    </tr>\n",
       "    <tr>\n",
       "      <th>2</th>\n",
       "      <td>19</td>\n",
       "      <td>Masculino</td>\n",
       "      <td>Cartão de Crédito</td>\n",
       "      <td>Premium</td>\n",
       "      <td>Norte</td>\n",
       "      <td>Ativo</td>\n",
       "    </tr>\n",
       "    <tr>\n",
       "      <th>3</th>\n",
       "      <td>65</td>\n",
       "      <td>Feminino</td>\n",
       "      <td>Débito</td>\n",
       "      <td>Padrão</td>\n",
       "      <td>Nordeste</td>\n",
       "      <td>Ativo</td>\n",
       "    </tr>\n",
       "    <tr>\n",
       "      <th>4</th>\n",
       "      <td>35</td>\n",
       "      <td>Outros</td>\n",
       "      <td>Cartão de Crédito</td>\n",
       "      <td>Premium</td>\n",
       "      <td>Nordeste</td>\n",
       "      <td>Cancelado</td>\n",
       "    </tr>\n",
       "    <tr>\n",
       "      <th>...</th>\n",
       "      <td>...</td>\n",
       "      <td>...</td>\n",
       "      <td>...</td>\n",
       "      <td>...</td>\n",
       "      <td>...</td>\n",
       "      <td>...</td>\n",
       "    </tr>\n",
       "    <tr>\n",
       "      <th>995</th>\n",
       "      <td>68</td>\n",
       "      <td>Masculino</td>\n",
       "      <td>Cartão de Crédito</td>\n",
       "      <td>Padrão</td>\n",
       "      <td>Norte</td>\n",
       "      <td>Ativo</td>\n",
       "    </tr>\n",
       "    <tr>\n",
       "      <th>996</th>\n",
       "      <td>19</td>\n",
       "      <td>Outros</td>\n",
       "      <td>Boleto</td>\n",
       "      <td>Básico</td>\n",
       "      <td>Centro-Oeste</td>\n",
       "      <td>Cancelado</td>\n",
       "    </tr>\n",
       "    <tr>\n",
       "      <th>997</th>\n",
       "      <td>23</td>\n",
       "      <td>Outros</td>\n",
       "      <td>Cartão de Crédito</td>\n",
       "      <td>Padrão</td>\n",
       "      <td>Norte</td>\n",
       "      <td>Cancelado</td>\n",
       "    </tr>\n",
       "    <tr>\n",
       "      <th>998</th>\n",
       "      <td>36</td>\n",
       "      <td>Masculino</td>\n",
       "      <td>Cartão de Crédito</td>\n",
       "      <td>Padrão</td>\n",
       "      <td>Nordeste</td>\n",
       "      <td>Cancelado</td>\n",
       "    </tr>\n",
       "    <tr>\n",
       "      <th>999</th>\n",
       "      <td>32</td>\n",
       "      <td>Masculino</td>\n",
       "      <td>Cartão de Crédito</td>\n",
       "      <td>Padrão</td>\n",
       "      <td>Sul</td>\n",
       "      <td>Cancelado</td>\n",
       "    </tr>\n",
       "  </tbody>\n",
       "</table>\n",
       "<p>1000 rows × 6 columns</p>\n",
       "</div>"
      ],
      "text/plain": [
       "     idade     genero   metodo_pagamento   pacote        regiao  \\\n",
       "0       58   Feminino             Débito  Premium  Centro-Oeste   \n",
       "1       25     Outros  Cartão de Crédito  Premium           Sul   \n",
       "2       19  Masculino  Cartão de Crédito  Premium         Norte   \n",
       "3       65   Feminino             Débito   Padrão      Nordeste   \n",
       "4       35     Outros  Cartão de Crédito  Premium      Nordeste   \n",
       "..     ...        ...                ...      ...           ...   \n",
       "995     68  Masculino  Cartão de Crédito   Padrão         Norte   \n",
       "996     19     Outros             Boleto   Básico  Centro-Oeste   \n",
       "997     23     Outros  Cartão de Crédito   Padrão         Norte   \n",
       "998     36  Masculino  Cartão de Crédito   Padrão      Nordeste   \n",
       "999     32  Masculino  Cartão de Crédito   Padrão           Sul   \n",
       "\n",
       "    status_assinatura  \n",
       "0           Cancelado  \n",
       "1           Cancelado  \n",
       "2               Ativo  \n",
       "3               Ativo  \n",
       "4           Cancelado  \n",
       "..                ...  \n",
       "995             Ativo  \n",
       "996         Cancelado  \n",
       "997         Cancelado  \n",
       "998         Cancelado  \n",
       "999         Cancelado  \n",
       "\n",
       "[1000 rows x 6 columns]"
      ]
     },
     "metadata": {},
     "output_type": "display_data"
    }
   ],
   "source": [
    "#Remover colunas inúteis para a análise\n",
    "#Colunas inúteis = \"id_cliente\" e \"tempo_assinatura\"\n",
    "tabela = tabela.drop(columns = [\"id_cliente\", \"tempo_assinatura\"])\n",
    "display(tabela)"
   ]
  },
  {
   "cell_type": "code",
   "execution_count": 12,
   "metadata": {},
   "outputs": [
    {
     "name": "stdout",
     "output_type": "stream",
     "text": [
      "status_assinatura\n",
      "Cancelado    0.504\n",
      "Ativo        0.496\n",
      "Name: proportion, dtype: float64\n"
     ]
    }
   ],
   "source": [
    "#Verificar a % de cancelamento atual da empresa\n",
    "print(tabela[\"status_assinatura\"].value_counts(normalize = True))"
   ]
  },
  {
   "cell_type": "code",
   "execution_count": 10,
   "metadata": {},
   "outputs": [
    {
     "data": {
      "application/vnd.plotly.v1+json": {
       "config": {
        "plotlyServerURL": "https://plot.ly"
       },
       "data": [
        {
         "alignmentgroup": "True",
         "bingroup": "x",
         "hovertemplate": "status_assinatura=Cancelado<br>idade=%{x}<br>count=%{y}<extra></extra>",
         "legendgroup": "Cancelado",
         "marker": {
          "color": "#636efa",
          "pattern": {
           "shape": ""
          }
         },
         "name": "Cancelado",
         "offsetgroup": "Cancelado",
         "orientation": "v",
         "showlegend": true,
         "type": "histogram",
         "x": [
          58,
          25,
          35,
          26,
          24,
          61,
          23,
          55,
          31,
          19,
          59,
          44,
          32,
          46,
          35,
          18,
          66,
          69,
          62,
          39,
          35,
          66,
          39,
          24,
          56,
          69,
          20,
          64,
          25,
          42,
          23,
          53,
          36,
          58,
          57,
          54,
          30,
          22,
          20,
          60,
          32,
          67,
          36,
          42,
          41,
          28,
          31,
          61,
          59,
          58,
          52,
          28,
          47,
          42,
          62,
          53,
          38,
          20,
          22,
          31,
          54,
          63,
          38,
          59,
          47,
          27,
          34,
          65,
          53,
          34,
          55,
          43,
          41,
          26,
          50,
          49,
          23,
          66,
          25,
          27,
          58,
          68,
          45,
          22,
          56,
          47,
          51,
          53,
          61,
          25,
          61,
          35,
          67,
          59,
          25,
          28,
          64,
          50,
          50,
          27,
          41,
          66,
          28,
          52,
          67,
          18,
          56,
          25,
          41,
          37,
          33,
          33,
          23,
          23,
          22,
          52,
          67,
          26,
          60,
          53,
          28,
          34,
          51,
          45,
          31,
          66,
          64,
          62,
          30,
          63,
          37,
          46,
          46,
          25,
          39,
          53,
          32,
          32,
          18,
          22,
          63,
          21,
          22,
          50,
          35,
          60,
          49,
          31,
          52,
          26,
          64,
          54,
          33,
          69,
          44,
          30,
          24,
          24,
          45,
          40,
          45,
          64,
          21,
          61,
          21,
          64,
          39,
          69,
          24,
          33,
          30,
          30,
          52,
          46,
          26,
          22,
          24,
          18,
          33,
          49,
          43,
          21,
          18,
          42,
          45,
          62,
          64,
          68,
          53,
          60,
          27,
          30,
          36,
          31,
          21,
          52,
          21,
          65,
          38,
          21,
          55,
          28,
          21,
          50,
          29,
          22,
          56,
          61,
          33,
          54,
          55,
          56,
          20,
          44,
          60,
          54,
          38,
          31,
          60,
          63,
          38,
          60,
          37,
          47,
          38,
          66,
          18,
          31,
          50,
          26,
          28,
          52,
          63,
          37,
          57,
          69,
          59,
          18,
          37,
          60,
          26,
          24,
          65,
          36,
          56,
          31,
          34,
          50,
          49,
          34,
          45,
          35,
          20,
          39,
          28,
          65,
          63,
          53,
          62,
          52,
          53,
          45,
          37,
          40,
          61,
          33,
          60,
          67,
          53,
          57,
          27,
          33,
          28,
          69,
          44,
          19,
          29,
          65,
          69,
          60,
          65,
          69,
          33,
          28,
          24,
          20,
          32,
          70,
          40,
          37,
          70,
          68,
          67,
          50,
          43,
          61,
          39,
          55,
          20,
          56,
          45,
          40,
          68,
          56,
          34,
          51,
          52,
          61,
          64,
          30,
          41,
          22,
          60,
          39,
          57,
          38,
          60,
          25,
          64,
          37,
          60,
          44,
          38,
          43,
          62,
          26,
          60,
          61,
          57,
          37,
          37,
          36,
          68,
          55,
          38,
          47,
          46,
          50,
          48,
          68,
          28,
          23,
          60,
          58,
          57,
          39,
          33,
          37,
          69,
          27,
          48,
          57,
          47,
          44,
          58,
          63,
          42,
          43,
          33,
          59,
          62,
          67,
          67,
          45,
          51,
          47,
          21,
          25,
          47,
          26,
          69,
          60,
          51,
          56,
          66,
          46,
          70,
          53,
          66,
          58,
          67,
          67,
          51,
          58,
          22,
          63,
          35,
          38,
          26,
          32,
          62,
          31,
          22,
          44,
          52,
          47,
          21,
          44,
          42,
          19,
          48,
          18,
          40,
          37,
          44,
          52,
          65,
          65,
          69,
          32,
          49,
          35,
          19,
          42,
          61,
          43,
          47,
          26,
          57,
          52,
          19,
          59,
          47,
          42,
          47,
          38,
          39,
          66,
          42,
          35,
          65,
          59,
          67,
          20,
          66,
          33,
          30,
          19,
          60,
          54,
          31,
          28,
          56,
          56,
          65,
          25,
          67,
          28,
          37,
          24,
          37,
          54,
          43,
          30,
          62,
          58,
          33,
          24,
          62,
          67,
          61,
          56,
          68,
          54,
          45,
          60,
          41,
          22,
          39,
          44,
          49,
          24,
          63,
          27,
          29,
          51,
          59,
          69,
          70,
          64,
          55,
          35,
          38,
          66,
          54,
          57,
          60,
          39,
          38,
          29,
          49,
          31,
          39,
          18,
          33,
          64,
          66,
          48,
          63,
          49,
          19,
          23,
          36,
          32
         ],
         "xaxis": "x",
         "yaxis": "y"
        },
        {
         "alignmentgroup": "True",
         "bingroup": "x",
         "hovertemplate": "status_assinatura=Ativo<br>idade=%{x}<br>count=%{y}<extra></extra>",
         "legendgroup": "Ativo",
         "marker": {
          "color": "#EF553B",
          "pattern": {
           "shape": ""
          }
         },
         "name": "Ativo",
         "offsetgroup": "Ativo",
         "orientation": "v",
         "showlegend": true,
         "type": "histogram",
         "x": [
          19,
          65,
          33,
          32,
          65,
          65,
          52,
          45,
          20,
          19,
          23,
          32,
          50,
          56,
          53,
          30,
          63,
          62,
          52,
          55,
          69,
          28,
          45,
          27,
          31,
          23,
          42,
          24,
          40,
          40,
          34,
          47,
          52,
          41,
          63,
          23,
          32,
          24,
          35,
          47,
          58,
          41,
          40,
          60,
          35,
          62,
          22,
          56,
          28,
          64,
          33,
          35,
          58,
          32,
          61,
          67,
          67,
          21,
          32,
          70,
          69,
          38,
          43,
          35,
          31,
          59,
          49,
          43,
          26,
          33,
          52,
          65,
          45,
          55,
          32,
          21,
          28,
          61,
          56,
          42,
          42,
          34,
          18,
          64,
          52,
          66,
          39,
          36,
          45,
          47,
          18,
          64,
          34,
          50,
          66,
          29,
          24,
          58,
          37,
          58,
          56,
          30,
          51,
          38,
          49,
          19,
          69,
          21,
          54,
          64,
          49,
          70,
          66,
          26,
          48,
          56,
          52,
          43,
          60,
          59,
          41,
          51,
          33,
          32,
          22,
          19,
          55,
          55,
          58,
          32,
          22,
          20,
          39,
          33,
          54,
          48,
          68,
          48,
          60,
          44,
          47,
          59,
          59,
          24,
          43,
          45,
          29,
          35,
          47,
          33,
          46,
          69,
          53,
          21,
          59,
          52,
          23,
          66,
          28,
          44,
          48,
          31,
          28,
          42,
          34,
          68,
          68,
          47,
          36,
          63,
          49,
          55,
          65,
          21,
          48,
          50,
          51,
          23,
          22,
          43,
          25,
          33,
          57,
          23,
          55,
          51,
          34,
          33,
          34,
          43,
          26,
          59,
          22,
          47,
          57,
          54,
          24,
          22,
          52,
          34,
          40,
          22,
          33,
          41,
          36,
          46,
          51,
          60,
          70,
          53,
          24,
          34,
          25,
          53,
          27,
          35,
          31,
          63,
          39,
          61,
          58,
          21,
          23,
          58,
          18,
          67,
          26,
          58,
          34,
          46,
          53,
          45,
          18,
          25,
          22,
          27,
          20,
          41,
          55,
          27,
          26,
          20,
          41,
          68,
          20,
          31,
          24,
          40,
          44,
          65,
          69,
          29,
          39,
          68,
          44,
          35,
          68,
          62,
          42,
          48,
          30,
          47,
          32,
          32,
          19,
          60,
          30,
          43,
          39,
          35,
          22,
          35,
          40,
          59,
          52,
          19,
          25,
          34,
          29,
          34,
          24,
          64,
          38,
          45,
          50,
          25,
          42,
          54,
          30,
          20,
          63,
          45,
          18,
          69,
          65,
          65,
          60,
          45,
          37,
          50,
          36,
          53,
          30,
          44,
          42,
          65,
          29,
          54,
          43,
          53,
          18,
          31,
          45,
          56,
          59,
          46,
          61,
          31,
          68,
          65,
          60,
          36,
          50,
          23,
          70,
          66,
          61,
          32,
          30,
          19,
          20,
          33,
          67,
          22,
          54,
          30,
          62,
          49,
          27,
          18,
          66,
          24,
          32,
          29,
          69,
          62,
          53,
          33,
          47,
          53,
          38,
          57,
          64,
          50,
          45,
          46,
          28,
          65,
          48,
          46,
          34,
          33,
          35,
          49,
          33,
          35,
          46,
          36,
          33,
          39,
          52,
          23,
          27,
          42,
          27,
          63,
          44,
          39,
          44,
          31,
          67,
          55,
          62,
          66,
          54,
          42,
          66,
          42,
          52,
          56,
          32,
          45,
          49,
          39,
          60,
          69,
          64,
          28,
          19,
          43,
          55,
          54,
          60,
          23,
          45,
          26,
          29,
          21,
          34,
          38,
          31,
          66,
          44,
          34,
          23,
          48,
          19,
          52,
          21,
          40,
          32,
          22,
          59,
          19,
          57,
          27,
          33,
          26,
          48,
          25,
          47,
          62,
          34,
          67,
          41,
          63,
          70,
          55,
          19,
          61,
          42,
          63,
          22,
          55,
          37,
          69,
          25,
          68,
          20,
          40,
          52,
          50,
          59,
          18,
          70,
          45,
          41,
          58,
          47,
          45,
          64,
          35,
          57,
          52,
          67,
          48,
          47,
          45,
          33,
          23,
          35,
          46,
          33,
          47,
          42,
          19,
          49,
          40,
          69,
          34,
          35,
          56,
          62,
          35,
          53,
          51,
          30,
          23,
          44,
          49,
          53,
          33,
          62,
          59,
          46,
          68
         ],
         "xaxis": "x",
         "yaxis": "y"
        }
       ],
       "layout": {
        "barmode": "relative",
        "legend": {
         "title": {
          "text": "status_assinatura"
         },
         "tracegroupgap": 0
        },
        "margin": {
         "t": 60
        },
        "template": {
         "data": {
          "bar": [
           {
            "error_x": {
             "color": "#2a3f5f"
            },
            "error_y": {
             "color": "#2a3f5f"
            },
            "marker": {
             "line": {
              "color": "#E5ECF6",
              "width": 0.5
             },
             "pattern": {
              "fillmode": "overlay",
              "size": 10,
              "solidity": 0.2
             }
            },
            "type": "bar"
           }
          ],
          "barpolar": [
           {
            "marker": {
             "line": {
              "color": "#E5ECF6",
              "width": 0.5
             },
             "pattern": {
              "fillmode": "overlay",
              "size": 10,
              "solidity": 0.2
             }
            },
            "type": "barpolar"
           }
          ],
          "carpet": [
           {
            "aaxis": {
             "endlinecolor": "#2a3f5f",
             "gridcolor": "white",
             "linecolor": "white",
             "minorgridcolor": "white",
             "startlinecolor": "#2a3f5f"
            },
            "baxis": {
             "endlinecolor": "#2a3f5f",
             "gridcolor": "white",
             "linecolor": "white",
             "minorgridcolor": "white",
             "startlinecolor": "#2a3f5f"
            },
            "type": "carpet"
           }
          ],
          "choropleth": [
           {
            "colorbar": {
             "outlinewidth": 0,
             "ticks": ""
            },
            "type": "choropleth"
           }
          ],
          "contour": [
           {
            "colorbar": {
             "outlinewidth": 0,
             "ticks": ""
            },
            "colorscale": [
             [
              0,
              "#0d0887"
             ],
             [
              0.1111111111111111,
              "#46039f"
             ],
             [
              0.2222222222222222,
              "#7201a8"
             ],
             [
              0.3333333333333333,
              "#9c179e"
             ],
             [
              0.4444444444444444,
              "#bd3786"
             ],
             [
              0.5555555555555556,
              "#d8576b"
             ],
             [
              0.6666666666666666,
              "#ed7953"
             ],
             [
              0.7777777777777778,
              "#fb9f3a"
             ],
             [
              0.8888888888888888,
              "#fdca26"
             ],
             [
              1,
              "#f0f921"
             ]
            ],
            "type": "contour"
           }
          ],
          "contourcarpet": [
           {
            "colorbar": {
             "outlinewidth": 0,
             "ticks": ""
            },
            "type": "contourcarpet"
           }
          ],
          "heatmap": [
           {
            "colorbar": {
             "outlinewidth": 0,
             "ticks": ""
            },
            "colorscale": [
             [
              0,
              "#0d0887"
             ],
             [
              0.1111111111111111,
              "#46039f"
             ],
             [
              0.2222222222222222,
              "#7201a8"
             ],
             [
              0.3333333333333333,
              "#9c179e"
             ],
             [
              0.4444444444444444,
              "#bd3786"
             ],
             [
              0.5555555555555556,
              "#d8576b"
             ],
             [
              0.6666666666666666,
              "#ed7953"
             ],
             [
              0.7777777777777778,
              "#fb9f3a"
             ],
             [
              0.8888888888888888,
              "#fdca26"
             ],
             [
              1,
              "#f0f921"
             ]
            ],
            "type": "heatmap"
           }
          ],
          "heatmapgl": [
           {
            "colorbar": {
             "outlinewidth": 0,
             "ticks": ""
            },
            "colorscale": [
             [
              0,
              "#0d0887"
             ],
             [
              0.1111111111111111,
              "#46039f"
             ],
             [
              0.2222222222222222,
              "#7201a8"
             ],
             [
              0.3333333333333333,
              "#9c179e"
             ],
             [
              0.4444444444444444,
              "#bd3786"
             ],
             [
              0.5555555555555556,
              "#d8576b"
             ],
             [
              0.6666666666666666,
              "#ed7953"
             ],
             [
              0.7777777777777778,
              "#fb9f3a"
             ],
             [
              0.8888888888888888,
              "#fdca26"
             ],
             [
              1,
              "#f0f921"
             ]
            ],
            "type": "heatmapgl"
           }
          ],
          "histogram": [
           {
            "marker": {
             "pattern": {
              "fillmode": "overlay",
              "size": 10,
              "solidity": 0.2
             }
            },
            "type": "histogram"
           }
          ],
          "histogram2d": [
           {
            "colorbar": {
             "outlinewidth": 0,
             "ticks": ""
            },
            "colorscale": [
             [
              0,
              "#0d0887"
             ],
             [
              0.1111111111111111,
              "#46039f"
             ],
             [
              0.2222222222222222,
              "#7201a8"
             ],
             [
              0.3333333333333333,
              "#9c179e"
             ],
             [
              0.4444444444444444,
              "#bd3786"
             ],
             [
              0.5555555555555556,
              "#d8576b"
             ],
             [
              0.6666666666666666,
              "#ed7953"
             ],
             [
              0.7777777777777778,
              "#fb9f3a"
             ],
             [
              0.8888888888888888,
              "#fdca26"
             ],
             [
              1,
              "#f0f921"
             ]
            ],
            "type": "histogram2d"
           }
          ],
          "histogram2dcontour": [
           {
            "colorbar": {
             "outlinewidth": 0,
             "ticks": ""
            },
            "colorscale": [
             [
              0,
              "#0d0887"
             ],
             [
              0.1111111111111111,
              "#46039f"
             ],
             [
              0.2222222222222222,
              "#7201a8"
             ],
             [
              0.3333333333333333,
              "#9c179e"
             ],
             [
              0.4444444444444444,
              "#bd3786"
             ],
             [
              0.5555555555555556,
              "#d8576b"
             ],
             [
              0.6666666666666666,
              "#ed7953"
             ],
             [
              0.7777777777777778,
              "#fb9f3a"
             ],
             [
              0.8888888888888888,
              "#fdca26"
             ],
             [
              1,
              "#f0f921"
             ]
            ],
            "type": "histogram2dcontour"
           }
          ],
          "mesh3d": [
           {
            "colorbar": {
             "outlinewidth": 0,
             "ticks": ""
            },
            "type": "mesh3d"
           }
          ],
          "parcoords": [
           {
            "line": {
             "colorbar": {
              "outlinewidth": 0,
              "ticks": ""
             }
            },
            "type": "parcoords"
           }
          ],
          "pie": [
           {
            "automargin": true,
            "type": "pie"
           }
          ],
          "scatter": [
           {
            "fillpattern": {
             "fillmode": "overlay",
             "size": 10,
             "solidity": 0.2
            },
            "type": "scatter"
           }
          ],
          "scatter3d": [
           {
            "line": {
             "colorbar": {
              "outlinewidth": 0,
              "ticks": ""
             }
            },
            "marker": {
             "colorbar": {
              "outlinewidth": 0,
              "ticks": ""
             }
            },
            "type": "scatter3d"
           }
          ],
          "scattercarpet": [
           {
            "marker": {
             "colorbar": {
              "outlinewidth": 0,
              "ticks": ""
             }
            },
            "type": "scattercarpet"
           }
          ],
          "scattergeo": [
           {
            "marker": {
             "colorbar": {
              "outlinewidth": 0,
              "ticks": ""
             }
            },
            "type": "scattergeo"
           }
          ],
          "scattergl": [
           {
            "marker": {
             "colorbar": {
              "outlinewidth": 0,
              "ticks": ""
             }
            },
            "type": "scattergl"
           }
          ],
          "scattermapbox": [
           {
            "marker": {
             "colorbar": {
              "outlinewidth": 0,
              "ticks": ""
             }
            },
            "type": "scattermapbox"
           }
          ],
          "scatterpolar": [
           {
            "marker": {
             "colorbar": {
              "outlinewidth": 0,
              "ticks": ""
             }
            },
            "type": "scatterpolar"
           }
          ],
          "scatterpolargl": [
           {
            "marker": {
             "colorbar": {
              "outlinewidth": 0,
              "ticks": ""
             }
            },
            "type": "scatterpolargl"
           }
          ],
          "scatterternary": [
           {
            "marker": {
             "colorbar": {
              "outlinewidth": 0,
              "ticks": ""
             }
            },
            "type": "scatterternary"
           }
          ],
          "surface": [
           {
            "colorbar": {
             "outlinewidth": 0,
             "ticks": ""
            },
            "colorscale": [
             [
              0,
              "#0d0887"
             ],
             [
              0.1111111111111111,
              "#46039f"
             ],
             [
              0.2222222222222222,
              "#7201a8"
             ],
             [
              0.3333333333333333,
              "#9c179e"
             ],
             [
              0.4444444444444444,
              "#bd3786"
             ],
             [
              0.5555555555555556,
              "#d8576b"
             ],
             [
              0.6666666666666666,
              "#ed7953"
             ],
             [
              0.7777777777777778,
              "#fb9f3a"
             ],
             [
              0.8888888888888888,
              "#fdca26"
             ],
             [
              1,
              "#f0f921"
             ]
            ],
            "type": "surface"
           }
          ],
          "table": [
           {
            "cells": {
             "fill": {
              "color": "#EBF0F8"
             },
             "line": {
              "color": "white"
             }
            },
            "header": {
             "fill": {
              "color": "#C8D4E3"
             },
             "line": {
              "color": "white"
             }
            },
            "type": "table"
           }
          ]
         },
         "layout": {
          "annotationdefaults": {
           "arrowcolor": "#2a3f5f",
           "arrowhead": 0,
           "arrowwidth": 1
          },
          "autotypenumbers": "strict",
          "coloraxis": {
           "colorbar": {
            "outlinewidth": 0,
            "ticks": ""
           }
          },
          "colorscale": {
           "diverging": [
            [
             0,
             "#8e0152"
            ],
            [
             0.1,
             "#c51b7d"
            ],
            [
             0.2,
             "#de77ae"
            ],
            [
             0.3,
             "#f1b6da"
            ],
            [
             0.4,
             "#fde0ef"
            ],
            [
             0.5,
             "#f7f7f7"
            ],
            [
             0.6,
             "#e6f5d0"
            ],
            [
             0.7,
             "#b8e186"
            ],
            [
             0.8,
             "#7fbc41"
            ],
            [
             0.9,
             "#4d9221"
            ],
            [
             1,
             "#276419"
            ]
           ],
           "sequential": [
            [
             0,
             "#0d0887"
            ],
            [
             0.1111111111111111,
             "#46039f"
            ],
            [
             0.2222222222222222,
             "#7201a8"
            ],
            [
             0.3333333333333333,
             "#9c179e"
            ],
            [
             0.4444444444444444,
             "#bd3786"
            ],
            [
             0.5555555555555556,
             "#d8576b"
            ],
            [
             0.6666666666666666,
             "#ed7953"
            ],
            [
             0.7777777777777778,
             "#fb9f3a"
            ],
            [
             0.8888888888888888,
             "#fdca26"
            ],
            [
             1,
             "#f0f921"
            ]
           ],
           "sequentialminus": [
            [
             0,
             "#0d0887"
            ],
            [
             0.1111111111111111,
             "#46039f"
            ],
            [
             0.2222222222222222,
             "#7201a8"
            ],
            [
             0.3333333333333333,
             "#9c179e"
            ],
            [
             0.4444444444444444,
             "#bd3786"
            ],
            [
             0.5555555555555556,
             "#d8576b"
            ],
            [
             0.6666666666666666,
             "#ed7953"
            ],
            [
             0.7777777777777778,
             "#fb9f3a"
            ],
            [
             0.8888888888888888,
             "#fdca26"
            ],
            [
             1,
             "#f0f921"
            ]
           ]
          },
          "colorway": [
           "#636efa",
           "#EF553B",
           "#00cc96",
           "#ab63fa",
           "#FFA15A",
           "#19d3f3",
           "#FF6692",
           "#B6E880",
           "#FF97FF",
           "#FECB52"
          ],
          "font": {
           "color": "#2a3f5f"
          },
          "geo": {
           "bgcolor": "white",
           "lakecolor": "white",
           "landcolor": "#E5ECF6",
           "showlakes": true,
           "showland": true,
           "subunitcolor": "white"
          },
          "hoverlabel": {
           "align": "left"
          },
          "hovermode": "closest",
          "mapbox": {
           "style": "light"
          },
          "paper_bgcolor": "white",
          "plot_bgcolor": "#E5ECF6",
          "polar": {
           "angularaxis": {
            "gridcolor": "white",
            "linecolor": "white",
            "ticks": ""
           },
           "bgcolor": "#E5ECF6",
           "radialaxis": {
            "gridcolor": "white",
            "linecolor": "white",
            "ticks": ""
           }
          },
          "scene": {
           "xaxis": {
            "backgroundcolor": "#E5ECF6",
            "gridcolor": "white",
            "gridwidth": 2,
            "linecolor": "white",
            "showbackground": true,
            "ticks": "",
            "zerolinecolor": "white"
           },
           "yaxis": {
            "backgroundcolor": "#E5ECF6",
            "gridcolor": "white",
            "gridwidth": 2,
            "linecolor": "white",
            "showbackground": true,
            "ticks": "",
            "zerolinecolor": "white"
           },
           "zaxis": {
            "backgroundcolor": "#E5ECF6",
            "gridcolor": "white",
            "gridwidth": 2,
            "linecolor": "white",
            "showbackground": true,
            "ticks": "",
            "zerolinecolor": "white"
           }
          },
          "shapedefaults": {
           "line": {
            "color": "#2a3f5f"
           }
          },
          "ternary": {
           "aaxis": {
            "gridcolor": "white",
            "linecolor": "white",
            "ticks": ""
           },
           "baxis": {
            "gridcolor": "white",
            "linecolor": "white",
            "ticks": ""
           },
           "bgcolor": "#E5ECF6",
           "caxis": {
            "gridcolor": "white",
            "linecolor": "white",
            "ticks": ""
           }
          },
          "title": {
           "x": 0.05
          },
          "xaxis": {
           "automargin": true,
           "gridcolor": "white",
           "linecolor": "white",
           "ticks": "",
           "title": {
            "standoff": 15
           },
           "zerolinecolor": "white",
           "zerolinewidth": 2
          },
          "yaxis": {
           "automargin": true,
           "gridcolor": "white",
           "linecolor": "white",
           "ticks": "",
           "title": {
            "standoff": 15
           },
           "zerolinecolor": "white",
           "zerolinewidth": 2
          }
         }
        },
        "xaxis": {
         "anchor": "y",
         "domain": [
          0,
          1
         ],
         "title": {
          "text": "idade"
         }
        },
        "yaxis": {
         "anchor": "x",
         "domain": [
          0,
          1
         ],
         "title": {
          "text": "count"
         }
        }
       }
      }
     },
     "metadata": {},
     "output_type": "display_data"
    },
    {
     "data": {
      "application/vnd.plotly.v1+json": {
       "config": {
        "plotlyServerURL": "https://plot.ly"
       },
       "data": [
        {
         "alignmentgroup": "True",
         "bingroup": "x",
         "hovertemplate": "status_assinatura=Cancelado<br>genero=%{x}<br>count=%{y}<extra></extra>",
         "legendgroup": "Cancelado",
         "marker": {
          "color": "#636efa",
          "pattern": {
           "shape": ""
          }
         },
         "name": "Cancelado",
         "offsetgroup": "Cancelado",
         "orientation": "v",
         "showlegend": true,
         "type": "histogram",
         "x": [
          "Feminino",
          "Outros",
          "Outros",
          "Feminino",
          "Outros",
          "Feminino",
          "Outros",
          "Feminino",
          "Feminino",
          "Outros",
          "Outros",
          "Masculino",
          "Masculino",
          "Masculino",
          "Feminino",
          "Outros",
          "Outros",
          "Outros",
          "Feminino",
          "Masculino",
          "Feminino",
          "Masculino",
          "Feminino",
          "Masculino",
          "Masculino",
          "Feminino",
          "Outros",
          "Masculino",
          "Masculino",
          "Masculino",
          "Outros",
          "Feminino",
          "Feminino",
          "Feminino",
          "Feminino",
          "Masculino",
          "Masculino",
          "Feminino",
          "Masculino",
          "Masculino",
          "Feminino",
          "Feminino",
          "Masculino",
          "Masculino",
          "Feminino",
          "Masculino",
          "Outros",
          "Outros",
          "Masculino",
          "Feminino",
          "Feminino",
          "Feminino",
          "Outros",
          "Outros",
          "Outros",
          "Masculino",
          "Masculino",
          "Masculino",
          "Feminino",
          "Feminino",
          "Outros",
          "Outros",
          "Feminino",
          "Outros",
          "Feminino",
          "Outros",
          "Feminino",
          "Masculino",
          "Feminino",
          "Outros",
          "Masculino",
          "Outros",
          "Masculino",
          "Masculino",
          "Feminino",
          "Masculino",
          "Masculino",
          "Masculino",
          "Feminino",
          "Outros",
          "Outros",
          "Feminino",
          "Masculino",
          "Outros",
          "Feminino",
          "Feminino",
          "Outros",
          "Feminino",
          "Masculino",
          "Masculino",
          "Feminino",
          "Outros",
          "Feminino",
          "Masculino",
          "Masculino",
          "Outros",
          "Outros",
          "Outros",
          "Feminino",
          "Masculino",
          "Feminino",
          "Feminino",
          "Feminino",
          "Feminino",
          "Feminino",
          "Masculino",
          "Masculino",
          "Feminino",
          "Feminino",
          "Feminino",
          "Outros",
          "Feminino",
          "Feminino",
          "Feminino",
          "Outros",
          "Outros",
          "Outros",
          "Feminino",
          "Masculino",
          "Outros",
          "Feminino",
          "Outros",
          "Feminino",
          "Feminino",
          "Masculino",
          "Feminino",
          "Outros",
          "Masculino",
          "Feminino",
          "Feminino",
          "Outros",
          "Outros",
          "Outros",
          "Masculino",
          "Outros",
          "Masculino",
          "Masculino",
          "Masculino",
          "Outros",
          "Masculino",
          "Feminino",
          "Feminino",
          "Feminino",
          "Feminino",
          "Feminino",
          "Outros",
          "Masculino",
          "Feminino",
          "Masculino",
          "Outros",
          "Outros",
          "Masculino",
          "Feminino",
          "Outros",
          "Feminino",
          "Masculino",
          "Feminino",
          "Outros",
          "Outros",
          "Outros",
          "Outros",
          "Feminino",
          "Outros",
          "Feminino",
          "Outros",
          "Feminino",
          "Feminino",
          "Masculino",
          "Outros",
          "Masculino",
          "Outros",
          "Feminino",
          "Masculino",
          "Feminino",
          "Masculino",
          "Feminino",
          "Feminino",
          "Outros",
          "Feminino",
          "Feminino",
          "Masculino",
          "Feminino",
          "Masculino",
          "Feminino",
          "Outros",
          "Masculino",
          "Feminino",
          "Outros",
          "Outros",
          "Feminino",
          "Outros",
          "Feminino",
          "Outros",
          "Masculino",
          "Outros",
          "Outros",
          "Outros",
          "Feminino",
          "Masculino",
          "Outros",
          "Feminino",
          "Masculino",
          "Feminino",
          "Masculino",
          "Feminino",
          "Masculino",
          "Masculino",
          "Masculino",
          "Feminino",
          "Feminino",
          "Masculino",
          "Outros",
          "Feminino",
          "Masculino",
          "Masculino",
          "Masculino",
          "Feminino",
          "Outros",
          "Masculino",
          "Feminino",
          "Outros",
          "Feminino",
          "Feminino",
          "Outros",
          "Masculino",
          "Feminino",
          "Outros",
          "Feminino",
          "Outros",
          "Outros",
          "Feminino",
          "Masculino",
          "Feminino",
          "Outros",
          "Feminino",
          "Outros",
          "Feminino",
          "Feminino",
          "Feminino",
          "Masculino",
          "Outros",
          "Outros",
          "Outros",
          "Outros",
          "Feminino",
          "Outros",
          "Outros",
          "Outros",
          "Outros",
          "Masculino",
          "Outros",
          "Masculino",
          "Feminino",
          "Masculino",
          "Masculino",
          "Feminino",
          "Feminino",
          "Masculino",
          "Outros",
          "Feminino",
          "Feminino",
          "Feminino",
          "Masculino",
          "Outros",
          "Feminino",
          "Outros",
          "Feminino",
          "Masculino",
          "Feminino",
          "Masculino",
          "Feminino",
          "Outros",
          "Outros",
          "Outros",
          "Feminino",
          "Outros",
          "Feminino",
          "Masculino",
          "Masculino",
          "Outros",
          "Outros",
          "Feminino",
          "Outros",
          "Outros",
          "Feminino",
          "Feminino",
          "Feminino",
          "Masculino",
          "Masculino",
          "Feminino",
          "Feminino",
          "Masculino",
          "Outros",
          "Outros",
          "Outros",
          "Masculino",
          "Outros",
          "Feminino",
          "Outros",
          "Masculino",
          "Feminino",
          "Feminino",
          "Feminino",
          "Feminino",
          "Feminino",
          "Outros",
          "Outros",
          "Outros",
          "Outros",
          "Masculino",
          "Masculino",
          "Masculino",
          "Masculino",
          "Outros",
          "Masculino",
          "Outros",
          "Masculino",
          "Masculino",
          "Feminino",
          "Masculino",
          "Feminino",
          "Masculino",
          "Masculino",
          "Outros",
          "Feminino",
          "Outros",
          "Masculino",
          "Masculino",
          "Masculino",
          "Feminino",
          "Feminino",
          "Outros",
          "Masculino",
          "Feminino",
          "Outros",
          "Outros",
          "Feminino",
          "Outros",
          "Masculino",
          "Outros",
          "Feminino",
          "Outros",
          "Feminino",
          "Feminino",
          "Feminino",
          "Outros",
          "Feminino",
          "Masculino",
          "Outros",
          "Masculino",
          "Outros",
          "Outros",
          "Feminino",
          "Feminino",
          "Outros",
          "Feminino",
          "Outros",
          "Masculino",
          "Outros",
          "Outros",
          "Outros",
          "Masculino",
          "Feminino",
          "Masculino",
          "Feminino",
          "Outros",
          "Masculino",
          "Feminino",
          "Outros",
          "Feminino",
          "Feminino",
          "Outros",
          "Feminino",
          "Masculino",
          "Masculino",
          "Feminino",
          "Outros",
          "Outros",
          "Masculino",
          "Feminino",
          "Feminino",
          "Outros",
          "Masculino",
          "Outros",
          "Outros",
          "Outros",
          "Outros",
          "Masculino",
          "Outros",
          "Masculino",
          "Outros",
          "Outros",
          "Outros",
          "Outros",
          "Outros",
          "Masculino",
          "Outros",
          "Feminino",
          "Masculino",
          "Feminino",
          "Masculino",
          "Masculino",
          "Outros",
          "Outros",
          "Masculino",
          "Outros",
          "Outros",
          "Masculino",
          "Outros",
          "Masculino",
          "Feminino",
          "Feminino",
          "Feminino",
          "Feminino",
          "Outros",
          "Masculino",
          "Masculino",
          "Outros",
          "Masculino",
          "Outros",
          "Feminino",
          "Feminino",
          "Masculino",
          "Feminino",
          "Outros",
          "Outros",
          "Outros",
          "Feminino",
          "Outros",
          "Outros",
          "Masculino",
          "Feminino",
          "Feminino",
          "Masculino",
          "Feminino",
          "Feminino",
          "Masculino",
          "Masculino",
          "Outros",
          "Feminino",
          "Masculino",
          "Feminino",
          "Masculino",
          "Feminino",
          "Outros",
          "Outros",
          "Feminino",
          "Outros",
          "Feminino",
          "Feminino",
          "Masculino",
          "Feminino",
          "Feminino",
          "Feminino",
          "Masculino",
          "Masculino",
          "Feminino",
          "Outros",
          "Feminino",
          "Outros",
          "Feminino",
          "Feminino",
          "Masculino",
          "Feminino",
          "Masculino",
          "Outros",
          "Outros",
          "Masculino",
          "Outros",
          "Masculino",
          "Masculino",
          "Masculino",
          "Masculino",
          "Outros",
          "Masculino",
          "Feminino",
          "Feminino",
          "Feminino",
          "Feminino",
          "Outros",
          "Feminino",
          "Masculino",
          "Feminino",
          "Feminino",
          "Masculino",
          "Feminino",
          "Outros",
          "Feminino",
          "Masculino",
          "Masculino",
          "Feminino",
          "Feminino",
          "Outros",
          "Outros",
          "Outros",
          "Outros",
          "Feminino",
          "Masculino",
          "Masculino",
          "Feminino",
          "Outros",
          "Outros",
          "Masculino",
          "Masculino"
         ],
         "xaxis": "x",
         "yaxis": "y"
        },
        {
         "alignmentgroup": "True",
         "bingroup": "x",
         "hovertemplate": "status_assinatura=Ativo<br>genero=%{x}<br>count=%{y}<extra></extra>",
         "legendgroup": "Ativo",
         "marker": {
          "color": "#EF553B",
          "pattern": {
           "shape": ""
          }
         },
         "name": "Ativo",
         "offsetgroup": "Ativo",
         "orientation": "v",
         "showlegend": true,
         "type": "histogram",
         "x": [
          "Masculino",
          "Feminino",
          "Outros",
          "Feminino",
          "Outros",
          "Feminino",
          "Outros",
          "Feminino",
          "Outros",
          "Feminino",
          "Feminino",
          "Feminino",
          "Masculino",
          "Masculino",
          "Masculino",
          "Feminino",
          "Masculino",
          "Outros",
          "Outros",
          "Outros",
          "Feminino",
          "Outros",
          "Masculino",
          "Masculino",
          "Feminino",
          "Outros",
          "Outros",
          "Masculino",
          "Feminino",
          "Masculino",
          "Outros",
          "Outros",
          "Feminino",
          "Feminino",
          "Feminino",
          "Outros",
          "Outros",
          "Outros",
          "Masculino",
          "Masculino",
          "Outros",
          "Masculino",
          "Masculino",
          "Feminino",
          "Outros",
          "Outros",
          "Outros",
          "Feminino",
          "Feminino",
          "Outros",
          "Feminino",
          "Masculino",
          "Outros",
          "Masculino",
          "Outros",
          "Feminino",
          "Outros",
          "Masculino",
          "Masculino",
          "Masculino",
          "Outros",
          "Masculino",
          "Masculino",
          "Masculino",
          "Feminino",
          "Masculino",
          "Masculino",
          "Feminino",
          "Masculino",
          "Outros",
          "Outros",
          "Outros",
          "Feminino",
          "Masculino",
          "Outros",
          "Masculino",
          "Outros",
          "Feminino",
          "Feminino",
          "Feminino",
          "Outros",
          "Outros",
          "Feminino",
          "Outros",
          "Outros",
          "Feminino",
          "Masculino",
          "Outros",
          "Outros",
          "Masculino",
          "Outros",
          "Feminino",
          "Masculino",
          "Masculino",
          "Feminino",
          "Outros",
          "Feminino",
          "Feminino",
          "Masculino",
          "Outros",
          "Outros",
          "Feminino",
          "Outros",
          "Feminino",
          "Feminino",
          "Outros",
          "Outros",
          "Masculino",
          "Masculino",
          "Feminino",
          "Masculino",
          "Feminino",
          "Masculino",
          "Feminino",
          "Masculino",
          "Outros",
          "Masculino",
          "Feminino",
          "Masculino",
          "Masculino",
          "Outros",
          "Masculino",
          "Feminino",
          "Outros",
          "Masculino",
          "Feminino",
          "Masculino",
          "Feminino",
          "Outros",
          "Outros",
          "Outros",
          "Feminino",
          "Feminino",
          "Masculino",
          "Outros",
          "Masculino",
          "Feminino",
          "Feminino",
          "Feminino",
          "Feminino",
          "Masculino",
          "Feminino",
          "Feminino",
          "Outros",
          "Feminino",
          "Feminino",
          "Outros",
          "Feminino",
          "Outros",
          "Feminino",
          "Outros",
          "Outros",
          "Masculino",
          "Masculino",
          "Masculino",
          "Outros",
          "Feminino",
          "Masculino",
          "Masculino",
          "Outros",
          "Masculino",
          "Outros",
          "Outros",
          "Masculino",
          "Feminino",
          "Feminino",
          "Outros",
          "Outros",
          "Feminino",
          "Feminino",
          "Outros",
          "Masculino",
          "Masculino",
          "Masculino",
          "Masculino",
          "Outros",
          "Outros",
          "Outros",
          "Feminino",
          "Feminino",
          "Feminino",
          "Masculino",
          "Outros",
          "Outros",
          "Masculino",
          "Outros",
          "Outros",
          "Masculino",
          "Masculino",
          "Feminino",
          "Outros",
          "Feminino",
          "Feminino",
          "Outros",
          "Masculino",
          "Masculino",
          "Feminino",
          "Feminino",
          "Outros",
          "Feminino",
          "Feminino",
          "Feminino",
          "Feminino",
          "Masculino",
          "Feminino",
          "Masculino",
          "Outros",
          "Masculino",
          "Outros",
          "Feminino",
          "Outros",
          "Outros",
          "Masculino",
          "Feminino",
          "Feminino",
          "Masculino",
          "Masculino",
          "Outros",
          "Masculino",
          "Feminino",
          "Outros",
          "Outros",
          "Masculino",
          "Outros",
          "Feminino",
          "Outros",
          "Feminino",
          "Outros",
          "Masculino",
          "Feminino",
          "Outros",
          "Masculino",
          "Masculino",
          "Outros",
          "Feminino",
          "Outros",
          "Masculino",
          "Feminino",
          "Feminino",
          "Outros",
          "Masculino",
          "Feminino",
          "Masculino",
          "Masculino",
          "Outros",
          "Outros",
          "Masculino",
          "Feminino",
          "Outros",
          "Feminino",
          "Feminino",
          "Outros",
          "Outros",
          "Masculino",
          "Feminino",
          "Masculino",
          "Masculino",
          "Outros",
          "Outros",
          "Outros",
          "Masculino",
          "Masculino",
          "Masculino",
          "Masculino",
          "Outros",
          "Masculino",
          "Feminino",
          "Feminino",
          "Feminino",
          "Outros",
          "Outros",
          "Outros",
          "Feminino",
          "Outros",
          "Feminino",
          "Masculino",
          "Feminino",
          "Outros",
          "Feminino",
          "Masculino",
          "Feminino",
          "Masculino",
          "Masculino",
          "Outros",
          "Outros",
          "Outros",
          "Feminino",
          "Masculino",
          "Feminino",
          "Masculino",
          "Masculino",
          "Feminino",
          "Masculino",
          "Masculino",
          "Masculino",
          "Masculino",
          "Feminino",
          "Outros",
          "Masculino",
          "Outros",
          "Masculino",
          "Masculino",
          "Masculino",
          "Masculino",
          "Feminino",
          "Outros",
          "Feminino",
          "Masculino",
          "Masculino",
          "Masculino",
          "Outros",
          "Masculino",
          "Outros",
          "Feminino",
          "Feminino",
          "Masculino",
          "Outros",
          "Masculino",
          "Outros",
          "Outros",
          "Feminino",
          "Masculino",
          "Masculino",
          "Masculino",
          "Feminino",
          "Outros",
          "Masculino",
          "Feminino",
          "Masculino",
          "Masculino",
          "Feminino",
          "Outros",
          "Outros",
          "Outros",
          "Outros",
          "Feminino",
          "Outros",
          "Feminino",
          "Masculino",
          "Outros",
          "Outros",
          "Feminino",
          "Feminino",
          "Feminino",
          "Feminino",
          "Feminino",
          "Feminino",
          "Feminino",
          "Masculino",
          "Masculino",
          "Masculino",
          "Masculino",
          "Outros",
          "Feminino",
          "Masculino",
          "Masculino",
          "Outros",
          "Outros",
          "Outros",
          "Feminino",
          "Outros",
          "Feminino",
          "Outros",
          "Feminino",
          "Feminino",
          "Feminino",
          "Masculino",
          "Masculino",
          "Masculino",
          "Feminino",
          "Masculino",
          "Feminino",
          "Feminino",
          "Feminino",
          "Masculino",
          "Feminino",
          "Outros",
          "Outros",
          "Outros",
          "Outros",
          "Masculino",
          "Feminino",
          "Outros",
          "Feminino",
          "Feminino",
          "Masculino",
          "Feminino",
          "Masculino",
          "Masculino",
          "Outros",
          "Feminino",
          "Feminino",
          "Masculino",
          "Outros",
          "Feminino",
          "Outros",
          "Masculino",
          "Masculino",
          "Masculino",
          "Feminino",
          "Feminino",
          "Outros",
          "Feminino",
          "Outros",
          "Feminino",
          "Feminino",
          "Outros",
          "Masculino",
          "Feminino",
          "Masculino",
          "Feminino",
          "Feminino",
          "Masculino",
          "Masculino",
          "Feminino",
          "Outros",
          "Masculino",
          "Masculino",
          "Feminino",
          "Masculino",
          "Masculino",
          "Feminino",
          "Masculino",
          "Outros",
          "Feminino",
          "Outros",
          "Outros",
          "Masculino",
          "Outros",
          "Outros",
          "Feminino",
          "Outros",
          "Masculino",
          "Feminino",
          "Masculino",
          "Feminino",
          "Outros",
          "Masculino",
          "Feminino",
          "Masculino",
          "Outros",
          "Outros",
          "Masculino",
          "Feminino",
          "Masculino",
          "Outros",
          "Feminino",
          "Masculino",
          "Masculino",
          "Outros",
          "Outros",
          "Feminino",
          "Feminino",
          "Outros",
          "Masculino",
          "Feminino",
          "Masculino",
          "Masculino",
          "Outros",
          "Masculino",
          "Outros",
          "Outros",
          "Outros",
          "Outros",
          "Outros",
          "Outros",
          "Outros",
          "Outros",
          "Masculino",
          "Feminino",
          "Feminino",
          "Outros",
          "Feminino",
          "Outros",
          "Masculino",
          "Feminino",
          "Feminino",
          "Masculino",
          "Outros",
          "Masculino",
          "Outros",
          "Outros",
          "Feminino",
          "Feminino",
          "Outros",
          "Outros",
          "Masculino",
          "Feminino",
          "Masculino",
          "Feminino",
          "Outros",
          "Outros",
          "Masculino",
          "Feminino",
          "Outros",
          "Masculino"
         ],
         "xaxis": "x",
         "yaxis": "y"
        }
       ],
       "layout": {
        "barmode": "relative",
        "legend": {
         "title": {
          "text": "status_assinatura"
         },
         "tracegroupgap": 0
        },
        "margin": {
         "t": 60
        },
        "template": {
         "data": {
          "bar": [
           {
            "error_x": {
             "color": "#2a3f5f"
            },
            "error_y": {
             "color": "#2a3f5f"
            },
            "marker": {
             "line": {
              "color": "#E5ECF6",
              "width": 0.5
             },
             "pattern": {
              "fillmode": "overlay",
              "size": 10,
              "solidity": 0.2
             }
            },
            "type": "bar"
           }
          ],
          "barpolar": [
           {
            "marker": {
             "line": {
              "color": "#E5ECF6",
              "width": 0.5
             },
             "pattern": {
              "fillmode": "overlay",
              "size": 10,
              "solidity": 0.2
             }
            },
            "type": "barpolar"
           }
          ],
          "carpet": [
           {
            "aaxis": {
             "endlinecolor": "#2a3f5f",
             "gridcolor": "white",
             "linecolor": "white",
             "minorgridcolor": "white",
             "startlinecolor": "#2a3f5f"
            },
            "baxis": {
             "endlinecolor": "#2a3f5f",
             "gridcolor": "white",
             "linecolor": "white",
             "minorgridcolor": "white",
             "startlinecolor": "#2a3f5f"
            },
            "type": "carpet"
           }
          ],
          "choropleth": [
           {
            "colorbar": {
             "outlinewidth": 0,
             "ticks": ""
            },
            "type": "choropleth"
           }
          ],
          "contour": [
           {
            "colorbar": {
             "outlinewidth": 0,
             "ticks": ""
            },
            "colorscale": [
             [
              0,
              "#0d0887"
             ],
             [
              0.1111111111111111,
              "#46039f"
             ],
             [
              0.2222222222222222,
              "#7201a8"
             ],
             [
              0.3333333333333333,
              "#9c179e"
             ],
             [
              0.4444444444444444,
              "#bd3786"
             ],
             [
              0.5555555555555556,
              "#d8576b"
             ],
             [
              0.6666666666666666,
              "#ed7953"
             ],
             [
              0.7777777777777778,
              "#fb9f3a"
             ],
             [
              0.8888888888888888,
              "#fdca26"
             ],
             [
              1,
              "#f0f921"
             ]
            ],
            "type": "contour"
           }
          ],
          "contourcarpet": [
           {
            "colorbar": {
             "outlinewidth": 0,
             "ticks": ""
            },
            "type": "contourcarpet"
           }
          ],
          "heatmap": [
           {
            "colorbar": {
             "outlinewidth": 0,
             "ticks": ""
            },
            "colorscale": [
             [
              0,
              "#0d0887"
             ],
             [
              0.1111111111111111,
              "#46039f"
             ],
             [
              0.2222222222222222,
              "#7201a8"
             ],
             [
              0.3333333333333333,
              "#9c179e"
             ],
             [
              0.4444444444444444,
              "#bd3786"
             ],
             [
              0.5555555555555556,
              "#d8576b"
             ],
             [
              0.6666666666666666,
              "#ed7953"
             ],
             [
              0.7777777777777778,
              "#fb9f3a"
             ],
             [
              0.8888888888888888,
              "#fdca26"
             ],
             [
              1,
              "#f0f921"
             ]
            ],
            "type": "heatmap"
           }
          ],
          "heatmapgl": [
           {
            "colorbar": {
             "outlinewidth": 0,
             "ticks": ""
            },
            "colorscale": [
             [
              0,
              "#0d0887"
             ],
             [
              0.1111111111111111,
              "#46039f"
             ],
             [
              0.2222222222222222,
              "#7201a8"
             ],
             [
              0.3333333333333333,
              "#9c179e"
             ],
             [
              0.4444444444444444,
              "#bd3786"
             ],
             [
              0.5555555555555556,
              "#d8576b"
             ],
             [
              0.6666666666666666,
              "#ed7953"
             ],
             [
              0.7777777777777778,
              "#fb9f3a"
             ],
             [
              0.8888888888888888,
              "#fdca26"
             ],
             [
              1,
              "#f0f921"
             ]
            ],
            "type": "heatmapgl"
           }
          ],
          "histogram": [
           {
            "marker": {
             "pattern": {
              "fillmode": "overlay",
              "size": 10,
              "solidity": 0.2
             }
            },
            "type": "histogram"
           }
          ],
          "histogram2d": [
           {
            "colorbar": {
             "outlinewidth": 0,
             "ticks": ""
            },
            "colorscale": [
             [
              0,
              "#0d0887"
             ],
             [
              0.1111111111111111,
              "#46039f"
             ],
             [
              0.2222222222222222,
              "#7201a8"
             ],
             [
              0.3333333333333333,
              "#9c179e"
             ],
             [
              0.4444444444444444,
              "#bd3786"
             ],
             [
              0.5555555555555556,
              "#d8576b"
             ],
             [
              0.6666666666666666,
              "#ed7953"
             ],
             [
              0.7777777777777778,
              "#fb9f3a"
             ],
             [
              0.8888888888888888,
              "#fdca26"
             ],
             [
              1,
              "#f0f921"
             ]
            ],
            "type": "histogram2d"
           }
          ],
          "histogram2dcontour": [
           {
            "colorbar": {
             "outlinewidth": 0,
             "ticks": ""
            },
            "colorscale": [
             [
              0,
              "#0d0887"
             ],
             [
              0.1111111111111111,
              "#46039f"
             ],
             [
              0.2222222222222222,
              "#7201a8"
             ],
             [
              0.3333333333333333,
              "#9c179e"
             ],
             [
              0.4444444444444444,
              "#bd3786"
             ],
             [
              0.5555555555555556,
              "#d8576b"
             ],
             [
              0.6666666666666666,
              "#ed7953"
             ],
             [
              0.7777777777777778,
              "#fb9f3a"
             ],
             [
              0.8888888888888888,
              "#fdca26"
             ],
             [
              1,
              "#f0f921"
             ]
            ],
            "type": "histogram2dcontour"
           }
          ],
          "mesh3d": [
           {
            "colorbar": {
             "outlinewidth": 0,
             "ticks": ""
            },
            "type": "mesh3d"
           }
          ],
          "parcoords": [
           {
            "line": {
             "colorbar": {
              "outlinewidth": 0,
              "ticks": ""
             }
            },
            "type": "parcoords"
           }
          ],
          "pie": [
           {
            "automargin": true,
            "type": "pie"
           }
          ],
          "scatter": [
           {
            "fillpattern": {
             "fillmode": "overlay",
             "size": 10,
             "solidity": 0.2
            },
            "type": "scatter"
           }
          ],
          "scatter3d": [
           {
            "line": {
             "colorbar": {
              "outlinewidth": 0,
              "ticks": ""
             }
            },
            "marker": {
             "colorbar": {
              "outlinewidth": 0,
              "ticks": ""
             }
            },
            "type": "scatter3d"
           }
          ],
          "scattercarpet": [
           {
            "marker": {
             "colorbar": {
              "outlinewidth": 0,
              "ticks": ""
             }
            },
            "type": "scattercarpet"
           }
          ],
          "scattergeo": [
           {
            "marker": {
             "colorbar": {
              "outlinewidth": 0,
              "ticks": ""
             }
            },
            "type": "scattergeo"
           }
          ],
          "scattergl": [
           {
            "marker": {
             "colorbar": {
              "outlinewidth": 0,
              "ticks": ""
             }
            },
            "type": "scattergl"
           }
          ],
          "scattermapbox": [
           {
            "marker": {
             "colorbar": {
              "outlinewidth": 0,
              "ticks": ""
             }
            },
            "type": "scattermapbox"
           }
          ],
          "scatterpolar": [
           {
            "marker": {
             "colorbar": {
              "outlinewidth": 0,
              "ticks": ""
             }
            },
            "type": "scatterpolar"
           }
          ],
          "scatterpolargl": [
           {
            "marker": {
             "colorbar": {
              "outlinewidth": 0,
              "ticks": ""
             }
            },
            "type": "scatterpolargl"
           }
          ],
          "scatterternary": [
           {
            "marker": {
             "colorbar": {
              "outlinewidth": 0,
              "ticks": ""
             }
            },
            "type": "scatterternary"
           }
          ],
          "surface": [
           {
            "colorbar": {
             "outlinewidth": 0,
             "ticks": ""
            },
            "colorscale": [
             [
              0,
              "#0d0887"
             ],
             [
              0.1111111111111111,
              "#46039f"
             ],
             [
              0.2222222222222222,
              "#7201a8"
             ],
             [
              0.3333333333333333,
              "#9c179e"
             ],
             [
              0.4444444444444444,
              "#bd3786"
             ],
             [
              0.5555555555555556,
              "#d8576b"
             ],
             [
              0.6666666666666666,
              "#ed7953"
             ],
             [
              0.7777777777777778,
              "#fb9f3a"
             ],
             [
              0.8888888888888888,
              "#fdca26"
             ],
             [
              1,
              "#f0f921"
             ]
            ],
            "type": "surface"
           }
          ],
          "table": [
           {
            "cells": {
             "fill": {
              "color": "#EBF0F8"
             },
             "line": {
              "color": "white"
             }
            },
            "header": {
             "fill": {
              "color": "#C8D4E3"
             },
             "line": {
              "color": "white"
             }
            },
            "type": "table"
           }
          ]
         },
         "layout": {
          "annotationdefaults": {
           "arrowcolor": "#2a3f5f",
           "arrowhead": 0,
           "arrowwidth": 1
          },
          "autotypenumbers": "strict",
          "coloraxis": {
           "colorbar": {
            "outlinewidth": 0,
            "ticks": ""
           }
          },
          "colorscale": {
           "diverging": [
            [
             0,
             "#8e0152"
            ],
            [
             0.1,
             "#c51b7d"
            ],
            [
             0.2,
             "#de77ae"
            ],
            [
             0.3,
             "#f1b6da"
            ],
            [
             0.4,
             "#fde0ef"
            ],
            [
             0.5,
             "#f7f7f7"
            ],
            [
             0.6,
             "#e6f5d0"
            ],
            [
             0.7,
             "#b8e186"
            ],
            [
             0.8,
             "#7fbc41"
            ],
            [
             0.9,
             "#4d9221"
            ],
            [
             1,
             "#276419"
            ]
           ],
           "sequential": [
            [
             0,
             "#0d0887"
            ],
            [
             0.1111111111111111,
             "#46039f"
            ],
            [
             0.2222222222222222,
             "#7201a8"
            ],
            [
             0.3333333333333333,
             "#9c179e"
            ],
            [
             0.4444444444444444,
             "#bd3786"
            ],
            [
             0.5555555555555556,
             "#d8576b"
            ],
            [
             0.6666666666666666,
             "#ed7953"
            ],
            [
             0.7777777777777778,
             "#fb9f3a"
            ],
            [
             0.8888888888888888,
             "#fdca26"
            ],
            [
             1,
             "#f0f921"
            ]
           ],
           "sequentialminus": [
            [
             0,
             "#0d0887"
            ],
            [
             0.1111111111111111,
             "#46039f"
            ],
            [
             0.2222222222222222,
             "#7201a8"
            ],
            [
             0.3333333333333333,
             "#9c179e"
            ],
            [
             0.4444444444444444,
             "#bd3786"
            ],
            [
             0.5555555555555556,
             "#d8576b"
            ],
            [
             0.6666666666666666,
             "#ed7953"
            ],
            [
             0.7777777777777778,
             "#fb9f3a"
            ],
            [
             0.8888888888888888,
             "#fdca26"
            ],
            [
             1,
             "#f0f921"
            ]
           ]
          },
          "colorway": [
           "#636efa",
           "#EF553B",
           "#00cc96",
           "#ab63fa",
           "#FFA15A",
           "#19d3f3",
           "#FF6692",
           "#B6E880",
           "#FF97FF",
           "#FECB52"
          ],
          "font": {
           "color": "#2a3f5f"
          },
          "geo": {
           "bgcolor": "white",
           "lakecolor": "white",
           "landcolor": "#E5ECF6",
           "showlakes": true,
           "showland": true,
           "subunitcolor": "white"
          },
          "hoverlabel": {
           "align": "left"
          },
          "hovermode": "closest",
          "mapbox": {
           "style": "light"
          },
          "paper_bgcolor": "white",
          "plot_bgcolor": "#E5ECF6",
          "polar": {
           "angularaxis": {
            "gridcolor": "white",
            "linecolor": "white",
            "ticks": ""
           },
           "bgcolor": "#E5ECF6",
           "radialaxis": {
            "gridcolor": "white",
            "linecolor": "white",
            "ticks": ""
           }
          },
          "scene": {
           "xaxis": {
            "backgroundcolor": "#E5ECF6",
            "gridcolor": "white",
            "gridwidth": 2,
            "linecolor": "white",
            "showbackground": true,
            "ticks": "",
            "zerolinecolor": "white"
           },
           "yaxis": {
            "backgroundcolor": "#E5ECF6",
            "gridcolor": "white",
            "gridwidth": 2,
            "linecolor": "white",
            "showbackground": true,
            "ticks": "",
            "zerolinecolor": "white"
           },
           "zaxis": {
            "backgroundcolor": "#E5ECF6",
            "gridcolor": "white",
            "gridwidth": 2,
            "linecolor": "white",
            "showbackground": true,
            "ticks": "",
            "zerolinecolor": "white"
           }
          },
          "shapedefaults": {
           "line": {
            "color": "#2a3f5f"
           }
          },
          "ternary": {
           "aaxis": {
            "gridcolor": "white",
            "linecolor": "white",
            "ticks": ""
           },
           "baxis": {
            "gridcolor": "white",
            "linecolor": "white",
            "ticks": ""
           },
           "bgcolor": "#E5ECF6",
           "caxis": {
            "gridcolor": "white",
            "linecolor": "white",
            "ticks": ""
           }
          },
          "title": {
           "x": 0.05
          },
          "xaxis": {
           "automargin": true,
           "gridcolor": "white",
           "linecolor": "white",
           "ticks": "",
           "title": {
            "standoff": 15
           },
           "zerolinecolor": "white",
           "zerolinewidth": 2
          },
          "yaxis": {
           "automargin": true,
           "gridcolor": "white",
           "linecolor": "white",
           "ticks": "",
           "title": {
            "standoff": 15
           },
           "zerolinecolor": "white",
           "zerolinewidth": 2
          }
         }
        },
        "xaxis": {
         "anchor": "y",
         "domain": [
          0,
          1
         ],
         "title": {
          "text": "genero"
         }
        },
        "yaxis": {
         "anchor": "x",
         "domain": [
          0,
          1
         ],
         "title": {
          "text": "count"
         }
        }
       }
      }
     },
     "metadata": {},
     "output_type": "display_data"
    },
    {
     "data": {
      "application/vnd.plotly.v1+json": {
       "config": {
        "plotlyServerURL": "https://plot.ly"
       },
       "data": [
        {
         "alignmentgroup": "True",
         "bingroup": "x",
         "hovertemplate": "status_assinatura=Cancelado<br>metodo_pagamento=%{x}<br>count=%{y}<extra></extra>",
         "legendgroup": "Cancelado",
         "marker": {
          "color": "#636efa",
          "pattern": {
           "shape": ""
          }
         },
         "name": "Cancelado",
         "offsetgroup": "Cancelado",
         "orientation": "v",
         "showlegend": true,
         "type": "histogram",
         "x": [
          "Débito",
          "Cartão de Crédito",
          "Cartão de Crédito",
          "Boleto",
          "Débito",
          "Cartão de Crédito",
          "Boleto",
          "Débito",
          "Cartão de Crédito",
          "Cartão de Crédito",
          "Cartão de Crédito",
          "Cartão de Crédito",
          "Débito",
          "Boleto",
          "Cartão de Crédito",
          "Débito",
          "Débito",
          "Cartão de Crédito",
          "Boleto",
          "Débito",
          "Débito",
          "Cartão de Crédito",
          "Débito",
          "Boleto",
          "Débito",
          "Débito",
          "Boleto",
          "Débito",
          "Débito",
          "Boleto",
          "Boleto",
          "Débito",
          "Débito",
          "Cartão de Crédito",
          "Cartão de Crédito",
          "Débito",
          "Boleto",
          "Débito",
          "Boleto",
          "Cartão de Crédito",
          "Boleto",
          "Débito",
          "Cartão de Crédito",
          "Boleto",
          "Boleto",
          "Cartão de Crédito",
          "Boleto",
          "Débito",
          "Cartão de Crédito",
          "Boleto",
          "Cartão de Crédito",
          "Cartão de Crédito",
          "Boleto",
          "Boleto",
          "Débito",
          "Débito",
          "Débito",
          "Cartão de Crédito",
          "Boleto",
          "Débito",
          "Débito",
          "Boleto",
          "Boleto",
          "Débito",
          "Cartão de Crédito",
          "Cartão de Crédito",
          "Débito",
          "Débito",
          "Boleto",
          "Débito",
          "Cartão de Crédito",
          "Cartão de Crédito",
          "Débito",
          "Cartão de Crédito",
          "Débito",
          "Débito",
          "Cartão de Crédito",
          "Cartão de Crédito",
          "Débito",
          "Boleto",
          "Cartão de Crédito",
          "Cartão de Crédito",
          "Débito",
          "Cartão de Crédito",
          "Cartão de Crédito",
          "Boleto",
          "Cartão de Crédito",
          "Boleto",
          "Débito",
          "Débito",
          "Boleto",
          "Débito",
          "Cartão de Crédito",
          "Boleto",
          "Cartão de Crédito",
          "Débito",
          "Boleto",
          "Cartão de Crédito",
          "Cartão de Crédito",
          "Débito",
          "Débito",
          "Boleto",
          "Boleto",
          "Boleto",
          "Boleto",
          "Boleto",
          "Cartão de Crédito",
          "Cartão de Crédito",
          "Débito",
          "Cartão de Crédito",
          "Cartão de Crédito",
          "Boleto",
          "Cartão de Crédito",
          "Débito",
          "Boleto",
          "Débito",
          "Débito",
          "Débito",
          "Débito",
          "Cartão de Crédito",
          "Cartão de Crédito",
          "Boleto",
          "Boleto",
          "Boleto",
          "Cartão de Crédito",
          "Cartão de Crédito",
          "Cartão de Crédito",
          "Débito",
          "Boleto",
          "Débito",
          "Cartão de Crédito",
          "Débito",
          "Boleto",
          "Débito",
          "Cartão de Crédito",
          "Boleto",
          "Boleto",
          "Débito",
          "Cartão de Crédito",
          "Cartão de Crédito",
          "Cartão de Crédito",
          "Boleto",
          "Débito",
          "Débito",
          "Boleto",
          "Cartão de Crédito",
          "Boleto",
          "Cartão de Crédito",
          "Débito",
          "Débito",
          "Cartão de Crédito",
          "Boleto",
          "Cartão de Crédito",
          "Débito",
          "Cartão de Crédito",
          "Débito",
          "Débito",
          "Boleto",
          "Boleto",
          "Cartão de Crédito",
          "Boleto",
          "Boleto",
          "Débito",
          "Boleto",
          "Cartão de Crédito",
          "Boleto",
          "Cartão de Crédito",
          "Débito",
          "Boleto",
          "Cartão de Crédito",
          "Cartão de Crédito",
          "Boleto",
          "Débito",
          "Cartão de Crédito",
          "Boleto",
          "Débito",
          "Boleto",
          "Cartão de Crédito",
          "Cartão de Crédito",
          "Cartão de Crédito",
          "Boleto",
          "Débito",
          "Cartão de Crédito",
          "Cartão de Crédito",
          "Cartão de Crédito",
          "Boleto",
          "Cartão de Crédito",
          "Boleto",
          "Boleto",
          "Cartão de Crédito",
          "Débito",
          "Cartão de Crédito",
          "Débito",
          "Boleto",
          "Cartão de Crédito",
          "Débito",
          "Cartão de Crédito",
          "Boleto",
          "Cartão de Crédito",
          "Débito",
          "Boleto",
          "Débito",
          "Boleto",
          "Boleto",
          "Boleto",
          "Débito",
          "Boleto",
          "Cartão de Crédito",
          "Débito",
          "Cartão de Crédito",
          "Boleto",
          "Boleto",
          "Cartão de Crédito",
          "Débito",
          "Cartão de Crédito",
          "Boleto",
          "Débito",
          "Débito",
          "Boleto",
          "Boleto",
          "Cartão de Crédito",
          "Débito",
          "Boleto",
          "Débito",
          "Débito",
          "Débito",
          "Boleto",
          "Cartão de Crédito",
          "Débito",
          "Cartão de Crédito",
          "Débito",
          "Cartão de Crédito",
          "Débito",
          "Cartão de Crédito",
          "Cartão de Crédito",
          "Débito",
          "Cartão de Crédito",
          "Boleto",
          "Cartão de Crédito",
          "Débito",
          "Cartão de Crédito",
          "Boleto",
          "Boleto",
          "Débito",
          "Débito",
          "Cartão de Crédito",
          "Débito",
          "Boleto",
          "Cartão de Crédito",
          "Cartão de Crédito",
          "Débito",
          "Boleto",
          "Cartão de Crédito",
          "Débito",
          "Cartão de Crédito",
          "Débito",
          "Cartão de Crédito",
          "Débito",
          "Boleto",
          "Boleto",
          "Cartão de Crédito",
          "Cartão de Crédito",
          "Cartão de Crédito",
          "Cartão de Crédito",
          "Boleto",
          "Boleto",
          "Débito",
          "Débito",
          "Cartão de Crédito",
          "Cartão de Crédito",
          "Boleto",
          "Boleto",
          "Débito",
          "Boleto",
          "Débito",
          "Cartão de Crédito",
          "Cartão de Crédito",
          "Cartão de Crédito",
          "Boleto",
          "Cartão de Crédito",
          "Cartão de Crédito",
          "Débito",
          "Boleto",
          "Débito",
          "Cartão de Crédito",
          "Cartão de Crédito",
          "Débito",
          "Débito",
          "Cartão de Crédito",
          "Boleto",
          "Cartão de Crédito",
          "Débito",
          "Débito",
          "Débito",
          "Boleto",
          "Cartão de Crédito",
          "Boleto",
          "Débito",
          "Boleto",
          "Cartão de Crédito",
          "Débito",
          "Boleto",
          "Boleto",
          "Débito",
          "Débito",
          "Cartão de Crédito",
          "Cartão de Crédito",
          "Cartão de Crédito",
          "Boleto",
          "Débito",
          "Cartão de Crédito",
          "Boleto",
          "Boleto",
          "Boleto",
          "Cartão de Crédito",
          "Cartão de Crédito",
          "Cartão de Crédito",
          "Boleto",
          "Boleto",
          "Cartão de Crédito",
          "Cartão de Crédito",
          "Cartão de Crédito",
          "Cartão de Crédito",
          "Boleto",
          "Boleto",
          "Débito",
          "Cartão de Crédito",
          "Boleto",
          "Débito",
          "Boleto",
          "Boleto",
          "Boleto",
          "Débito",
          "Cartão de Crédito",
          "Cartão de Crédito",
          "Débito",
          "Cartão de Crédito",
          "Boleto",
          "Boleto",
          "Cartão de Crédito",
          "Cartão de Crédito",
          "Boleto",
          "Boleto",
          "Cartão de Crédito",
          "Boleto",
          "Boleto",
          "Boleto",
          "Débito",
          "Boleto",
          "Cartão de Crédito",
          "Boleto",
          "Débito",
          "Boleto",
          "Boleto",
          "Boleto",
          "Cartão de Crédito",
          "Boleto",
          "Débito",
          "Cartão de Crédito",
          "Boleto",
          "Cartão de Crédito",
          "Boleto",
          "Débito",
          "Débito",
          "Boleto",
          "Boleto",
          "Boleto",
          "Débito",
          "Cartão de Crédito",
          "Débito",
          "Débito",
          "Débito",
          "Débito",
          "Débito",
          "Débito",
          "Cartão de Crédito",
          "Boleto",
          "Débito",
          "Débito",
          "Débito",
          "Boleto",
          "Cartão de Crédito",
          "Boleto",
          "Boleto",
          "Débito",
          "Débito",
          "Cartão de Crédito",
          "Débito",
          "Débito",
          "Cartão de Crédito",
          "Débito",
          "Cartão de Crédito",
          "Débito",
          "Débito",
          "Débito",
          "Débito",
          "Boleto",
          "Boleto",
          "Cartão de Crédito",
          "Cartão de Crédito",
          "Débito",
          "Débito",
          "Débito",
          "Débito",
          "Boleto",
          "Boleto",
          "Boleto",
          "Débito",
          "Débito",
          "Cartão de Crédito",
          "Boleto",
          "Boleto",
          "Boleto",
          "Cartão de Crédito",
          "Cartão de Crédito",
          "Boleto",
          "Cartão de Crédito",
          "Débito",
          "Boleto",
          "Boleto",
          "Boleto",
          "Cartão de Crédito",
          "Débito",
          "Débito",
          "Cartão de Crédito",
          "Débito",
          "Cartão de Crédito",
          "Débito",
          "Cartão de Crédito",
          "Débito",
          "Boleto",
          "Débito",
          "Boleto",
          "Débito",
          "Débito",
          "Boleto",
          "Débito",
          "Boleto",
          "Boleto",
          "Cartão de Crédito",
          "Débito",
          "Cartão de Crédito",
          "Boleto",
          "Cartão de Crédito",
          "Boleto",
          "Boleto",
          "Débito",
          "Boleto",
          "Débito",
          "Boleto",
          "Débito",
          "Cartão de Crédito",
          "Boleto",
          "Cartão de Crédito",
          "Boleto",
          "Débito",
          "Débito",
          "Cartão de Crédito",
          "Débito",
          "Cartão de Crédito",
          "Cartão de Crédito",
          "Cartão de Crédito",
          "Cartão de Crédito",
          "Boleto",
          "Boleto",
          "Débito",
          "Cartão de Crédito",
          "Débito",
          "Cartão de Crédito",
          "Débito",
          "Débito",
          "Débito",
          "Boleto",
          "Cartão de Crédito",
          "Boleto",
          "Débito",
          "Cartão de Crédito",
          "Boleto",
          "Débito",
          "Boleto",
          "Boleto",
          "Débito",
          "Boleto",
          "Cartão de Crédito",
          "Cartão de Crédito",
          "Cartão de Crédito",
          "Boleto",
          "Boleto",
          "Boleto",
          "Cartão de Crédito",
          "Boleto",
          "Débito",
          "Débito",
          "Boleto",
          "Boleto",
          "Débito",
          "Débito",
          "Boleto",
          "Boleto",
          "Boleto",
          "Boleto",
          "Cartão de Crédito",
          "Cartão de Crédito",
          "Cartão de Crédito"
         ],
         "xaxis": "x",
         "yaxis": "y"
        },
        {
         "alignmentgroup": "True",
         "bingroup": "x",
         "hovertemplate": "status_assinatura=Ativo<br>metodo_pagamento=%{x}<br>count=%{y}<extra></extra>",
         "legendgroup": "Ativo",
         "marker": {
          "color": "#EF553B",
          "pattern": {
           "shape": ""
          }
         },
         "name": "Ativo",
         "offsetgroup": "Ativo",
         "orientation": "v",
         "showlegend": true,
         "type": "histogram",
         "x": [
          "Cartão de Crédito",
          "Débito",
          "Boleto",
          "Débito",
          "Boleto",
          "Boleto",
          "Boleto",
          "Cartão de Crédito",
          "Cartão de Crédito",
          "Débito",
          "Débito",
          "Débito",
          "Débito",
          "Débito",
          "Cartão de Crédito",
          "Boleto",
          "Cartão de Crédito",
          "Boleto",
          "Boleto",
          "Cartão de Crédito",
          "Boleto",
          "Boleto",
          "Boleto",
          "Débito",
          "Boleto",
          "Boleto",
          "Cartão de Crédito",
          "Cartão de Crédito",
          "Boleto",
          "Cartão de Crédito",
          "Boleto",
          "Cartão de Crédito",
          "Cartão de Crédito",
          "Débito",
          "Boleto",
          "Cartão de Crédito",
          "Cartão de Crédito",
          "Boleto",
          "Cartão de Crédito",
          "Cartão de Crédito",
          "Boleto",
          "Boleto",
          "Boleto",
          "Boleto",
          "Débito",
          "Débito",
          "Boleto",
          "Débito",
          "Débito",
          "Cartão de Crédito",
          "Débito",
          "Cartão de Crédito",
          "Boleto",
          "Débito",
          "Boleto",
          "Cartão de Crédito",
          "Débito",
          "Boleto",
          "Boleto",
          "Débito",
          "Cartão de Crédito",
          "Cartão de Crédito",
          "Boleto",
          "Cartão de Crédito",
          "Débito",
          "Débito",
          "Boleto",
          "Débito",
          "Débito",
          "Cartão de Crédito",
          "Débito",
          "Boleto",
          "Débito",
          "Cartão de Crédito",
          "Débito",
          "Boleto",
          "Débito",
          "Débito",
          "Boleto",
          "Débito",
          "Boleto",
          "Débito",
          "Boleto",
          "Cartão de Crédito",
          "Débito",
          "Boleto",
          "Boleto",
          "Débito",
          "Cartão de Crédito",
          "Cartão de Crédito",
          "Cartão de Crédito",
          "Boleto",
          "Débito",
          "Cartão de Crédito",
          "Débito",
          "Cartão de Crédito",
          "Boleto",
          "Cartão de Crédito",
          "Boleto",
          "Boleto",
          "Cartão de Crédito",
          "Débito",
          "Boleto",
          "Débito",
          "Débito",
          "Débito",
          "Boleto",
          "Débito",
          "Débito",
          "Cartão de Crédito",
          "Cartão de Crédito",
          "Cartão de Crédito",
          "Boleto",
          "Boleto",
          "Boleto",
          "Cartão de Crédito",
          "Débito",
          "Cartão de Crédito",
          "Cartão de Crédito",
          "Cartão de Crédito",
          "Cartão de Crédito",
          "Cartão de Crédito",
          "Débito",
          "Débito",
          "Cartão de Crédito",
          "Débito",
          "Cartão de Crédito",
          "Cartão de Crédito",
          "Débito",
          "Cartão de Crédito",
          "Débito",
          "Débito",
          "Boleto",
          "Débito",
          "Boleto",
          "Boleto",
          "Débito",
          "Débito",
          "Débito",
          "Débito",
          "Débito",
          "Débito",
          "Boleto",
          "Boleto",
          "Boleto",
          "Cartão de Crédito",
          "Débito",
          "Boleto",
          "Boleto",
          "Débito",
          "Cartão de Crédito",
          "Boleto",
          "Cartão de Crédito",
          "Cartão de Crédito",
          "Boleto",
          "Débito",
          "Boleto",
          "Boleto",
          "Débito",
          "Débito",
          "Cartão de Crédito",
          "Boleto",
          "Débito",
          "Débito",
          "Cartão de Crédito",
          "Débito",
          "Débito",
          "Débito",
          "Débito",
          "Cartão de Crédito",
          "Cartão de Crédito",
          "Débito",
          "Débito",
          "Boleto",
          "Boleto",
          "Boleto",
          "Débito",
          "Boleto",
          "Boleto",
          "Boleto",
          "Boleto",
          "Boleto",
          "Débito",
          "Cartão de Crédito",
          "Cartão de Crédito",
          "Débito",
          "Débito",
          "Cartão de Crédito",
          "Boleto",
          "Cartão de Crédito",
          "Boleto",
          "Cartão de Crédito",
          "Boleto",
          "Boleto",
          "Débito",
          "Débito",
          "Débito",
          "Boleto",
          "Boleto",
          "Boleto",
          "Cartão de Crédito",
          "Débito",
          "Débito",
          "Boleto",
          "Cartão de Crédito",
          "Débito",
          "Cartão de Crédito",
          "Cartão de Crédito",
          "Débito",
          "Cartão de Crédito",
          "Cartão de Crédito",
          "Cartão de Crédito",
          "Débito",
          "Cartão de Crédito",
          "Débito",
          "Débito",
          "Boleto",
          "Débito",
          "Boleto",
          "Cartão de Crédito",
          "Débito",
          "Débito",
          "Débito",
          "Boleto",
          "Débito",
          "Débito",
          "Boleto",
          "Cartão de Crédito",
          "Cartão de Crédito",
          "Cartão de Crédito",
          "Cartão de Crédito",
          "Débito",
          "Boleto",
          "Boleto",
          "Boleto",
          "Cartão de Crédito",
          "Boleto",
          "Boleto",
          "Débito",
          "Débito",
          "Boleto",
          "Débito",
          "Débito",
          "Débito",
          "Cartão de Crédito",
          "Boleto",
          "Boleto",
          "Cartão de Crédito",
          "Débito",
          "Cartão de Crédito",
          "Débito",
          "Cartão de Crédito",
          "Débito",
          "Débito",
          "Boleto",
          "Débito",
          "Débito",
          "Cartão de Crédito",
          "Boleto",
          "Cartão de Crédito",
          "Cartão de Crédito",
          "Boleto",
          "Cartão de Crédito",
          "Débito",
          "Boleto",
          "Débito",
          "Débito",
          "Boleto",
          "Boleto",
          "Débito",
          "Cartão de Crédito",
          "Débito",
          "Cartão de Crédito",
          "Débito",
          "Cartão de Crédito",
          "Cartão de Crédito",
          "Cartão de Crédito",
          "Boleto",
          "Débito",
          "Débito",
          "Boleto",
          "Boleto",
          "Cartão de Crédito",
          "Boleto",
          "Boleto",
          "Boleto",
          "Cartão de Crédito",
          "Débito",
          "Débito",
          "Boleto",
          "Cartão de Crédito",
          "Débito",
          "Boleto",
          "Débito",
          "Cartão de Crédito",
          "Boleto",
          "Débito",
          "Débito",
          "Boleto",
          "Boleto",
          "Débito",
          "Débito",
          "Boleto",
          "Cartão de Crédito",
          "Cartão de Crédito",
          "Débito",
          "Cartão de Crédito",
          "Débito",
          "Boleto",
          "Cartão de Crédito",
          "Boleto",
          "Cartão de Crédito",
          "Débito",
          "Débito",
          "Débito",
          "Boleto",
          "Cartão de Crédito",
          "Boleto",
          "Boleto",
          "Cartão de Crédito",
          "Boleto",
          "Boleto",
          "Boleto",
          "Cartão de Crédito",
          "Débito",
          "Débito",
          "Débito",
          "Cartão de Crédito",
          "Cartão de Crédito",
          "Boleto",
          "Cartão de Crédito",
          "Boleto",
          "Boleto",
          "Boleto",
          "Débito",
          "Débito",
          "Boleto",
          "Débito",
          "Boleto",
          "Boleto",
          "Boleto",
          "Débito",
          "Boleto",
          "Débito",
          "Cartão de Crédito",
          "Boleto",
          "Boleto",
          "Cartão de Crédito",
          "Cartão de Crédito",
          "Cartão de Crédito",
          "Boleto",
          "Boleto",
          "Débito",
          "Cartão de Crédito",
          "Boleto",
          "Boleto",
          "Cartão de Crédito",
          "Débito",
          "Boleto",
          "Cartão de Crédito",
          "Boleto",
          "Cartão de Crédito",
          "Boleto",
          "Débito",
          "Débito",
          "Boleto",
          "Débito",
          "Boleto",
          "Débito",
          "Boleto",
          "Débito",
          "Débito",
          "Cartão de Crédito",
          "Cartão de Crédito",
          "Débito",
          "Boleto",
          "Cartão de Crédito",
          "Débito",
          "Débito",
          "Boleto",
          "Cartão de Crédito",
          "Cartão de Crédito",
          "Boleto",
          "Débito",
          "Débito",
          "Débito",
          "Cartão de Crédito",
          "Boleto",
          "Débito",
          "Débito",
          "Cartão de Crédito",
          "Cartão de Crédito",
          "Boleto",
          "Cartão de Crédito",
          "Débito",
          "Boleto",
          "Boleto",
          "Boleto",
          "Boleto",
          "Cartão de Crédito",
          "Boleto",
          "Débito",
          "Débito",
          "Boleto",
          "Boleto",
          "Cartão de Crédito",
          "Cartão de Crédito",
          "Cartão de Crédito",
          "Boleto",
          "Cartão de Crédito",
          "Débito",
          "Cartão de Crédito",
          "Boleto",
          "Débito",
          "Boleto",
          "Boleto",
          "Cartão de Crédito",
          "Débito",
          "Cartão de Crédito",
          "Cartão de Crédito",
          "Débito",
          "Boleto",
          "Cartão de Crédito",
          "Cartão de Crédito",
          "Boleto",
          "Cartão de Crédito",
          "Débito",
          "Cartão de Crédito",
          "Cartão de Crédito",
          "Débito",
          "Cartão de Crédito",
          "Débito",
          "Cartão de Crédito",
          "Boleto",
          "Boleto",
          "Débito",
          "Débito",
          "Débito",
          "Boleto",
          "Boleto",
          "Boleto",
          "Débito",
          "Débito",
          "Débito",
          "Boleto",
          "Boleto",
          "Cartão de Crédito",
          "Débito",
          "Cartão de Crédito",
          "Débito",
          "Boleto",
          "Boleto",
          "Boleto",
          "Boleto",
          "Débito",
          "Cartão de Crédito",
          "Débito",
          "Cartão de Crédito",
          "Boleto",
          "Cartão de Crédito",
          "Boleto",
          "Boleto",
          "Cartão de Crédito",
          "Cartão de Crédito",
          "Cartão de Crédito",
          "Boleto",
          "Débito",
          "Débito",
          "Boleto",
          "Débito",
          "Boleto",
          "Boleto",
          "Cartão de Crédito",
          "Débito",
          "Cartão de Crédito",
          "Cartão de Crédito",
          "Débito",
          "Débito",
          "Boleto",
          "Débito",
          "Cartão de Crédito",
          "Débito",
          "Cartão de Crédito",
          "Boleto",
          "Débito",
          "Débito",
          "Cartão de Crédito",
          "Débito",
          "Cartão de Crédito",
          "Boleto",
          "Cartão de Crédito",
          "Débito",
          "Cartão de Crédito",
          "Cartão de Crédito",
          "Boleto",
          "Cartão de Crédito"
         ],
         "xaxis": "x",
         "yaxis": "y"
        }
       ],
       "layout": {
        "barmode": "relative",
        "legend": {
         "title": {
          "text": "status_assinatura"
         },
         "tracegroupgap": 0
        },
        "margin": {
         "t": 60
        },
        "template": {
         "data": {
          "bar": [
           {
            "error_x": {
             "color": "#2a3f5f"
            },
            "error_y": {
             "color": "#2a3f5f"
            },
            "marker": {
             "line": {
              "color": "#E5ECF6",
              "width": 0.5
             },
             "pattern": {
              "fillmode": "overlay",
              "size": 10,
              "solidity": 0.2
             }
            },
            "type": "bar"
           }
          ],
          "barpolar": [
           {
            "marker": {
             "line": {
              "color": "#E5ECF6",
              "width": 0.5
             },
             "pattern": {
              "fillmode": "overlay",
              "size": 10,
              "solidity": 0.2
             }
            },
            "type": "barpolar"
           }
          ],
          "carpet": [
           {
            "aaxis": {
             "endlinecolor": "#2a3f5f",
             "gridcolor": "white",
             "linecolor": "white",
             "minorgridcolor": "white",
             "startlinecolor": "#2a3f5f"
            },
            "baxis": {
             "endlinecolor": "#2a3f5f",
             "gridcolor": "white",
             "linecolor": "white",
             "minorgridcolor": "white",
             "startlinecolor": "#2a3f5f"
            },
            "type": "carpet"
           }
          ],
          "choropleth": [
           {
            "colorbar": {
             "outlinewidth": 0,
             "ticks": ""
            },
            "type": "choropleth"
           }
          ],
          "contour": [
           {
            "colorbar": {
             "outlinewidth": 0,
             "ticks": ""
            },
            "colorscale": [
             [
              0,
              "#0d0887"
             ],
             [
              0.1111111111111111,
              "#46039f"
             ],
             [
              0.2222222222222222,
              "#7201a8"
             ],
             [
              0.3333333333333333,
              "#9c179e"
             ],
             [
              0.4444444444444444,
              "#bd3786"
             ],
             [
              0.5555555555555556,
              "#d8576b"
             ],
             [
              0.6666666666666666,
              "#ed7953"
             ],
             [
              0.7777777777777778,
              "#fb9f3a"
             ],
             [
              0.8888888888888888,
              "#fdca26"
             ],
             [
              1,
              "#f0f921"
             ]
            ],
            "type": "contour"
           }
          ],
          "contourcarpet": [
           {
            "colorbar": {
             "outlinewidth": 0,
             "ticks": ""
            },
            "type": "contourcarpet"
           }
          ],
          "heatmap": [
           {
            "colorbar": {
             "outlinewidth": 0,
             "ticks": ""
            },
            "colorscale": [
             [
              0,
              "#0d0887"
             ],
             [
              0.1111111111111111,
              "#46039f"
             ],
             [
              0.2222222222222222,
              "#7201a8"
             ],
             [
              0.3333333333333333,
              "#9c179e"
             ],
             [
              0.4444444444444444,
              "#bd3786"
             ],
             [
              0.5555555555555556,
              "#d8576b"
             ],
             [
              0.6666666666666666,
              "#ed7953"
             ],
             [
              0.7777777777777778,
              "#fb9f3a"
             ],
             [
              0.8888888888888888,
              "#fdca26"
             ],
             [
              1,
              "#f0f921"
             ]
            ],
            "type": "heatmap"
           }
          ],
          "heatmapgl": [
           {
            "colorbar": {
             "outlinewidth": 0,
             "ticks": ""
            },
            "colorscale": [
             [
              0,
              "#0d0887"
             ],
             [
              0.1111111111111111,
              "#46039f"
             ],
             [
              0.2222222222222222,
              "#7201a8"
             ],
             [
              0.3333333333333333,
              "#9c179e"
             ],
             [
              0.4444444444444444,
              "#bd3786"
             ],
             [
              0.5555555555555556,
              "#d8576b"
             ],
             [
              0.6666666666666666,
              "#ed7953"
             ],
             [
              0.7777777777777778,
              "#fb9f3a"
             ],
             [
              0.8888888888888888,
              "#fdca26"
             ],
             [
              1,
              "#f0f921"
             ]
            ],
            "type": "heatmapgl"
           }
          ],
          "histogram": [
           {
            "marker": {
             "pattern": {
              "fillmode": "overlay",
              "size": 10,
              "solidity": 0.2
             }
            },
            "type": "histogram"
           }
          ],
          "histogram2d": [
           {
            "colorbar": {
             "outlinewidth": 0,
             "ticks": ""
            },
            "colorscale": [
             [
              0,
              "#0d0887"
             ],
             [
              0.1111111111111111,
              "#46039f"
             ],
             [
              0.2222222222222222,
              "#7201a8"
             ],
             [
              0.3333333333333333,
              "#9c179e"
             ],
             [
              0.4444444444444444,
              "#bd3786"
             ],
             [
              0.5555555555555556,
              "#d8576b"
             ],
             [
              0.6666666666666666,
              "#ed7953"
             ],
             [
              0.7777777777777778,
              "#fb9f3a"
             ],
             [
              0.8888888888888888,
              "#fdca26"
             ],
             [
              1,
              "#f0f921"
             ]
            ],
            "type": "histogram2d"
           }
          ],
          "histogram2dcontour": [
           {
            "colorbar": {
             "outlinewidth": 0,
             "ticks": ""
            },
            "colorscale": [
             [
              0,
              "#0d0887"
             ],
             [
              0.1111111111111111,
              "#46039f"
             ],
             [
              0.2222222222222222,
              "#7201a8"
             ],
             [
              0.3333333333333333,
              "#9c179e"
             ],
             [
              0.4444444444444444,
              "#bd3786"
             ],
             [
              0.5555555555555556,
              "#d8576b"
             ],
             [
              0.6666666666666666,
              "#ed7953"
             ],
             [
              0.7777777777777778,
              "#fb9f3a"
             ],
             [
              0.8888888888888888,
              "#fdca26"
             ],
             [
              1,
              "#f0f921"
             ]
            ],
            "type": "histogram2dcontour"
           }
          ],
          "mesh3d": [
           {
            "colorbar": {
             "outlinewidth": 0,
             "ticks": ""
            },
            "type": "mesh3d"
           }
          ],
          "parcoords": [
           {
            "line": {
             "colorbar": {
              "outlinewidth": 0,
              "ticks": ""
             }
            },
            "type": "parcoords"
           }
          ],
          "pie": [
           {
            "automargin": true,
            "type": "pie"
           }
          ],
          "scatter": [
           {
            "fillpattern": {
             "fillmode": "overlay",
             "size": 10,
             "solidity": 0.2
            },
            "type": "scatter"
           }
          ],
          "scatter3d": [
           {
            "line": {
             "colorbar": {
              "outlinewidth": 0,
              "ticks": ""
             }
            },
            "marker": {
             "colorbar": {
              "outlinewidth": 0,
              "ticks": ""
             }
            },
            "type": "scatter3d"
           }
          ],
          "scattercarpet": [
           {
            "marker": {
             "colorbar": {
              "outlinewidth": 0,
              "ticks": ""
             }
            },
            "type": "scattercarpet"
           }
          ],
          "scattergeo": [
           {
            "marker": {
             "colorbar": {
              "outlinewidth": 0,
              "ticks": ""
             }
            },
            "type": "scattergeo"
           }
          ],
          "scattergl": [
           {
            "marker": {
             "colorbar": {
              "outlinewidth": 0,
              "ticks": ""
             }
            },
            "type": "scattergl"
           }
          ],
          "scattermapbox": [
           {
            "marker": {
             "colorbar": {
              "outlinewidth": 0,
              "ticks": ""
             }
            },
            "type": "scattermapbox"
           }
          ],
          "scatterpolar": [
           {
            "marker": {
             "colorbar": {
              "outlinewidth": 0,
              "ticks": ""
             }
            },
            "type": "scatterpolar"
           }
          ],
          "scatterpolargl": [
           {
            "marker": {
             "colorbar": {
              "outlinewidth": 0,
              "ticks": ""
             }
            },
            "type": "scatterpolargl"
           }
          ],
          "scatterternary": [
           {
            "marker": {
             "colorbar": {
              "outlinewidth": 0,
              "ticks": ""
             }
            },
            "type": "scatterternary"
           }
          ],
          "surface": [
           {
            "colorbar": {
             "outlinewidth": 0,
             "ticks": ""
            },
            "colorscale": [
             [
              0,
              "#0d0887"
             ],
             [
              0.1111111111111111,
              "#46039f"
             ],
             [
              0.2222222222222222,
              "#7201a8"
             ],
             [
              0.3333333333333333,
              "#9c179e"
             ],
             [
              0.4444444444444444,
              "#bd3786"
             ],
             [
              0.5555555555555556,
              "#d8576b"
             ],
             [
              0.6666666666666666,
              "#ed7953"
             ],
             [
              0.7777777777777778,
              "#fb9f3a"
             ],
             [
              0.8888888888888888,
              "#fdca26"
             ],
             [
              1,
              "#f0f921"
             ]
            ],
            "type": "surface"
           }
          ],
          "table": [
           {
            "cells": {
             "fill": {
              "color": "#EBF0F8"
             },
             "line": {
              "color": "white"
             }
            },
            "header": {
             "fill": {
              "color": "#C8D4E3"
             },
             "line": {
              "color": "white"
             }
            },
            "type": "table"
           }
          ]
         },
         "layout": {
          "annotationdefaults": {
           "arrowcolor": "#2a3f5f",
           "arrowhead": 0,
           "arrowwidth": 1
          },
          "autotypenumbers": "strict",
          "coloraxis": {
           "colorbar": {
            "outlinewidth": 0,
            "ticks": ""
           }
          },
          "colorscale": {
           "diverging": [
            [
             0,
             "#8e0152"
            ],
            [
             0.1,
             "#c51b7d"
            ],
            [
             0.2,
             "#de77ae"
            ],
            [
             0.3,
             "#f1b6da"
            ],
            [
             0.4,
             "#fde0ef"
            ],
            [
             0.5,
             "#f7f7f7"
            ],
            [
             0.6,
             "#e6f5d0"
            ],
            [
             0.7,
             "#b8e186"
            ],
            [
             0.8,
             "#7fbc41"
            ],
            [
             0.9,
             "#4d9221"
            ],
            [
             1,
             "#276419"
            ]
           ],
           "sequential": [
            [
             0,
             "#0d0887"
            ],
            [
             0.1111111111111111,
             "#46039f"
            ],
            [
             0.2222222222222222,
             "#7201a8"
            ],
            [
             0.3333333333333333,
             "#9c179e"
            ],
            [
             0.4444444444444444,
             "#bd3786"
            ],
            [
             0.5555555555555556,
             "#d8576b"
            ],
            [
             0.6666666666666666,
             "#ed7953"
            ],
            [
             0.7777777777777778,
             "#fb9f3a"
            ],
            [
             0.8888888888888888,
             "#fdca26"
            ],
            [
             1,
             "#f0f921"
            ]
           ],
           "sequentialminus": [
            [
             0,
             "#0d0887"
            ],
            [
             0.1111111111111111,
             "#46039f"
            ],
            [
             0.2222222222222222,
             "#7201a8"
            ],
            [
             0.3333333333333333,
             "#9c179e"
            ],
            [
             0.4444444444444444,
             "#bd3786"
            ],
            [
             0.5555555555555556,
             "#d8576b"
            ],
            [
             0.6666666666666666,
             "#ed7953"
            ],
            [
             0.7777777777777778,
             "#fb9f3a"
            ],
            [
             0.8888888888888888,
             "#fdca26"
            ],
            [
             1,
             "#f0f921"
            ]
           ]
          },
          "colorway": [
           "#636efa",
           "#EF553B",
           "#00cc96",
           "#ab63fa",
           "#FFA15A",
           "#19d3f3",
           "#FF6692",
           "#B6E880",
           "#FF97FF",
           "#FECB52"
          ],
          "font": {
           "color": "#2a3f5f"
          },
          "geo": {
           "bgcolor": "white",
           "lakecolor": "white",
           "landcolor": "#E5ECF6",
           "showlakes": true,
           "showland": true,
           "subunitcolor": "white"
          },
          "hoverlabel": {
           "align": "left"
          },
          "hovermode": "closest",
          "mapbox": {
           "style": "light"
          },
          "paper_bgcolor": "white",
          "plot_bgcolor": "#E5ECF6",
          "polar": {
           "angularaxis": {
            "gridcolor": "white",
            "linecolor": "white",
            "ticks": ""
           },
           "bgcolor": "#E5ECF6",
           "radialaxis": {
            "gridcolor": "white",
            "linecolor": "white",
            "ticks": ""
           }
          },
          "scene": {
           "xaxis": {
            "backgroundcolor": "#E5ECF6",
            "gridcolor": "white",
            "gridwidth": 2,
            "linecolor": "white",
            "showbackground": true,
            "ticks": "",
            "zerolinecolor": "white"
           },
           "yaxis": {
            "backgroundcolor": "#E5ECF6",
            "gridcolor": "white",
            "gridwidth": 2,
            "linecolor": "white",
            "showbackground": true,
            "ticks": "",
            "zerolinecolor": "white"
           },
           "zaxis": {
            "backgroundcolor": "#E5ECF6",
            "gridcolor": "white",
            "gridwidth": 2,
            "linecolor": "white",
            "showbackground": true,
            "ticks": "",
            "zerolinecolor": "white"
           }
          },
          "shapedefaults": {
           "line": {
            "color": "#2a3f5f"
           }
          },
          "ternary": {
           "aaxis": {
            "gridcolor": "white",
            "linecolor": "white",
            "ticks": ""
           },
           "baxis": {
            "gridcolor": "white",
            "linecolor": "white",
            "ticks": ""
           },
           "bgcolor": "#E5ECF6",
           "caxis": {
            "gridcolor": "white",
            "linecolor": "white",
            "ticks": ""
           }
          },
          "title": {
           "x": 0.05
          },
          "xaxis": {
           "automargin": true,
           "gridcolor": "white",
           "linecolor": "white",
           "ticks": "",
           "title": {
            "standoff": 15
           },
           "zerolinecolor": "white",
           "zerolinewidth": 2
          },
          "yaxis": {
           "automargin": true,
           "gridcolor": "white",
           "linecolor": "white",
           "ticks": "",
           "title": {
            "standoff": 15
           },
           "zerolinecolor": "white",
           "zerolinewidth": 2
          }
         }
        },
        "xaxis": {
         "anchor": "y",
         "domain": [
          0,
          1
         ],
         "title": {
          "text": "metodo_pagamento"
         }
        },
        "yaxis": {
         "anchor": "x",
         "domain": [
          0,
          1
         ],
         "title": {
          "text": "count"
         }
        }
       }
      }
     },
     "metadata": {},
     "output_type": "display_data"
    },
    {
     "data": {
      "application/vnd.plotly.v1+json": {
       "config": {
        "plotlyServerURL": "https://plot.ly"
       },
       "data": [
        {
         "alignmentgroup": "True",
         "bingroup": "x",
         "hovertemplate": "status_assinatura=Cancelado<br>pacote=%{x}<br>count=%{y}<extra></extra>",
         "legendgroup": "Cancelado",
         "marker": {
          "color": "#636efa",
          "pattern": {
           "shape": ""
          }
         },
         "name": "Cancelado",
         "offsetgroup": "Cancelado",
         "orientation": "v",
         "showlegend": true,
         "type": "histogram",
         "x": [
          "Premium",
          "Premium",
          "Premium",
          "Padrão",
          "Premium",
          "Básico",
          "Básico",
          "Premium",
          "Premium",
          "Padrão",
          "Premium",
          "Básico",
          "Padrão",
          "Básico",
          "Premium",
          "Premium",
          "Básico",
          "Básico",
          "Premium",
          "Básico",
          "Premium",
          "Básico",
          "Premium",
          "Premium",
          "Básico",
          "Básico",
          "Padrão",
          "Premium",
          "Premium",
          "Padrão",
          "Padrão",
          "Padrão",
          "Padrão",
          "Premium",
          "Básico",
          "Básico",
          "Premium",
          "Premium",
          "Premium",
          "Premium",
          "Padrão",
          "Básico",
          "Premium",
          "Básico",
          "Padrão",
          "Padrão",
          "Básico",
          "Premium",
          "Básico",
          "Premium",
          "Básico",
          "Padrão",
          "Padrão",
          "Básico",
          "Premium",
          "Básico",
          "Básico",
          "Básico",
          "Básico",
          "Padrão",
          "Premium",
          "Padrão",
          "Premium",
          "Básico",
          "Premium",
          "Básico",
          "Básico",
          "Básico",
          "Básico",
          "Básico",
          "Premium",
          "Básico",
          "Premium",
          "Básico",
          "Padrão",
          "Premium",
          "Básico",
          "Padrão",
          "Básico",
          "Padrão",
          "Básico",
          "Básico",
          "Padrão",
          "Padrão",
          "Básico",
          "Premium",
          "Premium",
          "Básico",
          "Premium",
          "Premium",
          "Premium",
          "Padrão",
          "Premium",
          "Básico",
          "Premium",
          "Premium",
          "Básico",
          "Premium",
          "Básico",
          "Premium",
          "Básico",
          "Básico",
          "Premium",
          "Premium",
          "Premium",
          "Premium",
          "Padrão",
          "Padrão",
          "Básico",
          "Premium",
          "Premium",
          "Premium",
          "Padrão",
          "Premium",
          "Padrão",
          "Básico",
          "Padrão",
          "Premium",
          "Básico",
          "Básico",
          "Padrão",
          "Padrão",
          "Básico",
          "Premium",
          "Padrão",
          "Premium",
          "Premium",
          "Básico",
          "Padrão",
          "Básico",
          "Básico",
          "Básico",
          "Básico",
          "Padrão",
          "Premium",
          "Padrão",
          "Premium",
          "Básico",
          "Premium",
          "Premium",
          "Premium",
          "Básico",
          "Premium",
          "Básico",
          "Premium",
          "Padrão",
          "Padrão",
          "Premium",
          "Premium",
          "Premium",
          "Premium",
          "Básico",
          "Premium",
          "Básico",
          "Básico",
          "Básico",
          "Básico",
          "Padrão",
          "Padrão",
          "Premium",
          "Premium",
          "Premium",
          "Premium",
          "Premium",
          "Básico",
          "Básico",
          "Premium",
          "Básico",
          "Básico",
          "Padrão",
          "Padrão",
          "Premium",
          "Premium",
          "Premium",
          "Padrão",
          "Premium",
          "Padrão",
          "Padrão",
          "Premium",
          "Padrão",
          "Básico",
          "Padrão",
          "Padrão",
          "Básico",
          "Básico",
          "Básico",
          "Premium",
          "Premium",
          "Básico",
          "Básico",
          "Básico",
          "Padrão",
          "Padrão",
          "Padrão",
          "Básico",
          "Premium",
          "Premium",
          "Premium",
          "Premium",
          "Padrão",
          "Padrão",
          "Padrão",
          "Padrão",
          "Básico",
          "Padrão",
          "Básico",
          "Premium",
          "Básico",
          "Básico",
          "Básico",
          "Básico",
          "Padrão",
          "Padrão",
          "Básico",
          "Premium",
          "Básico",
          "Básico",
          "Premium",
          "Padrão",
          "Premium",
          "Premium",
          "Padrão",
          "Premium",
          "Premium",
          "Básico",
          "Básico",
          "Padrão",
          "Básico",
          "Padrão",
          "Premium",
          "Básico",
          "Básico",
          "Padrão",
          "Padrão",
          "Básico",
          "Básico",
          "Premium",
          "Básico",
          "Padrão",
          "Premium",
          "Padrão",
          "Premium",
          "Básico",
          "Padrão",
          "Básico",
          "Padrão",
          "Básico",
          "Padrão",
          "Padrão",
          "Padrão",
          "Padrão",
          "Padrão",
          "Padrão",
          "Básico",
          "Básico",
          "Básico",
          "Padrão",
          "Padrão",
          "Padrão",
          "Padrão",
          "Básico",
          "Básico",
          "Premium",
          "Básico",
          "Básico",
          "Básico",
          "Premium",
          "Padrão",
          "Premium",
          "Premium",
          "Padrão",
          "Básico",
          "Básico",
          "Padrão",
          "Premium",
          "Premium",
          "Básico",
          "Básico",
          "Básico",
          "Básico",
          "Básico",
          "Básico",
          "Básico",
          "Padrão",
          "Premium",
          "Básico",
          "Premium",
          "Básico",
          "Básico",
          "Básico",
          "Premium",
          "Padrão",
          "Padrão",
          "Básico",
          "Padrão",
          "Premium",
          "Básico",
          "Padrão",
          "Básico",
          "Premium",
          "Premium",
          "Premium",
          "Premium",
          "Padrão",
          "Padrão",
          "Premium",
          "Premium",
          "Premium",
          "Básico",
          "Padrão",
          "Premium",
          "Padrão",
          "Premium",
          "Premium",
          "Padrão",
          "Padrão",
          "Padrão",
          "Básico",
          "Básico",
          "Básico",
          "Básico",
          "Padrão",
          "Básico",
          "Padrão",
          "Premium",
          "Básico",
          "Básico",
          "Básico",
          "Premium",
          "Básico",
          "Básico",
          "Básico",
          "Padrão",
          "Premium",
          "Premium",
          "Básico",
          "Premium",
          "Premium",
          "Básico",
          "Básico",
          "Premium",
          "Básico",
          "Básico",
          "Básico",
          "Básico",
          "Premium",
          "Padrão",
          "Padrão",
          "Básico",
          "Padrão",
          "Básico",
          "Básico",
          "Premium",
          "Básico",
          "Básico",
          "Básico",
          "Premium",
          "Padrão",
          "Premium",
          "Padrão",
          "Padrão",
          "Básico",
          "Padrão",
          "Premium",
          "Premium",
          "Premium",
          "Premium",
          "Básico",
          "Premium",
          "Premium",
          "Básico",
          "Padrão",
          "Premium",
          "Padrão",
          "Básico",
          "Premium",
          "Premium",
          "Básico",
          "Premium",
          "Padrão",
          "Padrão",
          "Premium",
          "Básico",
          "Padrão",
          "Básico",
          "Premium",
          "Premium",
          "Padrão",
          "Básico",
          "Premium",
          "Padrão",
          "Premium",
          "Básico",
          "Básico",
          "Premium",
          "Padrão",
          "Padrão",
          "Padrão",
          "Padrão",
          "Padrão",
          "Básico",
          "Básico",
          "Padrão",
          "Básico",
          "Básico",
          "Padrão",
          "Padrão",
          "Básico",
          "Padrão",
          "Padrão",
          "Básico",
          "Básico",
          "Padrão",
          "Premium",
          "Premium",
          "Padrão",
          "Premium",
          "Padrão",
          "Básico",
          "Básico",
          "Premium",
          "Premium",
          "Padrão",
          "Básico",
          "Padrão",
          "Premium",
          "Premium",
          "Padrão",
          "Básico",
          "Básico",
          "Premium",
          "Básico",
          "Básico",
          "Padrão",
          "Básico",
          "Básico",
          "Padrão",
          "Padrão",
          "Premium",
          "Padrão",
          "Básico",
          "Básico",
          "Padrão",
          "Padrão",
          "Padrão",
          "Básico",
          "Padrão",
          "Básico",
          "Básico",
          "Premium",
          "Básico",
          "Premium",
          "Padrão",
          "Básico",
          "Padrão",
          "Premium",
          "Padrão",
          "Premium",
          "Premium",
          "Padrão",
          "Básico",
          "Padrão",
          "Padrão",
          "Premium",
          "Premium",
          "Premium",
          "Premium",
          "Básico",
          "Básico",
          "Básico",
          "Básico",
          "Básico",
          "Básico",
          "Premium",
          "Premium",
          "Padrão",
          "Premium",
          "Padrão",
          "Premium",
          "Padrão",
          "Básico",
          "Premium",
          "Premium",
          "Básico",
          "Premium",
          "Premium",
          "Premium",
          "Básico",
          "Padrão",
          "Premium",
          "Padrão",
          "Padrão",
          "Padrão",
          "Padrão",
          "Premium",
          "Premium",
          "Padrão",
          "Básico",
          "Premium",
          "Padrão",
          "Básico",
          "Padrão",
          "Padrão",
          "Padrão"
         ],
         "xaxis": "x",
         "yaxis": "y"
        },
        {
         "alignmentgroup": "True",
         "bingroup": "x",
         "hovertemplate": "status_assinatura=Ativo<br>pacote=%{x}<br>count=%{y}<extra></extra>",
         "legendgroup": "Ativo",
         "marker": {
          "color": "#EF553B",
          "pattern": {
           "shape": ""
          }
         },
         "name": "Ativo",
         "offsetgroup": "Ativo",
         "orientation": "v",
         "showlegend": true,
         "type": "histogram",
         "x": [
          "Premium",
          "Padrão",
          "Premium",
          "Premium",
          "Básico",
          "Básico",
          "Básico",
          "Padrão",
          "Premium",
          "Padrão",
          "Premium",
          "Básico",
          "Padrão",
          "Premium",
          "Padrão",
          "Premium",
          "Padrão",
          "Premium",
          "Básico",
          "Padrão",
          "Básico",
          "Básico",
          "Padrão",
          "Padrão",
          "Padrão",
          "Padrão",
          "Premium",
          "Padrão",
          "Padrão",
          "Padrão",
          "Premium",
          "Premium",
          "Padrão",
          "Premium",
          "Padrão",
          "Padrão",
          "Básico",
          "Padrão",
          "Padrão",
          "Padrão",
          "Padrão",
          "Premium",
          "Premium",
          "Premium",
          "Padrão",
          "Padrão",
          "Básico",
          "Básico",
          "Padrão",
          "Básico",
          "Básico",
          "Padrão",
          "Básico",
          "Premium",
          "Padrão",
          "Padrão",
          "Básico",
          "Premium",
          "Padrão",
          "Padrão",
          "Padrão",
          "Premium",
          "Premium",
          "Básico",
          "Premium",
          "Básico",
          "Padrão",
          "Premium",
          "Básico",
          "Padrão",
          "Premium",
          "Premium",
          "Padrão",
          "Básico",
          "Padrão",
          "Básico",
          "Premium",
          "Básico",
          "Padrão",
          "Básico",
          "Padrão",
          "Básico",
          "Premium",
          "Básico",
          "Básico",
          "Padrão",
          "Premium",
          "Básico",
          "Padrão",
          "Premium",
          "Padrão",
          "Básico",
          "Básico",
          "Básico",
          "Básico",
          "Premium",
          "Padrão",
          "Padrão",
          "Padrão",
          "Padrão",
          "Básico",
          "Padrão",
          "Premium",
          "Premium",
          "Básico",
          "Premium",
          "Premium",
          "Básico",
          "Padrão",
          "Básico",
          "Básico",
          "Padrão",
          "Básico",
          "Premium",
          "Premium",
          "Padrão",
          "Padrão",
          "Premium",
          "Básico",
          "Básico",
          "Padrão",
          "Básico",
          "Premium",
          "Padrão",
          "Premium",
          "Premium",
          "Padrão",
          "Padrão",
          "Premium",
          "Padrão",
          "Básico",
          "Padrão",
          "Básico",
          "Básico",
          "Premium",
          "Padrão",
          "Padrão",
          "Premium",
          "Básico",
          "Básico",
          "Padrão",
          "Premium",
          "Básico",
          "Básico",
          "Premium",
          "Básico",
          "Padrão",
          "Básico",
          "Premium",
          "Padrão",
          "Básico",
          "Básico",
          "Padrão",
          "Padrão",
          "Premium",
          "Básico",
          "Premium",
          "Premium",
          "Básico",
          "Padrão",
          "Premium",
          "Padrão",
          "Premium",
          "Básico",
          "Padrão",
          "Básico",
          "Premium",
          "Premium",
          "Premium",
          "Básico",
          "Básico",
          "Básico",
          "Básico",
          "Básico",
          "Básico",
          "Padrão",
          "Premium",
          "Premium",
          "Premium",
          "Básico",
          "Premium",
          "Padrão",
          "Padrão",
          "Padrão",
          "Padrão",
          "Padrão",
          "Padrão",
          "Básico",
          "Padrão",
          "Padrão",
          "Premium",
          "Básico",
          "Básico",
          "Básico",
          "Básico",
          "Premium",
          "Padrão",
          "Premium",
          "Premium",
          "Básico",
          "Padrão",
          "Premium",
          "Premium",
          "Padrão",
          "Básico",
          "Premium",
          "Padrão",
          "Básico",
          "Básico",
          "Premium",
          "Padrão",
          "Premium",
          "Básico",
          "Premium",
          "Básico",
          "Premium",
          "Premium",
          "Premium",
          "Básico",
          "Premium",
          "Básico",
          "Padrão",
          "Premium",
          "Premium",
          "Padrão",
          "Básico",
          "Básico",
          "Básico",
          "Premium",
          "Básico",
          "Básico",
          "Padrão",
          "Padrão",
          "Básico",
          "Premium",
          "Básico",
          "Padrão",
          "Padrão",
          "Padrão",
          "Básico",
          "Premium",
          "Padrão",
          "Premium",
          "Premium",
          "Básico",
          "Padrão",
          "Básico",
          "Padrão",
          "Básico",
          "Padrão",
          "Padrão",
          "Premium",
          "Padrão",
          "Básico",
          "Básico",
          "Básico",
          "Padrão",
          "Premium",
          "Premium",
          "Premium",
          "Padrão",
          "Básico",
          "Básico",
          "Básico",
          "Padrão",
          "Básico",
          "Básico",
          "Padrão",
          "Básico",
          "Básico",
          "Premium",
          "Premium",
          "Padrão",
          "Padrão",
          "Padrão",
          "Padrão",
          "Básico",
          "Básico",
          "Padrão",
          "Padrão",
          "Básico",
          "Básico",
          "Padrão",
          "Padrão",
          "Premium",
          "Padrão",
          "Básico",
          "Básico",
          "Padrão",
          "Básico",
          "Padrão",
          "Básico",
          "Premium",
          "Básico",
          "Padrão",
          "Premium",
          "Padrão",
          "Padrão",
          "Padrão",
          "Premium",
          "Padrão",
          "Premium",
          "Básico",
          "Básico",
          "Premium",
          "Padrão",
          "Premium",
          "Básico",
          "Premium",
          "Padrão",
          "Padrão",
          "Básico",
          "Premium",
          "Premium",
          "Padrão",
          "Premium",
          "Padrão",
          "Premium",
          "Premium",
          "Padrão",
          "Padrão",
          "Padrão",
          "Básico",
          "Básico",
          "Básico",
          "Premium",
          "Básico",
          "Premium",
          "Básico",
          "Premium",
          "Básico",
          "Padrão",
          "Básico",
          "Premium",
          "Premium",
          "Padrão",
          "Padrão",
          "Premium",
          "Básico",
          "Padrão",
          "Básico",
          "Premium",
          "Padrão",
          "Premium",
          "Padrão",
          "Básico",
          "Premium",
          "Padrão",
          "Padrão",
          "Premium",
          "Básico",
          "Básico",
          "Premium",
          "Padrão",
          "Premium",
          "Básico",
          "Premium",
          "Padrão",
          "Premium",
          "Básico",
          "Premium",
          "Básico",
          "Básico",
          "Básico",
          "Padrão",
          "Básico",
          "Premium",
          "Premium",
          "Premium",
          "Padrão",
          "Básico",
          "Padrão",
          "Básico",
          "Básico",
          "Padrão",
          "Básico",
          "Padrão",
          "Padrão",
          "Básico",
          "Padrão",
          "Premium",
          "Padrão",
          "Básico",
          "Premium",
          "Premium",
          "Premium",
          "Básico",
          "Padrão",
          "Básico",
          "Básico",
          "Premium",
          "Premium",
          "Básico",
          "Premium",
          "Padrão",
          "Básico",
          "Premium",
          "Básico",
          "Básico",
          "Padrão",
          "Básico",
          "Básico",
          "Padrão",
          "Premium",
          "Premium",
          "Premium",
          "Premium",
          "Padrão",
          "Padrão",
          "Básico",
          "Básico",
          "Padrão",
          "Básico",
          "Padrão",
          "Básico",
          "Padrão",
          "Premium",
          "Premium",
          "Padrão",
          "Básico",
          "Básico",
          "Básico",
          "Premium",
          "Padrão",
          "Padrão",
          "Padrão",
          "Premium",
          "Padrão",
          "Básico",
          "Premium",
          "Padrão",
          "Padrão",
          "Padrão",
          "Básico",
          "Padrão",
          "Padrão",
          "Premium",
          "Premium",
          "Básico",
          "Padrão",
          "Premium",
          "Premium",
          "Premium",
          "Básico",
          "Premium",
          "Padrão",
          "Básico",
          "Básico",
          "Premium",
          "Premium",
          "Premium",
          "Básico",
          "Padrão",
          "Básico",
          "Básico",
          "Padrão",
          "Básico",
          "Premium",
          "Padrão",
          "Básico",
          "Padrão",
          "Básico",
          "Básico",
          "Premium",
          "Padrão",
          "Premium",
          "Padrão",
          "Padrão",
          "Premium",
          "Premium",
          "Padrão",
          "Básico",
          "Padrão",
          "Básico",
          "Básico",
          "Premium",
          "Básico",
          "Padrão",
          "Padrão",
          "Premium",
          "Premium",
          "Premium",
          "Padrão",
          "Básico",
          "Básico",
          "Padrão",
          "Básico",
          "Premium",
          "Premium",
          "Padrão",
          "Básico",
          "Padrão",
          "Premium",
          "Básico",
          "Padrão",
          "Padrão"
         ],
         "xaxis": "x",
         "yaxis": "y"
        }
       ],
       "layout": {
        "barmode": "relative",
        "legend": {
         "title": {
          "text": "status_assinatura"
         },
         "tracegroupgap": 0
        },
        "margin": {
         "t": 60
        },
        "template": {
         "data": {
          "bar": [
           {
            "error_x": {
             "color": "#2a3f5f"
            },
            "error_y": {
             "color": "#2a3f5f"
            },
            "marker": {
             "line": {
              "color": "#E5ECF6",
              "width": 0.5
             },
             "pattern": {
              "fillmode": "overlay",
              "size": 10,
              "solidity": 0.2
             }
            },
            "type": "bar"
           }
          ],
          "barpolar": [
           {
            "marker": {
             "line": {
              "color": "#E5ECF6",
              "width": 0.5
             },
             "pattern": {
              "fillmode": "overlay",
              "size": 10,
              "solidity": 0.2
             }
            },
            "type": "barpolar"
           }
          ],
          "carpet": [
           {
            "aaxis": {
             "endlinecolor": "#2a3f5f",
             "gridcolor": "white",
             "linecolor": "white",
             "minorgridcolor": "white",
             "startlinecolor": "#2a3f5f"
            },
            "baxis": {
             "endlinecolor": "#2a3f5f",
             "gridcolor": "white",
             "linecolor": "white",
             "minorgridcolor": "white",
             "startlinecolor": "#2a3f5f"
            },
            "type": "carpet"
           }
          ],
          "choropleth": [
           {
            "colorbar": {
             "outlinewidth": 0,
             "ticks": ""
            },
            "type": "choropleth"
           }
          ],
          "contour": [
           {
            "colorbar": {
             "outlinewidth": 0,
             "ticks": ""
            },
            "colorscale": [
             [
              0,
              "#0d0887"
             ],
             [
              0.1111111111111111,
              "#46039f"
             ],
             [
              0.2222222222222222,
              "#7201a8"
             ],
             [
              0.3333333333333333,
              "#9c179e"
             ],
             [
              0.4444444444444444,
              "#bd3786"
             ],
             [
              0.5555555555555556,
              "#d8576b"
             ],
             [
              0.6666666666666666,
              "#ed7953"
             ],
             [
              0.7777777777777778,
              "#fb9f3a"
             ],
             [
              0.8888888888888888,
              "#fdca26"
             ],
             [
              1,
              "#f0f921"
             ]
            ],
            "type": "contour"
           }
          ],
          "contourcarpet": [
           {
            "colorbar": {
             "outlinewidth": 0,
             "ticks": ""
            },
            "type": "contourcarpet"
           }
          ],
          "heatmap": [
           {
            "colorbar": {
             "outlinewidth": 0,
             "ticks": ""
            },
            "colorscale": [
             [
              0,
              "#0d0887"
             ],
             [
              0.1111111111111111,
              "#46039f"
             ],
             [
              0.2222222222222222,
              "#7201a8"
             ],
             [
              0.3333333333333333,
              "#9c179e"
             ],
             [
              0.4444444444444444,
              "#bd3786"
             ],
             [
              0.5555555555555556,
              "#d8576b"
             ],
             [
              0.6666666666666666,
              "#ed7953"
             ],
             [
              0.7777777777777778,
              "#fb9f3a"
             ],
             [
              0.8888888888888888,
              "#fdca26"
             ],
             [
              1,
              "#f0f921"
             ]
            ],
            "type": "heatmap"
           }
          ],
          "heatmapgl": [
           {
            "colorbar": {
             "outlinewidth": 0,
             "ticks": ""
            },
            "colorscale": [
             [
              0,
              "#0d0887"
             ],
             [
              0.1111111111111111,
              "#46039f"
             ],
             [
              0.2222222222222222,
              "#7201a8"
             ],
             [
              0.3333333333333333,
              "#9c179e"
             ],
             [
              0.4444444444444444,
              "#bd3786"
             ],
             [
              0.5555555555555556,
              "#d8576b"
             ],
             [
              0.6666666666666666,
              "#ed7953"
             ],
             [
              0.7777777777777778,
              "#fb9f3a"
             ],
             [
              0.8888888888888888,
              "#fdca26"
             ],
             [
              1,
              "#f0f921"
             ]
            ],
            "type": "heatmapgl"
           }
          ],
          "histogram": [
           {
            "marker": {
             "pattern": {
              "fillmode": "overlay",
              "size": 10,
              "solidity": 0.2
             }
            },
            "type": "histogram"
           }
          ],
          "histogram2d": [
           {
            "colorbar": {
             "outlinewidth": 0,
             "ticks": ""
            },
            "colorscale": [
             [
              0,
              "#0d0887"
             ],
             [
              0.1111111111111111,
              "#46039f"
             ],
             [
              0.2222222222222222,
              "#7201a8"
             ],
             [
              0.3333333333333333,
              "#9c179e"
             ],
             [
              0.4444444444444444,
              "#bd3786"
             ],
             [
              0.5555555555555556,
              "#d8576b"
             ],
             [
              0.6666666666666666,
              "#ed7953"
             ],
             [
              0.7777777777777778,
              "#fb9f3a"
             ],
             [
              0.8888888888888888,
              "#fdca26"
             ],
             [
              1,
              "#f0f921"
             ]
            ],
            "type": "histogram2d"
           }
          ],
          "histogram2dcontour": [
           {
            "colorbar": {
             "outlinewidth": 0,
             "ticks": ""
            },
            "colorscale": [
             [
              0,
              "#0d0887"
             ],
             [
              0.1111111111111111,
              "#46039f"
             ],
             [
              0.2222222222222222,
              "#7201a8"
             ],
             [
              0.3333333333333333,
              "#9c179e"
             ],
             [
              0.4444444444444444,
              "#bd3786"
             ],
             [
              0.5555555555555556,
              "#d8576b"
             ],
             [
              0.6666666666666666,
              "#ed7953"
             ],
             [
              0.7777777777777778,
              "#fb9f3a"
             ],
             [
              0.8888888888888888,
              "#fdca26"
             ],
             [
              1,
              "#f0f921"
             ]
            ],
            "type": "histogram2dcontour"
           }
          ],
          "mesh3d": [
           {
            "colorbar": {
             "outlinewidth": 0,
             "ticks": ""
            },
            "type": "mesh3d"
           }
          ],
          "parcoords": [
           {
            "line": {
             "colorbar": {
              "outlinewidth": 0,
              "ticks": ""
             }
            },
            "type": "parcoords"
           }
          ],
          "pie": [
           {
            "automargin": true,
            "type": "pie"
           }
          ],
          "scatter": [
           {
            "fillpattern": {
             "fillmode": "overlay",
             "size": 10,
             "solidity": 0.2
            },
            "type": "scatter"
           }
          ],
          "scatter3d": [
           {
            "line": {
             "colorbar": {
              "outlinewidth": 0,
              "ticks": ""
             }
            },
            "marker": {
             "colorbar": {
              "outlinewidth": 0,
              "ticks": ""
             }
            },
            "type": "scatter3d"
           }
          ],
          "scattercarpet": [
           {
            "marker": {
             "colorbar": {
              "outlinewidth": 0,
              "ticks": ""
             }
            },
            "type": "scattercarpet"
           }
          ],
          "scattergeo": [
           {
            "marker": {
             "colorbar": {
              "outlinewidth": 0,
              "ticks": ""
             }
            },
            "type": "scattergeo"
           }
          ],
          "scattergl": [
           {
            "marker": {
             "colorbar": {
              "outlinewidth": 0,
              "ticks": ""
             }
            },
            "type": "scattergl"
           }
          ],
          "scattermapbox": [
           {
            "marker": {
             "colorbar": {
              "outlinewidth": 0,
              "ticks": ""
             }
            },
            "type": "scattermapbox"
           }
          ],
          "scatterpolar": [
           {
            "marker": {
             "colorbar": {
              "outlinewidth": 0,
              "ticks": ""
             }
            },
            "type": "scatterpolar"
           }
          ],
          "scatterpolargl": [
           {
            "marker": {
             "colorbar": {
              "outlinewidth": 0,
              "ticks": ""
             }
            },
            "type": "scatterpolargl"
           }
          ],
          "scatterternary": [
           {
            "marker": {
             "colorbar": {
              "outlinewidth": 0,
              "ticks": ""
             }
            },
            "type": "scatterternary"
           }
          ],
          "surface": [
           {
            "colorbar": {
             "outlinewidth": 0,
             "ticks": ""
            },
            "colorscale": [
             [
              0,
              "#0d0887"
             ],
             [
              0.1111111111111111,
              "#46039f"
             ],
             [
              0.2222222222222222,
              "#7201a8"
             ],
             [
              0.3333333333333333,
              "#9c179e"
             ],
             [
              0.4444444444444444,
              "#bd3786"
             ],
             [
              0.5555555555555556,
              "#d8576b"
             ],
             [
              0.6666666666666666,
              "#ed7953"
             ],
             [
              0.7777777777777778,
              "#fb9f3a"
             ],
             [
              0.8888888888888888,
              "#fdca26"
             ],
             [
              1,
              "#f0f921"
             ]
            ],
            "type": "surface"
           }
          ],
          "table": [
           {
            "cells": {
             "fill": {
              "color": "#EBF0F8"
             },
             "line": {
              "color": "white"
             }
            },
            "header": {
             "fill": {
              "color": "#C8D4E3"
             },
             "line": {
              "color": "white"
             }
            },
            "type": "table"
           }
          ]
         },
         "layout": {
          "annotationdefaults": {
           "arrowcolor": "#2a3f5f",
           "arrowhead": 0,
           "arrowwidth": 1
          },
          "autotypenumbers": "strict",
          "coloraxis": {
           "colorbar": {
            "outlinewidth": 0,
            "ticks": ""
           }
          },
          "colorscale": {
           "diverging": [
            [
             0,
             "#8e0152"
            ],
            [
             0.1,
             "#c51b7d"
            ],
            [
             0.2,
             "#de77ae"
            ],
            [
             0.3,
             "#f1b6da"
            ],
            [
             0.4,
             "#fde0ef"
            ],
            [
             0.5,
             "#f7f7f7"
            ],
            [
             0.6,
             "#e6f5d0"
            ],
            [
             0.7,
             "#b8e186"
            ],
            [
             0.8,
             "#7fbc41"
            ],
            [
             0.9,
             "#4d9221"
            ],
            [
             1,
             "#276419"
            ]
           ],
           "sequential": [
            [
             0,
             "#0d0887"
            ],
            [
             0.1111111111111111,
             "#46039f"
            ],
            [
             0.2222222222222222,
             "#7201a8"
            ],
            [
             0.3333333333333333,
             "#9c179e"
            ],
            [
             0.4444444444444444,
             "#bd3786"
            ],
            [
             0.5555555555555556,
             "#d8576b"
            ],
            [
             0.6666666666666666,
             "#ed7953"
            ],
            [
             0.7777777777777778,
             "#fb9f3a"
            ],
            [
             0.8888888888888888,
             "#fdca26"
            ],
            [
             1,
             "#f0f921"
            ]
           ],
           "sequentialminus": [
            [
             0,
             "#0d0887"
            ],
            [
             0.1111111111111111,
             "#46039f"
            ],
            [
             0.2222222222222222,
             "#7201a8"
            ],
            [
             0.3333333333333333,
             "#9c179e"
            ],
            [
             0.4444444444444444,
             "#bd3786"
            ],
            [
             0.5555555555555556,
             "#d8576b"
            ],
            [
             0.6666666666666666,
             "#ed7953"
            ],
            [
             0.7777777777777778,
             "#fb9f3a"
            ],
            [
             0.8888888888888888,
             "#fdca26"
            ],
            [
             1,
             "#f0f921"
            ]
           ]
          },
          "colorway": [
           "#636efa",
           "#EF553B",
           "#00cc96",
           "#ab63fa",
           "#FFA15A",
           "#19d3f3",
           "#FF6692",
           "#B6E880",
           "#FF97FF",
           "#FECB52"
          ],
          "font": {
           "color": "#2a3f5f"
          },
          "geo": {
           "bgcolor": "white",
           "lakecolor": "white",
           "landcolor": "#E5ECF6",
           "showlakes": true,
           "showland": true,
           "subunitcolor": "white"
          },
          "hoverlabel": {
           "align": "left"
          },
          "hovermode": "closest",
          "mapbox": {
           "style": "light"
          },
          "paper_bgcolor": "white",
          "plot_bgcolor": "#E5ECF6",
          "polar": {
           "angularaxis": {
            "gridcolor": "white",
            "linecolor": "white",
            "ticks": ""
           },
           "bgcolor": "#E5ECF6",
           "radialaxis": {
            "gridcolor": "white",
            "linecolor": "white",
            "ticks": ""
           }
          },
          "scene": {
           "xaxis": {
            "backgroundcolor": "#E5ECF6",
            "gridcolor": "white",
            "gridwidth": 2,
            "linecolor": "white",
            "showbackground": true,
            "ticks": "",
            "zerolinecolor": "white"
           },
           "yaxis": {
            "backgroundcolor": "#E5ECF6",
            "gridcolor": "white",
            "gridwidth": 2,
            "linecolor": "white",
            "showbackground": true,
            "ticks": "",
            "zerolinecolor": "white"
           },
           "zaxis": {
            "backgroundcolor": "#E5ECF6",
            "gridcolor": "white",
            "gridwidth": 2,
            "linecolor": "white",
            "showbackground": true,
            "ticks": "",
            "zerolinecolor": "white"
           }
          },
          "shapedefaults": {
           "line": {
            "color": "#2a3f5f"
           }
          },
          "ternary": {
           "aaxis": {
            "gridcolor": "white",
            "linecolor": "white",
            "ticks": ""
           },
           "baxis": {
            "gridcolor": "white",
            "linecolor": "white",
            "ticks": ""
           },
           "bgcolor": "#E5ECF6",
           "caxis": {
            "gridcolor": "white",
            "linecolor": "white",
            "ticks": ""
           }
          },
          "title": {
           "x": 0.05
          },
          "xaxis": {
           "automargin": true,
           "gridcolor": "white",
           "linecolor": "white",
           "ticks": "",
           "title": {
            "standoff": 15
           },
           "zerolinecolor": "white",
           "zerolinewidth": 2
          },
          "yaxis": {
           "automargin": true,
           "gridcolor": "white",
           "linecolor": "white",
           "ticks": "",
           "title": {
            "standoff": 15
           },
           "zerolinecolor": "white",
           "zerolinewidth": 2
          }
         }
        },
        "xaxis": {
         "anchor": "y",
         "domain": [
          0,
          1
         ],
         "title": {
          "text": "pacote"
         }
        },
        "yaxis": {
         "anchor": "x",
         "domain": [
          0,
          1
         ],
         "title": {
          "text": "count"
         }
        }
       }
      }
     },
     "metadata": {},
     "output_type": "display_data"
    },
    {
     "data": {
      "application/vnd.plotly.v1+json": {
       "config": {
        "plotlyServerURL": "https://plot.ly"
       },
       "data": [
        {
         "alignmentgroup": "True",
         "bingroup": "x",
         "hovertemplate": "status_assinatura=Cancelado<br>regiao=%{x}<br>count=%{y}<extra></extra>",
         "legendgroup": "Cancelado",
         "marker": {
          "color": "#636efa",
          "pattern": {
           "shape": ""
          }
         },
         "name": "Cancelado",
         "offsetgroup": "Cancelado",
         "orientation": "v",
         "showlegend": true,
         "type": "histogram",
         "x": [
          "Centro-Oeste",
          "Sul",
          "Nordeste",
          "Centro-Oeste",
          "Sul",
          "Sudeste",
          "Sul",
          "Nordeste",
          "Norte",
          "Centro-Oeste",
          "Sudeste",
          "Nordeste",
          "Nordeste",
          "Nordeste",
          "Nordeste",
          "Sul",
          "Norte",
          "Centro-Oeste",
          "Centro-Oeste",
          "Sul",
          "Sudeste",
          "Norte",
          "Nordeste",
          "Centro-Oeste",
          "Sudeste",
          "Centro-Oeste",
          "Centro-Oeste",
          "Nordeste",
          "Centro-Oeste",
          "Norte",
          "Sul",
          "Norte",
          "Nordeste",
          "Sudeste",
          "Nordeste",
          "Nordeste",
          "Nordeste",
          "Sul",
          "Sudeste",
          "Norte",
          "Norte",
          "Sul",
          "Nordeste",
          "Nordeste",
          "Centro-Oeste",
          "Sul",
          "Sul",
          "Centro-Oeste",
          "Sudeste",
          "Sudeste",
          "Norte",
          "Sudeste",
          "Sudeste",
          "Sudeste",
          "Norte",
          "Sul",
          "Centro-Oeste",
          "Nordeste",
          "Sul",
          "Centro-Oeste",
          "Nordeste",
          "Norte",
          "Sul",
          "Sul",
          "Norte",
          "Sudeste",
          "Sudeste",
          "Nordeste",
          "Sudeste",
          "Centro-Oeste",
          "Centro-Oeste",
          "Nordeste",
          "Centro-Oeste",
          "Sul",
          "Nordeste",
          "Centro-Oeste",
          "Sudeste",
          "Nordeste",
          "Norte",
          "Nordeste",
          "Centro-Oeste",
          "Centro-Oeste",
          "Centro-Oeste",
          "Centro-Oeste",
          "Sul",
          "Norte",
          "Sul",
          "Sudeste",
          "Sudeste",
          "Sul",
          "Nordeste",
          "Sul",
          "Sudeste",
          "Centro-Oeste",
          "Norte",
          "Nordeste",
          "Sul",
          "Sul",
          "Norte",
          "Nordeste",
          "Nordeste",
          "Sudeste",
          "Nordeste",
          "Sul",
          "Norte",
          "Sudeste",
          "Sul",
          "Sul",
          "Sul",
          "Norte",
          "Sudeste",
          "Centro-Oeste",
          "Centro-Oeste",
          "Sudeste",
          "Nordeste",
          "Centro-Oeste",
          "Centro-Oeste",
          "Nordeste",
          "Sul",
          "Sudeste",
          "Centro-Oeste",
          "Nordeste",
          "Norte",
          "Centro-Oeste",
          "Centro-Oeste",
          "Sudeste",
          "Sudeste",
          "Sudeste",
          "Centro-Oeste",
          "Sul",
          "Nordeste",
          "Nordeste",
          "Norte",
          "Nordeste",
          "Norte",
          "Nordeste",
          "Norte",
          "Norte",
          "Sul",
          "Centro-Oeste",
          "Sudeste",
          "Norte",
          "Norte",
          "Norte",
          "Sul",
          "Sul",
          "Norte",
          "Sudeste",
          "Centro-Oeste",
          "Sul",
          "Nordeste",
          "Norte",
          "Sul",
          "Centro-Oeste",
          "Sudeste",
          "Sudeste",
          "Nordeste",
          "Sul",
          "Sudeste",
          "Sudeste",
          "Norte",
          "Norte",
          "Sul",
          "Nordeste",
          "Sudeste",
          "Centro-Oeste",
          "Sul",
          "Centro-Oeste",
          "Nordeste",
          "Norte",
          "Sudeste",
          "Sul",
          "Nordeste",
          "Sul",
          "Centro-Oeste",
          "Sudeste",
          "Sudeste",
          "Nordeste",
          "Centro-Oeste",
          "Norte",
          "Centro-Oeste",
          "Centro-Oeste",
          "Norte",
          "Norte",
          "Centro-Oeste",
          "Sul",
          "Sudeste",
          "Centro-Oeste",
          "Norte",
          "Centro-Oeste",
          "Norte",
          "Sul",
          "Sul",
          "Sul",
          "Centro-Oeste",
          "Sul",
          "Nordeste",
          "Norte",
          "Nordeste",
          "Norte",
          "Norte",
          "Sudeste",
          "Sul",
          "Nordeste",
          "Sul",
          "Centro-Oeste",
          "Sudeste",
          "Nordeste",
          "Sul",
          "Sul",
          "Norte",
          "Norte",
          "Centro-Oeste",
          "Sudeste",
          "Sudeste",
          "Nordeste",
          "Sudeste",
          "Sudeste",
          "Norte",
          "Sul",
          "Nordeste",
          "Sudeste",
          "Norte",
          "Norte",
          "Nordeste",
          "Sudeste",
          "Sul",
          "Centro-Oeste",
          "Norte",
          "Nordeste",
          "Sul",
          "Sudeste",
          "Sul",
          "Norte",
          "Sul",
          "Sul",
          "Centro-Oeste",
          "Sul",
          "Sul",
          "Norte",
          "Sudeste",
          "Sudeste",
          "Sudeste",
          "Nordeste",
          "Sul",
          "Nordeste",
          "Sudeste",
          "Sudeste",
          "Sudeste",
          "Sul",
          "Norte",
          "Nordeste",
          "Norte",
          "Centro-Oeste",
          "Norte",
          "Norte",
          "Nordeste",
          "Norte",
          "Nordeste",
          "Sul",
          "Centro-Oeste",
          "Sul",
          "Norte",
          "Sudeste",
          "Sul",
          "Norte",
          "Sudeste",
          "Sul",
          "Sudeste",
          "Sudeste",
          "Sudeste",
          "Nordeste",
          "Nordeste",
          "Norte",
          "Sudeste",
          "Centro-Oeste",
          "Sudeste",
          "Sul",
          "Centro-Oeste",
          "Sul",
          "Centro-Oeste",
          "Centro-Oeste",
          "Sul",
          "Nordeste",
          "Sudeste",
          "Sudeste",
          "Sudeste",
          "Nordeste",
          "Sudeste",
          "Centro-Oeste",
          "Centro-Oeste",
          "Nordeste",
          "Sudeste",
          "Sul",
          "Norte",
          "Sudeste",
          "Norte",
          "Nordeste",
          "Nordeste",
          "Centro-Oeste",
          "Nordeste",
          "Norte",
          "Nordeste",
          "Centro-Oeste",
          "Sudeste",
          "Norte",
          "Sul",
          "Sul",
          "Centro-Oeste",
          "Centro-Oeste",
          "Nordeste",
          "Sul",
          "Nordeste",
          "Centro-Oeste",
          "Sudeste",
          "Sudeste",
          "Sudeste",
          "Nordeste",
          "Nordeste",
          "Nordeste",
          "Norte",
          "Nordeste",
          "Nordeste",
          "Sudeste",
          "Norte",
          "Sul",
          "Centro-Oeste",
          "Nordeste",
          "Norte",
          "Sul",
          "Centro-Oeste",
          "Sudeste",
          "Centro-Oeste",
          "Sul",
          "Centro-Oeste",
          "Norte",
          "Sudeste",
          "Sudeste",
          "Norte",
          "Nordeste",
          "Sudeste",
          "Sul",
          "Nordeste",
          "Nordeste",
          "Centro-Oeste",
          "Centro-Oeste",
          "Sudeste",
          "Sul",
          "Norte",
          "Centro-Oeste",
          "Sudeste",
          "Nordeste",
          "Sul",
          "Norte",
          "Sul",
          "Centro-Oeste",
          "Sudeste",
          "Sudeste",
          "Sudeste",
          "Sul",
          "Norte",
          "Centro-Oeste",
          "Norte",
          "Norte",
          "Norte",
          "Nordeste",
          "Nordeste",
          "Nordeste",
          "Sudeste",
          "Sul",
          "Norte",
          "Norte",
          "Sul",
          "Norte",
          "Norte",
          "Norte",
          "Centro-Oeste",
          "Nordeste",
          "Centro-Oeste",
          "Sul",
          "Sudeste",
          "Norte",
          "Sudeste",
          "Sudeste",
          "Sudeste",
          "Norte",
          "Sudeste",
          "Centro-Oeste",
          "Sul",
          "Sul",
          "Sudeste",
          "Sul",
          "Sudeste",
          "Centro-Oeste",
          "Centro-Oeste",
          "Norte",
          "Sudeste",
          "Norte",
          "Norte",
          "Sul",
          "Centro-Oeste",
          "Nordeste",
          "Centro-Oeste",
          "Nordeste",
          "Nordeste",
          "Nordeste",
          "Nordeste",
          "Nordeste",
          "Centro-Oeste",
          "Norte",
          "Nordeste",
          "Norte",
          "Sudeste",
          "Norte",
          "Centro-Oeste",
          "Nordeste",
          "Centro-Oeste",
          "Centro-Oeste",
          "Nordeste",
          "Nordeste",
          "Centro-Oeste",
          "Sul",
          "Centro-Oeste",
          "Sudeste",
          "Sul",
          "Nordeste",
          "Norte",
          "Centro-Oeste",
          "Nordeste",
          "Nordeste",
          "Sul",
          "Sudeste",
          "Nordeste",
          "Norte",
          "Centro-Oeste",
          "Sudeste",
          "Nordeste",
          "Centro-Oeste",
          "Sudeste",
          "Sul",
          "Sudeste",
          "Sudeste",
          "Sul",
          "Nordeste",
          "Centro-Oeste",
          "Nordeste",
          "Sudeste",
          "Nordeste",
          "Sul",
          "Sudeste",
          "Sul",
          "Centro-Oeste",
          "Nordeste",
          "Nordeste",
          "Sul",
          "Nordeste",
          "Nordeste",
          "Sudeste",
          "Sudeste",
          "Nordeste",
          "Centro-Oeste",
          "Norte",
          "Nordeste",
          "Norte",
          "Nordeste",
          "Sudeste",
          "Centro-Oeste",
          "Sul",
          "Norte",
          "Centro-Oeste",
          "Sudeste",
          "Centro-Oeste",
          "Nordeste",
          "Sul",
          "Centro-Oeste",
          "Norte",
          "Sudeste",
          "Nordeste",
          "Sul",
          "Sudeste",
          "Norte",
          "Sudeste",
          "Nordeste",
          "Centro-Oeste",
          "Nordeste",
          "Nordeste",
          "Nordeste",
          "Sudeste",
          "Sul",
          "Centro-Oeste",
          "Norte",
          "Sul",
          "Sudeste",
          "Nordeste",
          "Nordeste",
          "Sudeste",
          "Norte",
          "Nordeste",
          "Sul",
          "Sudeste",
          "Centro-Oeste",
          "Norte",
          "Nordeste",
          "Sul"
         ],
         "xaxis": "x",
         "yaxis": "y"
        },
        {
         "alignmentgroup": "True",
         "bingroup": "x",
         "hovertemplate": "status_assinatura=Ativo<br>regiao=%{x}<br>count=%{y}<extra></extra>",
         "legendgroup": "Ativo",
         "marker": {
          "color": "#EF553B",
          "pattern": {
           "shape": ""
          }
         },
         "name": "Ativo",
         "offsetgroup": "Ativo",
         "orientation": "v",
         "showlegend": true,
         "type": "histogram",
         "x": [
          "Norte",
          "Nordeste",
          "Centro-Oeste",
          "Sul",
          "Centro-Oeste",
          "Norte",
          "Nordeste",
          "Sul",
          "Sul",
          "Sudeste",
          "Centro-Oeste",
          "Sudeste",
          "Nordeste",
          "Norte",
          "Sudeste",
          "Sul",
          "Nordeste",
          "Sudeste",
          "Norte",
          "Norte",
          "Norte",
          "Nordeste",
          "Centro-Oeste",
          "Sul",
          "Norte",
          "Sul",
          "Sudeste",
          "Sul",
          "Nordeste",
          "Sul",
          "Sudeste",
          "Centro-Oeste",
          "Norte",
          "Nordeste",
          "Centro-Oeste",
          "Nordeste",
          "Sudeste",
          "Norte",
          "Centro-Oeste",
          "Sudeste",
          "Centro-Oeste",
          "Sul",
          "Centro-Oeste",
          "Centro-Oeste",
          "Nordeste",
          "Sul",
          "Sudeste",
          "Sul",
          "Norte",
          "Sudeste",
          "Centro-Oeste",
          "Centro-Oeste",
          "Centro-Oeste",
          "Norte",
          "Centro-Oeste",
          "Centro-Oeste",
          "Centro-Oeste",
          "Centro-Oeste",
          "Centro-Oeste",
          "Nordeste",
          "Sudeste",
          "Nordeste",
          "Norte",
          "Sudeste",
          "Centro-Oeste",
          "Centro-Oeste",
          "Sul",
          "Sul",
          "Nordeste",
          "Centro-Oeste",
          "Sul",
          "Sudeste",
          "Nordeste",
          "Sudeste",
          "Norte",
          "Centro-Oeste",
          "Nordeste",
          "Sul",
          "Centro-Oeste",
          "Sudeste",
          "Centro-Oeste",
          "Norte",
          "Sudeste",
          "Norte",
          "Sudeste",
          "Norte",
          "Sul",
          "Nordeste",
          "Nordeste",
          "Centro-Oeste",
          "Sul",
          "Sudeste",
          "Nordeste",
          "Centro-Oeste",
          "Nordeste",
          "Norte",
          "Centro-Oeste",
          "Nordeste",
          "Centro-Oeste",
          "Norte",
          "Sul",
          "Centro-Oeste",
          "Nordeste",
          "Sul",
          "Sul",
          "Sul",
          "Norte",
          "Nordeste",
          "Norte",
          "Nordeste",
          "Norte",
          "Norte",
          "Nordeste",
          "Norte",
          "Sudeste",
          "Norte",
          "Sul",
          "Centro-Oeste",
          "Sul",
          "Centro-Oeste",
          "Nordeste",
          "Sul",
          "Nordeste",
          "Nordeste",
          "Nordeste",
          "Sudeste",
          "Sudeste",
          "Centro-Oeste",
          "Sudeste",
          "Sudeste",
          "Norte",
          "Norte",
          "Norte",
          "Sul",
          "Nordeste",
          "Centro-Oeste",
          "Norte",
          "Sudeste",
          "Norte",
          "Centro-Oeste",
          "Norte",
          "Sudeste",
          "Nordeste",
          "Centro-Oeste",
          "Nordeste",
          "Nordeste",
          "Norte",
          "Norte",
          "Norte",
          "Norte",
          "Sul",
          "Nordeste",
          "Norte",
          "Norte",
          "Norte",
          "Centro-Oeste",
          "Sul",
          "Centro-Oeste",
          "Sul",
          "Norte",
          "Nordeste",
          "Norte",
          "Centro-Oeste",
          "Sul",
          "Norte",
          "Norte",
          "Nordeste",
          "Nordeste",
          "Centro-Oeste",
          "Centro-Oeste",
          "Nordeste",
          "Sul",
          "Sul",
          "Nordeste",
          "Sul",
          "Sudeste",
          "Sul",
          "Sudeste",
          "Norte",
          "Sul",
          "Norte",
          "Sul",
          "Centro-Oeste",
          "Norte",
          "Sudeste",
          "Centro-Oeste",
          "Sudeste",
          "Sul",
          "Centro-Oeste",
          "Sul",
          "Nordeste",
          "Sudeste",
          "Sul",
          "Nordeste",
          "Norte",
          "Sul",
          "Centro-Oeste",
          "Nordeste",
          "Centro-Oeste",
          "Sudeste",
          "Sudeste",
          "Sul",
          "Sul",
          "Nordeste",
          "Norte",
          "Sul",
          "Norte",
          "Norte",
          "Norte",
          "Sul",
          "Sudeste",
          "Norte",
          "Norte",
          "Centro-Oeste",
          "Sudeste",
          "Sudeste",
          "Centro-Oeste",
          "Centro-Oeste",
          "Norte",
          "Sul",
          "Centro-Oeste",
          "Centro-Oeste",
          "Sul",
          "Norte",
          "Centro-Oeste",
          "Centro-Oeste",
          "Sudeste",
          "Sudeste",
          "Centro-Oeste",
          "Nordeste",
          "Sul",
          "Sul",
          "Centro-Oeste",
          "Sudeste",
          "Nordeste",
          "Norte",
          "Nordeste",
          "Sul",
          "Nordeste",
          "Norte",
          "Norte",
          "Sudeste",
          "Sul",
          "Sul",
          "Sudeste",
          "Nordeste",
          "Norte",
          "Sudeste",
          "Sul",
          "Nordeste",
          "Sul",
          "Sudeste",
          "Sul",
          "Sudeste",
          "Nordeste",
          "Nordeste",
          "Sul",
          "Sudeste",
          "Centro-Oeste",
          "Centro-Oeste",
          "Nordeste",
          "Nordeste",
          "Nordeste",
          "Sudeste",
          "Sudeste",
          "Centro-Oeste",
          "Norte",
          "Centro-Oeste",
          "Sudeste",
          "Sul",
          "Sudeste",
          "Sul",
          "Sudeste",
          "Centro-Oeste",
          "Norte",
          "Sul",
          "Nordeste",
          "Norte",
          "Norte",
          "Centro-Oeste",
          "Centro-Oeste",
          "Centro-Oeste",
          "Sudeste",
          "Norte",
          "Sul",
          "Norte",
          "Sudeste",
          "Sudeste",
          "Nordeste",
          "Sul",
          "Nordeste",
          "Sudeste",
          "Centro-Oeste",
          "Sul",
          "Sudeste",
          "Norte",
          "Norte",
          "Sudeste",
          "Centro-Oeste",
          "Sul",
          "Sul",
          "Norte",
          "Centro-Oeste",
          "Sudeste",
          "Nordeste",
          "Sudeste",
          "Centro-Oeste",
          "Centro-Oeste",
          "Nordeste",
          "Norte",
          "Nordeste",
          "Norte",
          "Sudeste",
          "Sudeste",
          "Sudeste",
          "Centro-Oeste",
          "Nordeste",
          "Nordeste",
          "Sudeste",
          "Sul",
          "Sudeste",
          "Norte",
          "Centro-Oeste",
          "Centro-Oeste",
          "Centro-Oeste",
          "Nordeste",
          "Sudeste",
          "Sudeste",
          "Norte",
          "Sul",
          "Nordeste",
          "Sudeste",
          "Norte",
          "Centro-Oeste",
          "Centro-Oeste",
          "Sudeste",
          "Norte",
          "Centro-Oeste",
          "Sul",
          "Centro-Oeste",
          "Nordeste",
          "Sudeste",
          "Nordeste",
          "Sudeste",
          "Sudeste",
          "Norte",
          "Sul",
          "Norte",
          "Nordeste",
          "Centro-Oeste",
          "Norte",
          "Nordeste",
          "Sudeste",
          "Norte",
          "Sudeste",
          "Centro-Oeste",
          "Sul",
          "Sul",
          "Sul",
          "Sul",
          "Sul",
          "Norte",
          "Norte",
          "Norte",
          "Norte",
          "Norte",
          "Centro-Oeste",
          "Centro-Oeste",
          "Centro-Oeste",
          "Norte",
          "Sul",
          "Sul",
          "Norte",
          "Nordeste",
          "Nordeste",
          "Nordeste",
          "Nordeste",
          "Centro-Oeste",
          "Sudeste",
          "Nordeste",
          "Norte",
          "Sudeste",
          "Sudeste",
          "Sudeste",
          "Sudeste",
          "Norte",
          "Sul",
          "Sudeste",
          "Sudeste",
          "Nordeste",
          "Sudeste",
          "Sudeste",
          "Sul",
          "Centro-Oeste",
          "Norte",
          "Norte",
          "Sudeste",
          "Sul",
          "Norte",
          "Centro-Oeste",
          "Sudeste",
          "Norte",
          "Nordeste",
          "Sul",
          "Centro-Oeste",
          "Sudeste",
          "Sudeste",
          "Nordeste",
          "Sudeste",
          "Centro-Oeste",
          "Centro-Oeste",
          "Sul",
          "Centro-Oeste",
          "Centro-Oeste",
          "Nordeste",
          "Centro-Oeste",
          "Sul",
          "Sul",
          "Centro-Oeste",
          "Centro-Oeste",
          "Sul",
          "Norte",
          "Sudeste",
          "Nordeste",
          "Norte",
          "Norte",
          "Norte",
          "Sudeste",
          "Norte",
          "Sudeste",
          "Nordeste",
          "Norte",
          "Sudeste",
          "Centro-Oeste",
          "Sudeste",
          "Sul",
          "Centro-Oeste",
          "Sudeste",
          "Norte",
          "Sudeste",
          "Norte",
          "Sudeste",
          "Sudeste",
          "Nordeste",
          "Sul",
          "Nordeste",
          "Sul",
          "Centro-Oeste",
          "Centro-Oeste",
          "Nordeste",
          "Norte",
          "Sul",
          "Sul",
          "Norte",
          "Norte",
          "Centro-Oeste",
          "Sudeste",
          "Sudeste",
          "Sudeste",
          "Sul",
          "Sudeste",
          "Centro-Oeste",
          "Sul",
          "Sudeste",
          "Sul",
          "Centro-Oeste",
          "Centro-Oeste",
          "Sul",
          "Sul",
          "Nordeste",
          "Nordeste",
          "Norte",
          "Sudeste",
          "Nordeste",
          "Centro-Oeste",
          "Norte",
          "Nordeste",
          "Sul",
          "Sul",
          "Nordeste",
          "Nordeste",
          "Sul",
          "Norte",
          "Nordeste",
          "Norte",
          "Sudeste",
          "Sudeste",
          "Nordeste",
          "Norte",
          "Sudeste",
          "Nordeste",
          "Nordeste",
          "Centro-Oeste",
          "Sudeste",
          "Sudeste",
          "Norte"
         ],
         "xaxis": "x",
         "yaxis": "y"
        }
       ],
       "layout": {
        "barmode": "relative",
        "legend": {
         "title": {
          "text": "status_assinatura"
         },
         "tracegroupgap": 0
        },
        "margin": {
         "t": 60
        },
        "template": {
         "data": {
          "bar": [
           {
            "error_x": {
             "color": "#2a3f5f"
            },
            "error_y": {
             "color": "#2a3f5f"
            },
            "marker": {
             "line": {
              "color": "#E5ECF6",
              "width": 0.5
             },
             "pattern": {
              "fillmode": "overlay",
              "size": 10,
              "solidity": 0.2
             }
            },
            "type": "bar"
           }
          ],
          "barpolar": [
           {
            "marker": {
             "line": {
              "color": "#E5ECF6",
              "width": 0.5
             },
             "pattern": {
              "fillmode": "overlay",
              "size": 10,
              "solidity": 0.2
             }
            },
            "type": "barpolar"
           }
          ],
          "carpet": [
           {
            "aaxis": {
             "endlinecolor": "#2a3f5f",
             "gridcolor": "white",
             "linecolor": "white",
             "minorgridcolor": "white",
             "startlinecolor": "#2a3f5f"
            },
            "baxis": {
             "endlinecolor": "#2a3f5f",
             "gridcolor": "white",
             "linecolor": "white",
             "minorgridcolor": "white",
             "startlinecolor": "#2a3f5f"
            },
            "type": "carpet"
           }
          ],
          "choropleth": [
           {
            "colorbar": {
             "outlinewidth": 0,
             "ticks": ""
            },
            "type": "choropleth"
           }
          ],
          "contour": [
           {
            "colorbar": {
             "outlinewidth": 0,
             "ticks": ""
            },
            "colorscale": [
             [
              0,
              "#0d0887"
             ],
             [
              0.1111111111111111,
              "#46039f"
             ],
             [
              0.2222222222222222,
              "#7201a8"
             ],
             [
              0.3333333333333333,
              "#9c179e"
             ],
             [
              0.4444444444444444,
              "#bd3786"
             ],
             [
              0.5555555555555556,
              "#d8576b"
             ],
             [
              0.6666666666666666,
              "#ed7953"
             ],
             [
              0.7777777777777778,
              "#fb9f3a"
             ],
             [
              0.8888888888888888,
              "#fdca26"
             ],
             [
              1,
              "#f0f921"
             ]
            ],
            "type": "contour"
           }
          ],
          "contourcarpet": [
           {
            "colorbar": {
             "outlinewidth": 0,
             "ticks": ""
            },
            "type": "contourcarpet"
           }
          ],
          "heatmap": [
           {
            "colorbar": {
             "outlinewidth": 0,
             "ticks": ""
            },
            "colorscale": [
             [
              0,
              "#0d0887"
             ],
             [
              0.1111111111111111,
              "#46039f"
             ],
             [
              0.2222222222222222,
              "#7201a8"
             ],
             [
              0.3333333333333333,
              "#9c179e"
             ],
             [
              0.4444444444444444,
              "#bd3786"
             ],
             [
              0.5555555555555556,
              "#d8576b"
             ],
             [
              0.6666666666666666,
              "#ed7953"
             ],
             [
              0.7777777777777778,
              "#fb9f3a"
             ],
             [
              0.8888888888888888,
              "#fdca26"
             ],
             [
              1,
              "#f0f921"
             ]
            ],
            "type": "heatmap"
           }
          ],
          "heatmapgl": [
           {
            "colorbar": {
             "outlinewidth": 0,
             "ticks": ""
            },
            "colorscale": [
             [
              0,
              "#0d0887"
             ],
             [
              0.1111111111111111,
              "#46039f"
             ],
             [
              0.2222222222222222,
              "#7201a8"
             ],
             [
              0.3333333333333333,
              "#9c179e"
             ],
             [
              0.4444444444444444,
              "#bd3786"
             ],
             [
              0.5555555555555556,
              "#d8576b"
             ],
             [
              0.6666666666666666,
              "#ed7953"
             ],
             [
              0.7777777777777778,
              "#fb9f3a"
             ],
             [
              0.8888888888888888,
              "#fdca26"
             ],
             [
              1,
              "#f0f921"
             ]
            ],
            "type": "heatmapgl"
           }
          ],
          "histogram": [
           {
            "marker": {
             "pattern": {
              "fillmode": "overlay",
              "size": 10,
              "solidity": 0.2
             }
            },
            "type": "histogram"
           }
          ],
          "histogram2d": [
           {
            "colorbar": {
             "outlinewidth": 0,
             "ticks": ""
            },
            "colorscale": [
             [
              0,
              "#0d0887"
             ],
             [
              0.1111111111111111,
              "#46039f"
             ],
             [
              0.2222222222222222,
              "#7201a8"
             ],
             [
              0.3333333333333333,
              "#9c179e"
             ],
             [
              0.4444444444444444,
              "#bd3786"
             ],
             [
              0.5555555555555556,
              "#d8576b"
             ],
             [
              0.6666666666666666,
              "#ed7953"
             ],
             [
              0.7777777777777778,
              "#fb9f3a"
             ],
             [
              0.8888888888888888,
              "#fdca26"
             ],
             [
              1,
              "#f0f921"
             ]
            ],
            "type": "histogram2d"
           }
          ],
          "histogram2dcontour": [
           {
            "colorbar": {
             "outlinewidth": 0,
             "ticks": ""
            },
            "colorscale": [
             [
              0,
              "#0d0887"
             ],
             [
              0.1111111111111111,
              "#46039f"
             ],
             [
              0.2222222222222222,
              "#7201a8"
             ],
             [
              0.3333333333333333,
              "#9c179e"
             ],
             [
              0.4444444444444444,
              "#bd3786"
             ],
             [
              0.5555555555555556,
              "#d8576b"
             ],
             [
              0.6666666666666666,
              "#ed7953"
             ],
             [
              0.7777777777777778,
              "#fb9f3a"
             ],
             [
              0.8888888888888888,
              "#fdca26"
             ],
             [
              1,
              "#f0f921"
             ]
            ],
            "type": "histogram2dcontour"
           }
          ],
          "mesh3d": [
           {
            "colorbar": {
             "outlinewidth": 0,
             "ticks": ""
            },
            "type": "mesh3d"
           }
          ],
          "parcoords": [
           {
            "line": {
             "colorbar": {
              "outlinewidth": 0,
              "ticks": ""
             }
            },
            "type": "parcoords"
           }
          ],
          "pie": [
           {
            "automargin": true,
            "type": "pie"
           }
          ],
          "scatter": [
           {
            "fillpattern": {
             "fillmode": "overlay",
             "size": 10,
             "solidity": 0.2
            },
            "type": "scatter"
           }
          ],
          "scatter3d": [
           {
            "line": {
             "colorbar": {
              "outlinewidth": 0,
              "ticks": ""
             }
            },
            "marker": {
             "colorbar": {
              "outlinewidth": 0,
              "ticks": ""
             }
            },
            "type": "scatter3d"
           }
          ],
          "scattercarpet": [
           {
            "marker": {
             "colorbar": {
              "outlinewidth": 0,
              "ticks": ""
             }
            },
            "type": "scattercarpet"
           }
          ],
          "scattergeo": [
           {
            "marker": {
             "colorbar": {
              "outlinewidth": 0,
              "ticks": ""
             }
            },
            "type": "scattergeo"
           }
          ],
          "scattergl": [
           {
            "marker": {
             "colorbar": {
              "outlinewidth": 0,
              "ticks": ""
             }
            },
            "type": "scattergl"
           }
          ],
          "scattermapbox": [
           {
            "marker": {
             "colorbar": {
              "outlinewidth": 0,
              "ticks": ""
             }
            },
            "type": "scattermapbox"
           }
          ],
          "scatterpolar": [
           {
            "marker": {
             "colorbar": {
              "outlinewidth": 0,
              "ticks": ""
             }
            },
            "type": "scatterpolar"
           }
          ],
          "scatterpolargl": [
           {
            "marker": {
             "colorbar": {
              "outlinewidth": 0,
              "ticks": ""
             }
            },
            "type": "scatterpolargl"
           }
          ],
          "scatterternary": [
           {
            "marker": {
             "colorbar": {
              "outlinewidth": 0,
              "ticks": ""
             }
            },
            "type": "scatterternary"
           }
          ],
          "surface": [
           {
            "colorbar": {
             "outlinewidth": 0,
             "ticks": ""
            },
            "colorscale": [
             [
              0,
              "#0d0887"
             ],
             [
              0.1111111111111111,
              "#46039f"
             ],
             [
              0.2222222222222222,
              "#7201a8"
             ],
             [
              0.3333333333333333,
              "#9c179e"
             ],
             [
              0.4444444444444444,
              "#bd3786"
             ],
             [
              0.5555555555555556,
              "#d8576b"
             ],
             [
              0.6666666666666666,
              "#ed7953"
             ],
             [
              0.7777777777777778,
              "#fb9f3a"
             ],
             [
              0.8888888888888888,
              "#fdca26"
             ],
             [
              1,
              "#f0f921"
             ]
            ],
            "type": "surface"
           }
          ],
          "table": [
           {
            "cells": {
             "fill": {
              "color": "#EBF0F8"
             },
             "line": {
              "color": "white"
             }
            },
            "header": {
             "fill": {
              "color": "#C8D4E3"
             },
             "line": {
              "color": "white"
             }
            },
            "type": "table"
           }
          ]
         },
         "layout": {
          "annotationdefaults": {
           "arrowcolor": "#2a3f5f",
           "arrowhead": 0,
           "arrowwidth": 1
          },
          "autotypenumbers": "strict",
          "coloraxis": {
           "colorbar": {
            "outlinewidth": 0,
            "ticks": ""
           }
          },
          "colorscale": {
           "diverging": [
            [
             0,
             "#8e0152"
            ],
            [
             0.1,
             "#c51b7d"
            ],
            [
             0.2,
             "#de77ae"
            ],
            [
             0.3,
             "#f1b6da"
            ],
            [
             0.4,
             "#fde0ef"
            ],
            [
             0.5,
             "#f7f7f7"
            ],
            [
             0.6,
             "#e6f5d0"
            ],
            [
             0.7,
             "#b8e186"
            ],
            [
             0.8,
             "#7fbc41"
            ],
            [
             0.9,
             "#4d9221"
            ],
            [
             1,
             "#276419"
            ]
           ],
           "sequential": [
            [
             0,
             "#0d0887"
            ],
            [
             0.1111111111111111,
             "#46039f"
            ],
            [
             0.2222222222222222,
             "#7201a8"
            ],
            [
             0.3333333333333333,
             "#9c179e"
            ],
            [
             0.4444444444444444,
             "#bd3786"
            ],
            [
             0.5555555555555556,
             "#d8576b"
            ],
            [
             0.6666666666666666,
             "#ed7953"
            ],
            [
             0.7777777777777778,
             "#fb9f3a"
            ],
            [
             0.8888888888888888,
             "#fdca26"
            ],
            [
             1,
             "#f0f921"
            ]
           ],
           "sequentialminus": [
            [
             0,
             "#0d0887"
            ],
            [
             0.1111111111111111,
             "#46039f"
            ],
            [
             0.2222222222222222,
             "#7201a8"
            ],
            [
             0.3333333333333333,
             "#9c179e"
            ],
            [
             0.4444444444444444,
             "#bd3786"
            ],
            [
             0.5555555555555556,
             "#d8576b"
            ],
            [
             0.6666666666666666,
             "#ed7953"
            ],
            [
             0.7777777777777778,
             "#fb9f3a"
            ],
            [
             0.8888888888888888,
             "#fdca26"
            ],
            [
             1,
             "#f0f921"
            ]
           ]
          },
          "colorway": [
           "#636efa",
           "#EF553B",
           "#00cc96",
           "#ab63fa",
           "#FFA15A",
           "#19d3f3",
           "#FF6692",
           "#B6E880",
           "#FF97FF",
           "#FECB52"
          ],
          "font": {
           "color": "#2a3f5f"
          },
          "geo": {
           "bgcolor": "white",
           "lakecolor": "white",
           "landcolor": "#E5ECF6",
           "showlakes": true,
           "showland": true,
           "subunitcolor": "white"
          },
          "hoverlabel": {
           "align": "left"
          },
          "hovermode": "closest",
          "mapbox": {
           "style": "light"
          },
          "paper_bgcolor": "white",
          "plot_bgcolor": "#E5ECF6",
          "polar": {
           "angularaxis": {
            "gridcolor": "white",
            "linecolor": "white",
            "ticks": ""
           },
           "bgcolor": "#E5ECF6",
           "radialaxis": {
            "gridcolor": "white",
            "linecolor": "white",
            "ticks": ""
           }
          },
          "scene": {
           "xaxis": {
            "backgroundcolor": "#E5ECF6",
            "gridcolor": "white",
            "gridwidth": 2,
            "linecolor": "white",
            "showbackground": true,
            "ticks": "",
            "zerolinecolor": "white"
           },
           "yaxis": {
            "backgroundcolor": "#E5ECF6",
            "gridcolor": "white",
            "gridwidth": 2,
            "linecolor": "white",
            "showbackground": true,
            "ticks": "",
            "zerolinecolor": "white"
           },
           "zaxis": {
            "backgroundcolor": "#E5ECF6",
            "gridcolor": "white",
            "gridwidth": 2,
            "linecolor": "white",
            "showbackground": true,
            "ticks": "",
            "zerolinecolor": "white"
           }
          },
          "shapedefaults": {
           "line": {
            "color": "#2a3f5f"
           }
          },
          "ternary": {
           "aaxis": {
            "gridcolor": "white",
            "linecolor": "white",
            "ticks": ""
           },
           "baxis": {
            "gridcolor": "white",
            "linecolor": "white",
            "ticks": ""
           },
           "bgcolor": "#E5ECF6",
           "caxis": {
            "gridcolor": "white",
            "linecolor": "white",
            "ticks": ""
           }
          },
          "title": {
           "x": 0.05
          },
          "xaxis": {
           "automargin": true,
           "gridcolor": "white",
           "linecolor": "white",
           "ticks": "",
           "title": {
            "standoff": 15
           },
           "zerolinecolor": "white",
           "zerolinewidth": 2
          },
          "yaxis": {
           "automargin": true,
           "gridcolor": "white",
           "linecolor": "white",
           "ticks": "",
           "title": {
            "standoff": 15
           },
           "zerolinecolor": "white",
           "zerolinewidth": 2
          }
         }
        },
        "xaxis": {
         "anchor": "y",
         "domain": [
          0,
          1
         ],
         "title": {
          "text": "regiao"
         }
        },
        "yaxis": {
         "anchor": "x",
         "domain": [
          0,
          1
         ],
         "title": {
          "text": "count"
         }
        }
       }
      }
     },
     "metadata": {},
     "output_type": "display_data"
    },
    {
     "data": {
      "application/vnd.plotly.v1+json": {
       "config": {
        "plotlyServerURL": "https://plot.ly"
       },
       "data": [
        {
         "alignmentgroup": "True",
         "bingroup": "x",
         "hovertemplate": "status_assinatura=%{x}<br>count=%{y}<extra></extra>",
         "legendgroup": "Cancelado",
         "marker": {
          "color": "#636efa",
          "pattern": {
           "shape": ""
          }
         },
         "name": "Cancelado",
         "offsetgroup": "Cancelado",
         "orientation": "v",
         "showlegend": true,
         "type": "histogram",
         "x": [
          "Cancelado",
          "Cancelado",
          "Cancelado",
          "Cancelado",
          "Cancelado",
          "Cancelado",
          "Cancelado",
          "Cancelado",
          "Cancelado",
          "Cancelado",
          "Cancelado",
          "Cancelado",
          "Cancelado",
          "Cancelado",
          "Cancelado",
          "Cancelado",
          "Cancelado",
          "Cancelado",
          "Cancelado",
          "Cancelado",
          "Cancelado",
          "Cancelado",
          "Cancelado",
          "Cancelado",
          "Cancelado",
          "Cancelado",
          "Cancelado",
          "Cancelado",
          "Cancelado",
          "Cancelado",
          "Cancelado",
          "Cancelado",
          "Cancelado",
          "Cancelado",
          "Cancelado",
          "Cancelado",
          "Cancelado",
          "Cancelado",
          "Cancelado",
          "Cancelado",
          "Cancelado",
          "Cancelado",
          "Cancelado",
          "Cancelado",
          "Cancelado",
          "Cancelado",
          "Cancelado",
          "Cancelado",
          "Cancelado",
          "Cancelado",
          "Cancelado",
          "Cancelado",
          "Cancelado",
          "Cancelado",
          "Cancelado",
          "Cancelado",
          "Cancelado",
          "Cancelado",
          "Cancelado",
          "Cancelado",
          "Cancelado",
          "Cancelado",
          "Cancelado",
          "Cancelado",
          "Cancelado",
          "Cancelado",
          "Cancelado",
          "Cancelado",
          "Cancelado",
          "Cancelado",
          "Cancelado",
          "Cancelado",
          "Cancelado",
          "Cancelado",
          "Cancelado",
          "Cancelado",
          "Cancelado",
          "Cancelado",
          "Cancelado",
          "Cancelado",
          "Cancelado",
          "Cancelado",
          "Cancelado",
          "Cancelado",
          "Cancelado",
          "Cancelado",
          "Cancelado",
          "Cancelado",
          "Cancelado",
          "Cancelado",
          "Cancelado",
          "Cancelado",
          "Cancelado",
          "Cancelado",
          "Cancelado",
          "Cancelado",
          "Cancelado",
          "Cancelado",
          "Cancelado",
          "Cancelado",
          "Cancelado",
          "Cancelado",
          "Cancelado",
          "Cancelado",
          "Cancelado",
          "Cancelado",
          "Cancelado",
          "Cancelado",
          "Cancelado",
          "Cancelado",
          "Cancelado",
          "Cancelado",
          "Cancelado",
          "Cancelado",
          "Cancelado",
          "Cancelado",
          "Cancelado",
          "Cancelado",
          "Cancelado",
          "Cancelado",
          "Cancelado",
          "Cancelado",
          "Cancelado",
          "Cancelado",
          "Cancelado",
          "Cancelado",
          "Cancelado",
          "Cancelado",
          "Cancelado",
          "Cancelado",
          "Cancelado",
          "Cancelado",
          "Cancelado",
          "Cancelado",
          "Cancelado",
          "Cancelado",
          "Cancelado",
          "Cancelado",
          "Cancelado",
          "Cancelado",
          "Cancelado",
          "Cancelado",
          "Cancelado",
          "Cancelado",
          "Cancelado",
          "Cancelado",
          "Cancelado",
          "Cancelado",
          "Cancelado",
          "Cancelado",
          "Cancelado",
          "Cancelado",
          "Cancelado",
          "Cancelado",
          "Cancelado",
          "Cancelado",
          "Cancelado",
          "Cancelado",
          "Cancelado",
          "Cancelado",
          "Cancelado",
          "Cancelado",
          "Cancelado",
          "Cancelado",
          "Cancelado",
          "Cancelado",
          "Cancelado",
          "Cancelado",
          "Cancelado",
          "Cancelado",
          "Cancelado",
          "Cancelado",
          "Cancelado",
          "Cancelado",
          "Cancelado",
          "Cancelado",
          "Cancelado",
          "Cancelado",
          "Cancelado",
          "Cancelado",
          "Cancelado",
          "Cancelado",
          "Cancelado",
          "Cancelado",
          "Cancelado",
          "Cancelado",
          "Cancelado",
          "Cancelado",
          "Cancelado",
          "Cancelado",
          "Cancelado",
          "Cancelado",
          "Cancelado",
          "Cancelado",
          "Cancelado",
          "Cancelado",
          "Cancelado",
          "Cancelado",
          "Cancelado",
          "Cancelado",
          "Cancelado",
          "Cancelado",
          "Cancelado",
          "Cancelado",
          "Cancelado",
          "Cancelado",
          "Cancelado",
          "Cancelado",
          "Cancelado",
          "Cancelado",
          "Cancelado",
          "Cancelado",
          "Cancelado",
          "Cancelado",
          "Cancelado",
          "Cancelado",
          "Cancelado",
          "Cancelado",
          "Cancelado",
          "Cancelado",
          "Cancelado",
          "Cancelado",
          "Cancelado",
          "Cancelado",
          "Cancelado",
          "Cancelado",
          "Cancelado",
          "Cancelado",
          "Cancelado",
          "Cancelado",
          "Cancelado",
          "Cancelado",
          "Cancelado",
          "Cancelado",
          "Cancelado",
          "Cancelado",
          "Cancelado",
          "Cancelado",
          "Cancelado",
          "Cancelado",
          "Cancelado",
          "Cancelado",
          "Cancelado",
          "Cancelado",
          "Cancelado",
          "Cancelado",
          "Cancelado",
          "Cancelado",
          "Cancelado",
          "Cancelado",
          "Cancelado",
          "Cancelado",
          "Cancelado",
          "Cancelado",
          "Cancelado",
          "Cancelado",
          "Cancelado",
          "Cancelado",
          "Cancelado",
          "Cancelado",
          "Cancelado",
          "Cancelado",
          "Cancelado",
          "Cancelado",
          "Cancelado",
          "Cancelado",
          "Cancelado",
          "Cancelado",
          "Cancelado",
          "Cancelado",
          "Cancelado",
          "Cancelado",
          "Cancelado",
          "Cancelado",
          "Cancelado",
          "Cancelado",
          "Cancelado",
          "Cancelado",
          "Cancelado",
          "Cancelado",
          "Cancelado",
          "Cancelado",
          "Cancelado",
          "Cancelado",
          "Cancelado",
          "Cancelado",
          "Cancelado",
          "Cancelado",
          "Cancelado",
          "Cancelado",
          "Cancelado",
          "Cancelado",
          "Cancelado",
          "Cancelado",
          "Cancelado",
          "Cancelado",
          "Cancelado",
          "Cancelado",
          "Cancelado",
          "Cancelado",
          "Cancelado",
          "Cancelado",
          "Cancelado",
          "Cancelado",
          "Cancelado",
          "Cancelado",
          "Cancelado",
          "Cancelado",
          "Cancelado",
          "Cancelado",
          "Cancelado",
          "Cancelado",
          "Cancelado",
          "Cancelado",
          "Cancelado",
          "Cancelado",
          "Cancelado",
          "Cancelado",
          "Cancelado",
          "Cancelado",
          "Cancelado",
          "Cancelado",
          "Cancelado",
          "Cancelado",
          "Cancelado",
          "Cancelado",
          "Cancelado",
          "Cancelado",
          "Cancelado",
          "Cancelado",
          "Cancelado",
          "Cancelado",
          "Cancelado",
          "Cancelado",
          "Cancelado",
          "Cancelado",
          "Cancelado",
          "Cancelado",
          "Cancelado",
          "Cancelado",
          "Cancelado",
          "Cancelado",
          "Cancelado",
          "Cancelado",
          "Cancelado",
          "Cancelado",
          "Cancelado",
          "Cancelado",
          "Cancelado",
          "Cancelado",
          "Cancelado",
          "Cancelado",
          "Cancelado",
          "Cancelado",
          "Cancelado",
          "Cancelado",
          "Cancelado",
          "Cancelado",
          "Cancelado",
          "Cancelado",
          "Cancelado",
          "Cancelado",
          "Cancelado",
          "Cancelado",
          "Cancelado",
          "Cancelado",
          "Cancelado",
          "Cancelado",
          "Cancelado",
          "Cancelado",
          "Cancelado",
          "Cancelado",
          "Cancelado",
          "Cancelado",
          "Cancelado",
          "Cancelado",
          "Cancelado",
          "Cancelado",
          "Cancelado",
          "Cancelado",
          "Cancelado",
          "Cancelado",
          "Cancelado",
          "Cancelado",
          "Cancelado",
          "Cancelado",
          "Cancelado",
          "Cancelado",
          "Cancelado",
          "Cancelado",
          "Cancelado",
          "Cancelado",
          "Cancelado",
          "Cancelado",
          "Cancelado",
          "Cancelado",
          "Cancelado",
          "Cancelado",
          "Cancelado",
          "Cancelado",
          "Cancelado",
          "Cancelado",
          "Cancelado",
          "Cancelado",
          "Cancelado",
          "Cancelado",
          "Cancelado",
          "Cancelado",
          "Cancelado",
          "Cancelado",
          "Cancelado",
          "Cancelado",
          "Cancelado",
          "Cancelado",
          "Cancelado",
          "Cancelado",
          "Cancelado",
          "Cancelado",
          "Cancelado",
          "Cancelado",
          "Cancelado",
          "Cancelado",
          "Cancelado",
          "Cancelado",
          "Cancelado",
          "Cancelado",
          "Cancelado",
          "Cancelado",
          "Cancelado",
          "Cancelado",
          "Cancelado",
          "Cancelado",
          "Cancelado",
          "Cancelado",
          "Cancelado",
          "Cancelado",
          "Cancelado",
          "Cancelado",
          "Cancelado",
          "Cancelado",
          "Cancelado",
          "Cancelado",
          "Cancelado",
          "Cancelado",
          "Cancelado",
          "Cancelado",
          "Cancelado",
          "Cancelado",
          "Cancelado",
          "Cancelado",
          "Cancelado",
          "Cancelado",
          "Cancelado",
          "Cancelado",
          "Cancelado",
          "Cancelado",
          "Cancelado",
          "Cancelado",
          "Cancelado",
          "Cancelado",
          "Cancelado",
          "Cancelado",
          "Cancelado",
          "Cancelado",
          "Cancelado",
          "Cancelado",
          "Cancelado",
          "Cancelado",
          "Cancelado",
          "Cancelado",
          "Cancelado",
          "Cancelado",
          "Cancelado",
          "Cancelado",
          "Cancelado",
          "Cancelado",
          "Cancelado",
          "Cancelado",
          "Cancelado",
          "Cancelado",
          "Cancelado",
          "Cancelado",
          "Cancelado",
          "Cancelado",
          "Cancelado",
          "Cancelado",
          "Cancelado",
          "Cancelado",
          "Cancelado",
          "Cancelado",
          "Cancelado",
          "Cancelado",
          "Cancelado",
          "Cancelado",
          "Cancelado",
          "Cancelado",
          "Cancelado",
          "Cancelado",
          "Cancelado",
          "Cancelado",
          "Cancelado",
          "Cancelado",
          "Cancelado",
          "Cancelado"
         ],
         "xaxis": "x",
         "yaxis": "y"
        },
        {
         "alignmentgroup": "True",
         "bingroup": "x",
         "hovertemplate": "status_assinatura=%{x}<br>count=%{y}<extra></extra>",
         "legendgroup": "Ativo",
         "marker": {
          "color": "#EF553B",
          "pattern": {
           "shape": ""
          }
         },
         "name": "Ativo",
         "offsetgroup": "Ativo",
         "orientation": "v",
         "showlegend": true,
         "type": "histogram",
         "x": [
          "Ativo",
          "Ativo",
          "Ativo",
          "Ativo",
          "Ativo",
          "Ativo",
          "Ativo",
          "Ativo",
          "Ativo",
          "Ativo",
          "Ativo",
          "Ativo",
          "Ativo",
          "Ativo",
          "Ativo",
          "Ativo",
          "Ativo",
          "Ativo",
          "Ativo",
          "Ativo",
          "Ativo",
          "Ativo",
          "Ativo",
          "Ativo",
          "Ativo",
          "Ativo",
          "Ativo",
          "Ativo",
          "Ativo",
          "Ativo",
          "Ativo",
          "Ativo",
          "Ativo",
          "Ativo",
          "Ativo",
          "Ativo",
          "Ativo",
          "Ativo",
          "Ativo",
          "Ativo",
          "Ativo",
          "Ativo",
          "Ativo",
          "Ativo",
          "Ativo",
          "Ativo",
          "Ativo",
          "Ativo",
          "Ativo",
          "Ativo",
          "Ativo",
          "Ativo",
          "Ativo",
          "Ativo",
          "Ativo",
          "Ativo",
          "Ativo",
          "Ativo",
          "Ativo",
          "Ativo",
          "Ativo",
          "Ativo",
          "Ativo",
          "Ativo",
          "Ativo",
          "Ativo",
          "Ativo",
          "Ativo",
          "Ativo",
          "Ativo",
          "Ativo",
          "Ativo",
          "Ativo",
          "Ativo",
          "Ativo",
          "Ativo",
          "Ativo",
          "Ativo",
          "Ativo",
          "Ativo",
          "Ativo",
          "Ativo",
          "Ativo",
          "Ativo",
          "Ativo",
          "Ativo",
          "Ativo",
          "Ativo",
          "Ativo",
          "Ativo",
          "Ativo",
          "Ativo",
          "Ativo",
          "Ativo",
          "Ativo",
          "Ativo",
          "Ativo",
          "Ativo",
          "Ativo",
          "Ativo",
          "Ativo",
          "Ativo",
          "Ativo",
          "Ativo",
          "Ativo",
          "Ativo",
          "Ativo",
          "Ativo",
          "Ativo",
          "Ativo",
          "Ativo",
          "Ativo",
          "Ativo",
          "Ativo",
          "Ativo",
          "Ativo",
          "Ativo",
          "Ativo",
          "Ativo",
          "Ativo",
          "Ativo",
          "Ativo",
          "Ativo",
          "Ativo",
          "Ativo",
          "Ativo",
          "Ativo",
          "Ativo",
          "Ativo",
          "Ativo",
          "Ativo",
          "Ativo",
          "Ativo",
          "Ativo",
          "Ativo",
          "Ativo",
          "Ativo",
          "Ativo",
          "Ativo",
          "Ativo",
          "Ativo",
          "Ativo",
          "Ativo",
          "Ativo",
          "Ativo",
          "Ativo",
          "Ativo",
          "Ativo",
          "Ativo",
          "Ativo",
          "Ativo",
          "Ativo",
          "Ativo",
          "Ativo",
          "Ativo",
          "Ativo",
          "Ativo",
          "Ativo",
          "Ativo",
          "Ativo",
          "Ativo",
          "Ativo",
          "Ativo",
          "Ativo",
          "Ativo",
          "Ativo",
          "Ativo",
          "Ativo",
          "Ativo",
          "Ativo",
          "Ativo",
          "Ativo",
          "Ativo",
          "Ativo",
          "Ativo",
          "Ativo",
          "Ativo",
          "Ativo",
          "Ativo",
          "Ativo",
          "Ativo",
          "Ativo",
          "Ativo",
          "Ativo",
          "Ativo",
          "Ativo",
          "Ativo",
          "Ativo",
          "Ativo",
          "Ativo",
          "Ativo",
          "Ativo",
          "Ativo",
          "Ativo",
          "Ativo",
          "Ativo",
          "Ativo",
          "Ativo",
          "Ativo",
          "Ativo",
          "Ativo",
          "Ativo",
          "Ativo",
          "Ativo",
          "Ativo",
          "Ativo",
          "Ativo",
          "Ativo",
          "Ativo",
          "Ativo",
          "Ativo",
          "Ativo",
          "Ativo",
          "Ativo",
          "Ativo",
          "Ativo",
          "Ativo",
          "Ativo",
          "Ativo",
          "Ativo",
          "Ativo",
          "Ativo",
          "Ativo",
          "Ativo",
          "Ativo",
          "Ativo",
          "Ativo",
          "Ativo",
          "Ativo",
          "Ativo",
          "Ativo",
          "Ativo",
          "Ativo",
          "Ativo",
          "Ativo",
          "Ativo",
          "Ativo",
          "Ativo",
          "Ativo",
          "Ativo",
          "Ativo",
          "Ativo",
          "Ativo",
          "Ativo",
          "Ativo",
          "Ativo",
          "Ativo",
          "Ativo",
          "Ativo",
          "Ativo",
          "Ativo",
          "Ativo",
          "Ativo",
          "Ativo",
          "Ativo",
          "Ativo",
          "Ativo",
          "Ativo",
          "Ativo",
          "Ativo",
          "Ativo",
          "Ativo",
          "Ativo",
          "Ativo",
          "Ativo",
          "Ativo",
          "Ativo",
          "Ativo",
          "Ativo",
          "Ativo",
          "Ativo",
          "Ativo",
          "Ativo",
          "Ativo",
          "Ativo",
          "Ativo",
          "Ativo",
          "Ativo",
          "Ativo",
          "Ativo",
          "Ativo",
          "Ativo",
          "Ativo",
          "Ativo",
          "Ativo",
          "Ativo",
          "Ativo",
          "Ativo",
          "Ativo",
          "Ativo",
          "Ativo",
          "Ativo",
          "Ativo",
          "Ativo",
          "Ativo",
          "Ativo",
          "Ativo",
          "Ativo",
          "Ativo",
          "Ativo",
          "Ativo",
          "Ativo",
          "Ativo",
          "Ativo",
          "Ativo",
          "Ativo",
          "Ativo",
          "Ativo",
          "Ativo",
          "Ativo",
          "Ativo",
          "Ativo",
          "Ativo",
          "Ativo",
          "Ativo",
          "Ativo",
          "Ativo",
          "Ativo",
          "Ativo",
          "Ativo",
          "Ativo",
          "Ativo",
          "Ativo",
          "Ativo",
          "Ativo",
          "Ativo",
          "Ativo",
          "Ativo",
          "Ativo",
          "Ativo",
          "Ativo",
          "Ativo",
          "Ativo",
          "Ativo",
          "Ativo",
          "Ativo",
          "Ativo",
          "Ativo",
          "Ativo",
          "Ativo",
          "Ativo",
          "Ativo",
          "Ativo",
          "Ativo",
          "Ativo",
          "Ativo",
          "Ativo",
          "Ativo",
          "Ativo",
          "Ativo",
          "Ativo",
          "Ativo",
          "Ativo",
          "Ativo",
          "Ativo",
          "Ativo",
          "Ativo",
          "Ativo",
          "Ativo",
          "Ativo",
          "Ativo",
          "Ativo",
          "Ativo",
          "Ativo",
          "Ativo",
          "Ativo",
          "Ativo",
          "Ativo",
          "Ativo",
          "Ativo",
          "Ativo",
          "Ativo",
          "Ativo",
          "Ativo",
          "Ativo",
          "Ativo",
          "Ativo",
          "Ativo",
          "Ativo",
          "Ativo",
          "Ativo",
          "Ativo",
          "Ativo",
          "Ativo",
          "Ativo",
          "Ativo",
          "Ativo",
          "Ativo",
          "Ativo",
          "Ativo",
          "Ativo",
          "Ativo",
          "Ativo",
          "Ativo",
          "Ativo",
          "Ativo",
          "Ativo",
          "Ativo",
          "Ativo",
          "Ativo",
          "Ativo",
          "Ativo",
          "Ativo",
          "Ativo",
          "Ativo",
          "Ativo",
          "Ativo",
          "Ativo",
          "Ativo",
          "Ativo",
          "Ativo",
          "Ativo",
          "Ativo",
          "Ativo",
          "Ativo",
          "Ativo",
          "Ativo",
          "Ativo",
          "Ativo",
          "Ativo",
          "Ativo",
          "Ativo",
          "Ativo",
          "Ativo",
          "Ativo",
          "Ativo",
          "Ativo",
          "Ativo",
          "Ativo",
          "Ativo",
          "Ativo",
          "Ativo",
          "Ativo",
          "Ativo",
          "Ativo",
          "Ativo",
          "Ativo",
          "Ativo",
          "Ativo",
          "Ativo",
          "Ativo",
          "Ativo",
          "Ativo",
          "Ativo",
          "Ativo",
          "Ativo",
          "Ativo",
          "Ativo",
          "Ativo",
          "Ativo",
          "Ativo",
          "Ativo",
          "Ativo",
          "Ativo",
          "Ativo",
          "Ativo",
          "Ativo",
          "Ativo",
          "Ativo",
          "Ativo",
          "Ativo",
          "Ativo",
          "Ativo",
          "Ativo",
          "Ativo",
          "Ativo",
          "Ativo",
          "Ativo",
          "Ativo",
          "Ativo",
          "Ativo",
          "Ativo",
          "Ativo",
          "Ativo",
          "Ativo",
          "Ativo",
          "Ativo",
          "Ativo",
          "Ativo",
          "Ativo",
          "Ativo",
          "Ativo",
          "Ativo",
          "Ativo",
          "Ativo",
          "Ativo",
          "Ativo",
          "Ativo",
          "Ativo",
          "Ativo",
          "Ativo",
          "Ativo",
          "Ativo",
          "Ativo",
          "Ativo",
          "Ativo"
         ],
         "xaxis": "x",
         "yaxis": "y"
        }
       ],
       "layout": {
        "barmode": "relative",
        "legend": {
         "title": {
          "text": "status_assinatura"
         },
         "tracegroupgap": 0
        },
        "margin": {
         "t": 60
        },
        "template": {
         "data": {
          "bar": [
           {
            "error_x": {
             "color": "#2a3f5f"
            },
            "error_y": {
             "color": "#2a3f5f"
            },
            "marker": {
             "line": {
              "color": "#E5ECF6",
              "width": 0.5
             },
             "pattern": {
              "fillmode": "overlay",
              "size": 10,
              "solidity": 0.2
             }
            },
            "type": "bar"
           }
          ],
          "barpolar": [
           {
            "marker": {
             "line": {
              "color": "#E5ECF6",
              "width": 0.5
             },
             "pattern": {
              "fillmode": "overlay",
              "size": 10,
              "solidity": 0.2
             }
            },
            "type": "barpolar"
           }
          ],
          "carpet": [
           {
            "aaxis": {
             "endlinecolor": "#2a3f5f",
             "gridcolor": "white",
             "linecolor": "white",
             "minorgridcolor": "white",
             "startlinecolor": "#2a3f5f"
            },
            "baxis": {
             "endlinecolor": "#2a3f5f",
             "gridcolor": "white",
             "linecolor": "white",
             "minorgridcolor": "white",
             "startlinecolor": "#2a3f5f"
            },
            "type": "carpet"
           }
          ],
          "choropleth": [
           {
            "colorbar": {
             "outlinewidth": 0,
             "ticks": ""
            },
            "type": "choropleth"
           }
          ],
          "contour": [
           {
            "colorbar": {
             "outlinewidth": 0,
             "ticks": ""
            },
            "colorscale": [
             [
              0,
              "#0d0887"
             ],
             [
              0.1111111111111111,
              "#46039f"
             ],
             [
              0.2222222222222222,
              "#7201a8"
             ],
             [
              0.3333333333333333,
              "#9c179e"
             ],
             [
              0.4444444444444444,
              "#bd3786"
             ],
             [
              0.5555555555555556,
              "#d8576b"
             ],
             [
              0.6666666666666666,
              "#ed7953"
             ],
             [
              0.7777777777777778,
              "#fb9f3a"
             ],
             [
              0.8888888888888888,
              "#fdca26"
             ],
             [
              1,
              "#f0f921"
             ]
            ],
            "type": "contour"
           }
          ],
          "contourcarpet": [
           {
            "colorbar": {
             "outlinewidth": 0,
             "ticks": ""
            },
            "type": "contourcarpet"
           }
          ],
          "heatmap": [
           {
            "colorbar": {
             "outlinewidth": 0,
             "ticks": ""
            },
            "colorscale": [
             [
              0,
              "#0d0887"
             ],
             [
              0.1111111111111111,
              "#46039f"
             ],
             [
              0.2222222222222222,
              "#7201a8"
             ],
             [
              0.3333333333333333,
              "#9c179e"
             ],
             [
              0.4444444444444444,
              "#bd3786"
             ],
             [
              0.5555555555555556,
              "#d8576b"
             ],
             [
              0.6666666666666666,
              "#ed7953"
             ],
             [
              0.7777777777777778,
              "#fb9f3a"
             ],
             [
              0.8888888888888888,
              "#fdca26"
             ],
             [
              1,
              "#f0f921"
             ]
            ],
            "type": "heatmap"
           }
          ],
          "heatmapgl": [
           {
            "colorbar": {
             "outlinewidth": 0,
             "ticks": ""
            },
            "colorscale": [
             [
              0,
              "#0d0887"
             ],
             [
              0.1111111111111111,
              "#46039f"
             ],
             [
              0.2222222222222222,
              "#7201a8"
             ],
             [
              0.3333333333333333,
              "#9c179e"
             ],
             [
              0.4444444444444444,
              "#bd3786"
             ],
             [
              0.5555555555555556,
              "#d8576b"
             ],
             [
              0.6666666666666666,
              "#ed7953"
             ],
             [
              0.7777777777777778,
              "#fb9f3a"
             ],
             [
              0.8888888888888888,
              "#fdca26"
             ],
             [
              1,
              "#f0f921"
             ]
            ],
            "type": "heatmapgl"
           }
          ],
          "histogram": [
           {
            "marker": {
             "pattern": {
              "fillmode": "overlay",
              "size": 10,
              "solidity": 0.2
             }
            },
            "type": "histogram"
           }
          ],
          "histogram2d": [
           {
            "colorbar": {
             "outlinewidth": 0,
             "ticks": ""
            },
            "colorscale": [
             [
              0,
              "#0d0887"
             ],
             [
              0.1111111111111111,
              "#46039f"
             ],
             [
              0.2222222222222222,
              "#7201a8"
             ],
             [
              0.3333333333333333,
              "#9c179e"
             ],
             [
              0.4444444444444444,
              "#bd3786"
             ],
             [
              0.5555555555555556,
              "#d8576b"
             ],
             [
              0.6666666666666666,
              "#ed7953"
             ],
             [
              0.7777777777777778,
              "#fb9f3a"
             ],
             [
              0.8888888888888888,
              "#fdca26"
             ],
             [
              1,
              "#f0f921"
             ]
            ],
            "type": "histogram2d"
           }
          ],
          "histogram2dcontour": [
           {
            "colorbar": {
             "outlinewidth": 0,
             "ticks": ""
            },
            "colorscale": [
             [
              0,
              "#0d0887"
             ],
             [
              0.1111111111111111,
              "#46039f"
             ],
             [
              0.2222222222222222,
              "#7201a8"
             ],
             [
              0.3333333333333333,
              "#9c179e"
             ],
             [
              0.4444444444444444,
              "#bd3786"
             ],
             [
              0.5555555555555556,
              "#d8576b"
             ],
             [
              0.6666666666666666,
              "#ed7953"
             ],
             [
              0.7777777777777778,
              "#fb9f3a"
             ],
             [
              0.8888888888888888,
              "#fdca26"
             ],
             [
              1,
              "#f0f921"
             ]
            ],
            "type": "histogram2dcontour"
           }
          ],
          "mesh3d": [
           {
            "colorbar": {
             "outlinewidth": 0,
             "ticks": ""
            },
            "type": "mesh3d"
           }
          ],
          "parcoords": [
           {
            "line": {
             "colorbar": {
              "outlinewidth": 0,
              "ticks": ""
             }
            },
            "type": "parcoords"
           }
          ],
          "pie": [
           {
            "automargin": true,
            "type": "pie"
           }
          ],
          "scatter": [
           {
            "fillpattern": {
             "fillmode": "overlay",
             "size": 10,
             "solidity": 0.2
            },
            "type": "scatter"
           }
          ],
          "scatter3d": [
           {
            "line": {
             "colorbar": {
              "outlinewidth": 0,
              "ticks": ""
             }
            },
            "marker": {
             "colorbar": {
              "outlinewidth": 0,
              "ticks": ""
             }
            },
            "type": "scatter3d"
           }
          ],
          "scattercarpet": [
           {
            "marker": {
             "colorbar": {
              "outlinewidth": 0,
              "ticks": ""
             }
            },
            "type": "scattercarpet"
           }
          ],
          "scattergeo": [
           {
            "marker": {
             "colorbar": {
              "outlinewidth": 0,
              "ticks": ""
             }
            },
            "type": "scattergeo"
           }
          ],
          "scattergl": [
           {
            "marker": {
             "colorbar": {
              "outlinewidth": 0,
              "ticks": ""
             }
            },
            "type": "scattergl"
           }
          ],
          "scattermapbox": [
           {
            "marker": {
             "colorbar": {
              "outlinewidth": 0,
              "ticks": ""
             }
            },
            "type": "scattermapbox"
           }
          ],
          "scatterpolar": [
           {
            "marker": {
             "colorbar": {
              "outlinewidth": 0,
              "ticks": ""
             }
            },
            "type": "scatterpolar"
           }
          ],
          "scatterpolargl": [
           {
            "marker": {
             "colorbar": {
              "outlinewidth": 0,
              "ticks": ""
             }
            },
            "type": "scatterpolargl"
           }
          ],
          "scatterternary": [
           {
            "marker": {
             "colorbar": {
              "outlinewidth": 0,
              "ticks": ""
             }
            },
            "type": "scatterternary"
           }
          ],
          "surface": [
           {
            "colorbar": {
             "outlinewidth": 0,
             "ticks": ""
            },
            "colorscale": [
             [
              0,
              "#0d0887"
             ],
             [
              0.1111111111111111,
              "#46039f"
             ],
             [
              0.2222222222222222,
              "#7201a8"
             ],
             [
              0.3333333333333333,
              "#9c179e"
             ],
             [
              0.4444444444444444,
              "#bd3786"
             ],
             [
              0.5555555555555556,
              "#d8576b"
             ],
             [
              0.6666666666666666,
              "#ed7953"
             ],
             [
              0.7777777777777778,
              "#fb9f3a"
             ],
             [
              0.8888888888888888,
              "#fdca26"
             ],
             [
              1,
              "#f0f921"
             ]
            ],
            "type": "surface"
           }
          ],
          "table": [
           {
            "cells": {
             "fill": {
              "color": "#EBF0F8"
             },
             "line": {
              "color": "white"
             }
            },
            "header": {
             "fill": {
              "color": "#C8D4E3"
             },
             "line": {
              "color": "white"
             }
            },
            "type": "table"
           }
          ]
         },
         "layout": {
          "annotationdefaults": {
           "arrowcolor": "#2a3f5f",
           "arrowhead": 0,
           "arrowwidth": 1
          },
          "autotypenumbers": "strict",
          "coloraxis": {
           "colorbar": {
            "outlinewidth": 0,
            "ticks": ""
           }
          },
          "colorscale": {
           "diverging": [
            [
             0,
             "#8e0152"
            ],
            [
             0.1,
             "#c51b7d"
            ],
            [
             0.2,
             "#de77ae"
            ],
            [
             0.3,
             "#f1b6da"
            ],
            [
             0.4,
             "#fde0ef"
            ],
            [
             0.5,
             "#f7f7f7"
            ],
            [
             0.6,
             "#e6f5d0"
            ],
            [
             0.7,
             "#b8e186"
            ],
            [
             0.8,
             "#7fbc41"
            ],
            [
             0.9,
             "#4d9221"
            ],
            [
             1,
             "#276419"
            ]
           ],
           "sequential": [
            [
             0,
             "#0d0887"
            ],
            [
             0.1111111111111111,
             "#46039f"
            ],
            [
             0.2222222222222222,
             "#7201a8"
            ],
            [
             0.3333333333333333,
             "#9c179e"
            ],
            [
             0.4444444444444444,
             "#bd3786"
            ],
            [
             0.5555555555555556,
             "#d8576b"
            ],
            [
             0.6666666666666666,
             "#ed7953"
            ],
            [
             0.7777777777777778,
             "#fb9f3a"
            ],
            [
             0.8888888888888888,
             "#fdca26"
            ],
            [
             1,
             "#f0f921"
            ]
           ],
           "sequentialminus": [
            [
             0,
             "#0d0887"
            ],
            [
             0.1111111111111111,
             "#46039f"
            ],
            [
             0.2222222222222222,
             "#7201a8"
            ],
            [
             0.3333333333333333,
             "#9c179e"
            ],
            [
             0.4444444444444444,
             "#bd3786"
            ],
            [
             0.5555555555555556,
             "#d8576b"
            ],
            [
             0.6666666666666666,
             "#ed7953"
            ],
            [
             0.7777777777777778,
             "#fb9f3a"
            ],
            [
             0.8888888888888888,
             "#fdca26"
            ],
            [
             1,
             "#f0f921"
            ]
           ]
          },
          "colorway": [
           "#636efa",
           "#EF553B",
           "#00cc96",
           "#ab63fa",
           "#FFA15A",
           "#19d3f3",
           "#FF6692",
           "#B6E880",
           "#FF97FF",
           "#FECB52"
          ],
          "font": {
           "color": "#2a3f5f"
          },
          "geo": {
           "bgcolor": "white",
           "lakecolor": "white",
           "landcolor": "#E5ECF6",
           "showlakes": true,
           "showland": true,
           "subunitcolor": "white"
          },
          "hoverlabel": {
           "align": "left"
          },
          "hovermode": "closest",
          "mapbox": {
           "style": "light"
          },
          "paper_bgcolor": "white",
          "plot_bgcolor": "#E5ECF6",
          "polar": {
           "angularaxis": {
            "gridcolor": "white",
            "linecolor": "white",
            "ticks": ""
           },
           "bgcolor": "#E5ECF6",
           "radialaxis": {
            "gridcolor": "white",
            "linecolor": "white",
            "ticks": ""
           }
          },
          "scene": {
           "xaxis": {
            "backgroundcolor": "#E5ECF6",
            "gridcolor": "white",
            "gridwidth": 2,
            "linecolor": "white",
            "showbackground": true,
            "ticks": "",
            "zerolinecolor": "white"
           },
           "yaxis": {
            "backgroundcolor": "#E5ECF6",
            "gridcolor": "white",
            "gridwidth": 2,
            "linecolor": "white",
            "showbackground": true,
            "ticks": "",
            "zerolinecolor": "white"
           },
           "zaxis": {
            "backgroundcolor": "#E5ECF6",
            "gridcolor": "white",
            "gridwidth": 2,
            "linecolor": "white",
            "showbackground": true,
            "ticks": "",
            "zerolinecolor": "white"
           }
          },
          "shapedefaults": {
           "line": {
            "color": "#2a3f5f"
           }
          },
          "ternary": {
           "aaxis": {
            "gridcolor": "white",
            "linecolor": "white",
            "ticks": ""
           },
           "baxis": {
            "gridcolor": "white",
            "linecolor": "white",
            "ticks": ""
           },
           "bgcolor": "#E5ECF6",
           "caxis": {
            "gridcolor": "white",
            "linecolor": "white",
            "ticks": ""
           }
          },
          "title": {
           "x": 0.05
          },
          "xaxis": {
           "automargin": true,
           "gridcolor": "white",
           "linecolor": "white",
           "ticks": "",
           "title": {
            "standoff": 15
           },
           "zerolinecolor": "white",
           "zerolinewidth": 2
          },
          "yaxis": {
           "automargin": true,
           "gridcolor": "white",
           "linecolor": "white",
           "ticks": "",
           "title": {
            "standoff": 15
           },
           "zerolinecolor": "white",
           "zerolinewidth": 2
          }
         }
        },
        "xaxis": {
         "anchor": "y",
         "categoryarray": [
          "Cancelado",
          "Ativo"
         ],
         "categoryorder": "array",
         "domain": [
          0,
          1
         ],
         "title": {
          "text": "status_assinatura"
         }
        },
        "yaxis": {
         "anchor": "x",
         "domain": [
          0,
          1
         ],
         "title": {
          "text": "count"
         }
        }
       }
      }
     },
     "metadata": {},
     "output_type": "display_data"
    }
   ],
   "source": [
    "#Agora, é necessário verificar os gráficos, comparando-os com a coluna \"status_assinatura\"\n",
    "for coluna in tabela.columns:\n",
    "    grafico = px.histogram(tabela, coluna, color = \"status_assinatura\")\n",
    "    grafico.show()"
   ]
  },
  {
   "cell_type": "code",
   "execution_count": null,
   "metadata": {},
   "outputs": [],
   "source": [
    "#De acordo com a análise feita para cada gráfico, não é possível visualizar algo que salte os olhos\n",
    "#Logo, o problema da empresa está em algo mais específico, e não necessáriamente com os dados utilizados"
   ]
  }
 ],
 "metadata": {
  "kernelspec": {
   "display_name": "Python 3",
   "language": "python",
   "name": "python3"
  },
  "language_info": {
   "codemirror_mode": {
    "name": "ipython",
    "version": 3
   },
   "file_extension": ".py",
   "mimetype": "text/x-python",
   "name": "python",
   "nbconvert_exporter": "python",
   "pygments_lexer": "ipython3",
   "version": "3.12.6"
  }
 },
 "nbformat": 4,
 "nbformat_minor": 2
}
